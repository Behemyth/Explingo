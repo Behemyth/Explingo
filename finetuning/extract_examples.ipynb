{
 "cells": [
  {
   "cell_type": "code",
   "execution_count": 3,
   "id": "initial_id",
   "metadata": {
    "collapsed": true,
    "ExecuteTime": {
     "end_time": "2024-07-24T21:08:20.360724Z",
     "start_time": "2024-07-24T21:08:20.356725Z"
    }
   },
   "outputs": [],
   "source": [
    "import json\n",
    "\n",
    "def parse_convo(convo):\n",
    "  exp = convo['messages'][1]['content']\n",
    "  desc = convo['messages'][2]['content']\n",
    "  \n",
    "  return {\"explanation\":exp, \n",
    "          \"context\":\"The ML model predicts house prices\",\n",
    "          \"explanation_format\":\"SHAP feature contribution in (feature_name, feature_value, contribution) format\",\n",
    "          \"description\":desc,\n",
    "          \"bad_description\":\"\"}\n",
    "\n",
    "training_data = json.load(open(\"finetuning_data.json\", \"r\"))\n",
    "examples = []\n",
    "for convo in training_data:\n",
    "  examples.append(parse_convo(convo))\n",
    "\n"
   ]
  },
  {
   "cell_type": "code",
   "outputs": [],
   "source": [
    "with open(\"examples.json\", \"w\") as f:\n",
    "  json.dump(examples, f, indent=2)"
   ],
   "metadata": {
    "collapsed": false,
    "ExecuteTime": {
     "end_time": "2024-07-24T21:08:24.461313Z",
     "start_time": "2024-07-24T21:08:24.457760Z"
    }
   },
   "id": "389607e3211125c",
   "execution_count": 4
  },
  {
   "cell_type": "code",
   "outputs": [],
   "source": [],
   "metadata": {
    "collapsed": false,
    "ExecuteTime": {
     "end_time": "2024-07-24T21:07:14.839965Z",
     "start_time": "2024-07-24T21:07:14.837501Z"
    }
   },
   "id": "ae31f15615cc324",
   "execution_count": 2
  }
 ],
 "metadata": {
  "kernelspec": {
   "display_name": "Python 3",
   "language": "python",
   "name": "python3"
  },
  "language_info": {
   "codemirror_mode": {
    "name": "ipython",
    "version": 2
   },
   "file_extension": ".py",
   "mimetype": "text/x-python",
   "name": "python",
   "nbconvert_exporter": "python",
   "pygments_lexer": "ipython2",
   "version": "2.7.6"
  }
 },
 "nbformat": 4,
 "nbformat_minor": 5
}
