{
 "cells": [
  {
   "cell_type": "code",
   "outputs": [],
   "source": [
    "%matplotlib inline\n",
    "\n",
    "import pyarrow.parquet as pq\n",
    "import pandas as pd\n",
    "import seaborn as sns\n",
    "from sklearn.model_selection import train_test_split"
   ],
   "metadata": {
    "collapsed": false,
    "ExecuteTime": {
     "end_time": "2024-07-17T18:26:28.818720900Z",
     "start_time": "2024-07-17T18:26:28.732577800Z"
    }
   },
   "id": "bd8423fea1bde3b1",
   "execution_count": 53
  },
  {
   "cell_type": "code",
   "execution_count": 54,
   "id": "initial_id",
   "metadata": {
    "collapsed": true,
    "ExecuteTime": {
     "end_time": "2024-07-17T18:26:28.820787500Z",
     "start_time": "2024-07-17T18:26:28.749928600Z"
    }
   },
   "outputs": [],
   "source": [
    "df = pq.read_table('PDFMalware2022.parquet').to_pandas()\n",
    "df = df.drop(columns=\"Header\")"
   ]
  },
  {
   "cell_type": "code",
   "outputs": [
    {
     "data": {
      "text/plain": "                                            FileName  PdfSize  MetadataSize  \\\n0  aedaf3c5428a2e3ba600c44b96ad78dfdf8ed76e7df129...      8.0         180.0   \n1  fe767fb2584a10c010626263ea950643ac25f6ca24628f...     15.0         224.0   \n2  544c5223ee301affad514b6fa585b3191625aba0a7222b...      4.0         468.0   \n3  669772e626deccb9cfb7eb6a61e13d248d0ea08f1abe15...     17.0         250.0   \n4  e434c884f45a691b0bf33d765f61794007eb0b8bb9f590...      7.0         252.0   \n\n   Pages  XrefLength  TitleCharacters  isEncrypted  EmbeddedFiles Images Text  \\\n0    1.0        11.0              0.0          0.0            0.0      0   No   \n1    0.0        20.0              7.0          0.0            0.0      0   No   \n2    2.0        13.0             16.0          0.0            0.0      0  Yes   \n3    1.0        15.0              0.0          0.0            0.0      0   No   \n4    3.0        16.0             45.0          0.0            0.0      0  Yes   \n\n   ... AA OpenAction  Acroform JBIG2Decode RichMedia  Launch EmbeddedFile XFA  \\\n0  ...  0          1         0           0         0       0            0   0   \n1  ...  0          0         1           0         0       0            8   1   \n2  ...  0          1         0           0         0       0            0   0   \n3  ...  0          1         1           0         0       0            0   0   \n4  ...  0          1         0           0         0       0            0   0   \n\n   Colors      Class  \n0     0.0  Malicious  \n1     0.0  Malicious  \n2     0.0  Malicious  \n3     0.0  Malicious  \n4     0.0  Malicious  \n\n[5 rows x 32 columns]",
      "text/html": "<div>\n<style scoped>\n    .dataframe tbody tr th:only-of-type {\n        vertical-align: middle;\n    }\n\n    .dataframe tbody tr th {\n        vertical-align: top;\n    }\n\n    .dataframe thead th {\n        text-align: right;\n    }\n</style>\n<table border=\"1\" class=\"dataframe\">\n  <thead>\n    <tr style=\"text-align: right;\">\n      <th></th>\n      <th>FileName</th>\n      <th>PdfSize</th>\n      <th>MetadataSize</th>\n      <th>Pages</th>\n      <th>XrefLength</th>\n      <th>TitleCharacters</th>\n      <th>isEncrypted</th>\n      <th>EmbeddedFiles</th>\n      <th>Images</th>\n      <th>Text</th>\n      <th>...</th>\n      <th>AA</th>\n      <th>OpenAction</th>\n      <th>Acroform</th>\n      <th>JBIG2Decode</th>\n      <th>RichMedia</th>\n      <th>Launch</th>\n      <th>EmbeddedFile</th>\n      <th>XFA</th>\n      <th>Colors</th>\n      <th>Class</th>\n    </tr>\n  </thead>\n  <tbody>\n    <tr>\n      <th>0</th>\n      <td>aedaf3c5428a2e3ba600c44b96ad78dfdf8ed76e7df129...</td>\n      <td>8.0</td>\n      <td>180.0</td>\n      <td>1.0</td>\n      <td>11.0</td>\n      <td>0.0</td>\n      <td>0.0</td>\n      <td>0.0</td>\n      <td>0</td>\n      <td>No</td>\n      <td>...</td>\n      <td>0</td>\n      <td>1</td>\n      <td>0</td>\n      <td>0</td>\n      <td>0</td>\n      <td>0</td>\n      <td>0</td>\n      <td>0</td>\n      <td>0.0</td>\n      <td>Malicious</td>\n    </tr>\n    <tr>\n      <th>1</th>\n      <td>fe767fb2584a10c010626263ea950643ac25f6ca24628f...</td>\n      <td>15.0</td>\n      <td>224.0</td>\n      <td>0.0</td>\n      <td>20.0</td>\n      <td>7.0</td>\n      <td>0.0</td>\n      <td>0.0</td>\n      <td>0</td>\n      <td>No</td>\n      <td>...</td>\n      <td>0</td>\n      <td>0</td>\n      <td>1</td>\n      <td>0</td>\n      <td>0</td>\n      <td>0</td>\n      <td>8</td>\n      <td>1</td>\n      <td>0.0</td>\n      <td>Malicious</td>\n    </tr>\n    <tr>\n      <th>2</th>\n      <td>544c5223ee301affad514b6fa585b3191625aba0a7222b...</td>\n      <td>4.0</td>\n      <td>468.0</td>\n      <td>2.0</td>\n      <td>13.0</td>\n      <td>16.0</td>\n      <td>0.0</td>\n      <td>0.0</td>\n      <td>0</td>\n      <td>Yes</td>\n      <td>...</td>\n      <td>0</td>\n      <td>1</td>\n      <td>0</td>\n      <td>0</td>\n      <td>0</td>\n      <td>0</td>\n      <td>0</td>\n      <td>0</td>\n      <td>0.0</td>\n      <td>Malicious</td>\n    </tr>\n    <tr>\n      <th>3</th>\n      <td>669772e626deccb9cfb7eb6a61e13d248d0ea08f1abe15...</td>\n      <td>17.0</td>\n      <td>250.0</td>\n      <td>1.0</td>\n      <td>15.0</td>\n      <td>0.0</td>\n      <td>0.0</td>\n      <td>0.0</td>\n      <td>0</td>\n      <td>No</td>\n      <td>...</td>\n      <td>0</td>\n      <td>1</td>\n      <td>1</td>\n      <td>0</td>\n      <td>0</td>\n      <td>0</td>\n      <td>0</td>\n      <td>0</td>\n      <td>0.0</td>\n      <td>Malicious</td>\n    </tr>\n    <tr>\n      <th>4</th>\n      <td>e434c884f45a691b0bf33d765f61794007eb0b8bb9f590...</td>\n      <td>7.0</td>\n      <td>252.0</td>\n      <td>3.0</td>\n      <td>16.0</td>\n      <td>45.0</td>\n      <td>0.0</td>\n      <td>0.0</td>\n      <td>0</td>\n      <td>Yes</td>\n      <td>...</td>\n      <td>0</td>\n      <td>1</td>\n      <td>0</td>\n      <td>0</td>\n      <td>0</td>\n      <td>0</td>\n      <td>0</td>\n      <td>0</td>\n      <td>0.0</td>\n      <td>Malicious</td>\n    </tr>\n  </tbody>\n</table>\n<p>5 rows × 32 columns</p>\n</div>"
     },
     "execution_count": 55,
     "metadata": {},
     "output_type": "execute_result"
    }
   ],
   "source": [
    "df.head()"
   ],
   "metadata": {
    "collapsed": false,
    "ExecuteTime": {
     "end_time": "2024-07-17T18:26:28.869393100Z",
     "start_time": "2024-07-17T18:26:28.777586200Z"
    }
   },
   "id": "e0ef8a05639dca8c",
   "execution_count": 55
  },
  {
   "cell_type": "code",
   "outputs": [
    {
     "data": {
      "text/plain": "Class\nMalicious    5555\nBenign       4468\nName: count, dtype: int64"
     },
     "execution_count": 56,
     "metadata": {},
     "output_type": "execute_result"
    }
   ],
   "source": [
    "df['Class'].value_counts()"
   ],
   "metadata": {
    "collapsed": false,
    "ExecuteTime": {
     "end_time": "2024-07-17T18:26:28.872400900Z",
     "start_time": "2024-07-17T18:26:28.810152200Z"
    }
   },
   "id": "6cdefa449bafc45c",
   "execution_count": 56
  },
  {
   "cell_type": "code",
   "outputs": [],
   "source": [
    "df.set_index('FileName', inplace=True)"
   ],
   "metadata": {
    "collapsed": false,
    "ExecuteTime": {
     "end_time": "2024-07-17T18:26:28.897095800Z",
     "start_time": "2024-07-17T18:26:28.826790300Z"
    }
   },
   "id": "e3c673032273b3ec",
   "execution_count": 57
  },
  {
   "cell_type": "code",
   "outputs": [],
   "source": [
    "from pyreal.transformers import Transformer, OneHotEncoder, MultiTypeImputer, fit_transformers, run_transformers\n",
    "\n",
    "cat_cols = [\"Text\", \"Header\", \"Class\"]\n",
    "cols_to_fix = df.select_dtypes(exclude='number').columns\n",
    "cols_to_fix = [col for col in cols_to_fix if col not in cat_cols]\n",
    "\n",
    "for col in cols_to_fix:\n",
    "    df[col] = pd.to_numeric(df[col], errors='coerce')\n",
    "\n",
    "df['Text'] = df['Text'].apply(lambda x: 1 if x == 'Yes' else 0 if x == 'No' else None)\n",
    "    \n",
    "X_train, X_test, y_train, y_test = train_test_split(df.drop(columns='Class'), df['Class'], test_size=0.2, random_state=42)\n",
    "\n",
    "imputer = MultiTypeImputer()\n",
    "#ohe = OneHotEncoder(columns=cat_cols)\n",
    "#text_fixer = Transformer.from_transform_function(clean_text_column)\n",
    "transformers = [imputer]\n",
    "\n",
    "X_train = fit_transformers(transformers, X_train)\n",
    "X_test = run_transformers(transformers, X_test)"
   ],
   "metadata": {
    "collapsed": false,
    "ExecuteTime": {
     "end_time": "2024-07-17T18:26:29.016467300Z",
     "start_time": "2024-07-17T18:26:28.843349900Z"
    }
   },
   "id": "837a05d853e1cc0a",
   "execution_count": 58
  },
  {
   "cell_type": "code",
   "outputs": [
    {
     "data": {
      "text/plain": "<IPython.core.display.HTML object>",
      "text/html": ""
     },
     "metadata": {},
     "output_type": "display_data"
    },
    {
     "data": {
      "text/plain": "                                                                    \n                                                                    \nInitiated  . . . . . . . . . . . . . . . . . .              14:26:29\nStatus     . . . . . . . . . . . . . . . . . .  Loading Dependencies\nEstimator  . . . . . . . . . . . . . . . . . .     Compiling Library",
      "text/html": "<div>\n<style scoped>\n    .dataframe tbody tr th:only-of-type {\n        vertical-align: middle;\n    }\n\n    .dataframe tbody tr th {\n        vertical-align: top;\n    }\n\n    .dataframe thead th {\n        text-align: right;\n    }\n</style>\n<table border=\"1\" class=\"dataframe\">\n  <thead>\n    <tr style=\"text-align: right;\">\n      <th></th>\n      <th></th>\n      <th></th>\n    </tr>\n    <tr>\n      <th></th>\n      <th></th>\n      <th></th>\n    </tr>\n  </thead>\n  <tbody>\n    <tr>\n      <th>Initiated</th>\n      <td>. . . . . . . . . . . . . . . . . .</td>\n      <td>14:26:29</td>\n    </tr>\n    <tr>\n      <th>Status</th>\n      <td>. . . . . . . . . . . . . . . . . .</td>\n      <td>Loading Dependencies</td>\n    </tr>\n    <tr>\n      <th>Estimator</th>\n      <td>. . . . . . . . . . . . . . . . . .</td>\n      <td>Compiling Library</td>\n    </tr>\n  </tbody>\n</table>\n</div>"
     },
     "metadata": {},
     "output_type": "display_data"
    },
    {
     "data": {
      "text/plain": "<IPython.core.display.HTML object>",
      "text/html": ""
     },
     "metadata": {},
     "output_type": "display_data"
    },
    {
     "data": {
      "text/plain": "Processing:   0%|          | 0/61 [00:00<?, ?it/s]",
      "application/vnd.jupyter.widget-view+json": {
       "version_major": 2,
       "version_minor": 0,
       "model_id": "9eef80f8c4c5435787388d46efe06ed7"
      }
     },
     "metadata": {},
     "output_type": "display_data"
    }
   ],
   "source": [
    "import pycaret.classification as pc\n",
    "\n",
    "df_train = X_train.copy()\n",
    "df_train['Class'] = y_train\n",
    "\n",
    "exp = pc.ClassificationExperiment()\n",
    "\n",
    "exp.setup(data=df_train, target='Class')\n",
    "best = exp.compare_models(sort='AUC')"
   ],
   "metadata": {
    "collapsed": false,
    "is_executing": true,
    "ExecuteTime": {
     "start_time": "2024-07-17T18:26:28.950694100Z"
    }
   },
   "id": "a716bdde835a0c91",
   "execution_count": null
  },
  {
   "cell_type": "code",
   "outputs": [],
   "source": [
    "best"
   ],
   "metadata": {
    "collapsed": false,
    "is_executing": true
   },
   "id": "1b49ce6f6fcb4d1c",
   "execution_count": null
  },
  {
   "cell_type": "code",
   "outputs": [],
   "source": [
    "exp.plot_model(best, plot=\"feature\")"
   ],
   "metadata": {
    "collapsed": false,
    "is_executing": true
   },
   "id": "33e33dc053168bbf",
   "execution_count": null
  },
  {
   "cell_type": "code",
   "outputs": [],
   "source": [
    "preds = exp.predict_model(best, data=X_test, raw_score=True)[\"prediction_label\"]\n",
    "\n",
    "# plot a confusion matrix of preds vs y_test\n",
    "from sklearn.metrics import confusion_matrix\n",
    "\n",
    "cm = confusion_matrix(y_test, preds)\n",
    "sns.heatmap(cm, annot=True, fmt='d')"
   ],
   "metadata": {
    "collapsed": false,
    "is_executing": true
   },
   "id": "c7e6f748d413abf1",
   "execution_count": null
  },
  {
   "cell_type": "code",
   "outputs": [],
   "source": [
    "preds = best.predict(X_test)\n",
    "# convert t_test from [\"Benign\", \"Malware\"] to [0, 1]\n",
    "y_test = y_test.apply(lambda x: 0 if x == \"Benign\" else 1)\n",
    "cm = confusion_matrix(y_test, preds)\n",
    "sns.heatmap(cm, annot=True, fmt='d')"
   ],
   "metadata": {
    "collapsed": false,
    "is_executing": true
   },
   "id": "c02e63409b4b6620",
   "execution_count": null
  },
  {
   "cell_type": "code",
   "outputs": [],
   "source": [
    "exp.get_config('pipeline')"
   ],
   "metadata": {
    "collapsed": false,
    "is_executing": true
   },
   "id": "b0e9a738e3127a10",
   "execution_count": null
  },
  {
   "cell_type": "code",
   "outputs": [],
   "source": [
    "feature_descriptions = {\n",
    "    \"PdfSize\": \"Total size\",\n",
    "    \"MetadataSize\": \"Size of metadata\",\n",
    "    \"Pages\": \"Number of pages\",\n",
    "    \"XrefLength\": \"Number of entries in Xref tables\",\n",
    "    \"TitleCharacters\": \"Number of characters in the title\",\n",
    "    \"isEncrypted\": \"Document encryption status\",\n",
    "    \"EmbeddedFiles\": \"Number of embedded files\",\n",
    "    \"Images\": \"Number of images\",\n",
    "    \"Text\": \"Presence of text inside the PDF\",\n",
    "    \"Header\": \"Presence of a valid PDF header\",\n",
    "    \"Obj\": \"Number of total objects inside the PDF\",\n",
    "    \"Endobj\": \"Number of endobj keywords\",\n",
    "    \"Stream\": \"Number of streams in the PDF\",\n",
    "    \"Endstream\": \"Number of endstreams keywords\",\n",
    "    \"Xref\": \"Number of Xref tables\",\n",
    "    \"Trailer\": \"Number of trailers inside the PDF\",\n",
    "    \"StartXref\": \"Number of startxref keywords\",\n",
    "    \"PageNo\": \"Number of pages\",\n",
    "    \"Encrypt\": \"Document encryption status\",\n",
    "    \"ObjStm\": \"Number of stream objects (ObjStm)\",\n",
    "    \"JS\": \"Number of Javascript keywords\",\n",
    "    \"Javascript\": \"Number of Javascript keywords\",\n",
    "    \"AA\": \"Number of AA keywords\",\n",
    "    \"OpenAction\": \"Number of OpenAction keywords\",\n",
    "    \"Acroform\": \"Number of Acroform tags\",\n",
    "    \"JBIG2Decode\": \"Presence of JBig2Decode filter\",\n",
    "    \"RichMedia\": \"Number of RichMedia keywords\",\n",
    "    \"Launch\": \"Number of Launch keywords\",\n",
    "    \"EmbeddedFile\": \"Number of embedded files\",\n",
    "    \"XFA\": \"Number of XFA tags\",\n",
    "    \"Colors\": \"Number of unique colors used\",\n",
    "}"
   ],
   "metadata": {
    "collapsed": false,
    "is_executing": true
   },
   "id": "b19ec482e3d7973b",
   "execution_count": null
  },
  {
   "cell_type": "code",
   "outputs": [],
   "source": [
    "from pyreal import RealApp\n",
    "\n",
    "app = RealApp(best, transformers=transformers, X_train_orig=X_train, y_train=y_train.apply(lambda x: 0 if x == \"Benign\" else 1), feature_descriptions=feature_descriptions)\n",
    "\n",
    "importances = app.produce_feature_importance()"
   ],
   "metadata": {
    "collapsed": false,
    "is_executing": true
   },
   "id": "6e31e80465f4ad30",
   "execution_count": null
  },
  {
   "cell_type": "code",
   "outputs": [],
   "source": [
    "from pyreal.visualize import feature_bar_plot\n",
    "\n",
    "feature_bar_plot(importances)"
   ],
   "metadata": {
    "collapsed": false,
    "is_executing": true
   },
   "id": "9af4201c4f0d80de",
   "execution_count": null
  },
  {
   "cell_type": "code",
   "outputs": [],
   "source": [],
   "metadata": {
    "collapsed": false,
    "is_executing": true
   },
   "id": "c44e90742e6a8b7d",
   "execution_count": null
  }
 ],
 "metadata": {
  "kernelspec": {
   "display_name": "Python 3",
   "language": "python",
   "name": "python3"
  },
  "language_info": {
   "codemirror_mode": {
    "name": "ipython",
    "version": 2
   },
   "file_extension": ".py",
   "mimetype": "text/x-python",
   "name": "python",
   "nbconvert_exporter": "python",
   "pygments_lexer": "ipython2",
   "version": "2.7.6"
  }
 },
 "nbformat": 4,
 "nbformat_minor": 5
}
