{
 "cells": [
  {
   "metadata": {
    "ExecuteTime": {
     "end_time": "2024-08-30T13:49:33.690049Z",
     "start_time": "2024-08-30T13:49:31.614221Z"
    }
   },
   "cell_type": "code",
   "source": [
    "import metrics\n",
    "import dspy\n",
    "import os\n",
    "import yaml\n",
    "import json\n",
    "from sklearn.metrics import confusion_matrix, ConfusionMatrixDisplay\n",
    "import random\n",
    "import examples\n",
    "\n",
    "with open(os.path.join(\"..\", \"keys.yaml\"), \"r\") as file:\n",
    "    config = yaml.safe_load(file)\n",
    "    openai_api_key = config[\"openai_api_key\"]\n",
    "    \n",
    "grader = dspy.OpenAI(\n",
    "            model=\"gpt-4o\",\n",
    "            model_type=\"chat\",\n",
    "            max_tokens=2000,\n",
    "            api_key=openai_api_key,\n",
    "            temperature=0.3,\n",
    "        )\n",
    "    \n",
    "os.environ[\"DSP_CACHEBOOL\"] = \"False\"\n",
    "\n",
    "max_score = metrics.MAX_SCORE"
   ],
   "id": "d5efeb7510b98046",
   "outputs": [],
   "execution_count": 1
  },
  {
   "metadata": {
    "ExecuteTime": {
     "end_time": "2024-08-30T13:49:33.695178Z",
     "start_time": "2024-08-30T13:49:33.691564Z"
    }
   },
   "cell_type": "code",
   "source": [
    "empty_input = dspy.Example()"
   ],
   "id": "d57e310a4b23ed8f",
   "outputs": [],
   "execution_count": 2
  },
  {
   "metadata": {},
   "cell_type": "markdown",
   "source": [
    "# Test 1: Conciseness"
   ],
   "id": "a98751c87bdae1f5"
  },
  {
   "metadata": {
    "ExecuteTime": {
     "end_time": "2024-08-30T13:49:33.701593Z",
     "start_time": "2024-08-30T13:49:33.696183Z"
    }
   },
   "cell_type": "code",
   "source": [
    "short_output = dspy.Prediction(narrative='word ')\n",
    "short_result = metrics.conciseness(empty_input, short_output, max_optimal_length=10)\n",
    "assert short_result == max_score, short_result\n",
    "\n",
    "long_output = dspy.Prediction(narrative='word ' * 21)\n",
    "long_result = metrics.conciseness(empty_input, long_output, max_optimal_length=10)\n",
    "assert long_result == 0, long_result\n",
    "\n",
    "med_output = dspy.Prediction(narrative='word ' * 15)\n",
    "med_result = metrics.conciseness(empty_input, med_output, max_optimal_length=10)\n",
    "assert med_result == max_score / 2, med_result"
   ],
   "id": "73a06bbd8dab9e9e",
   "outputs": [],
   "execution_count": 3
  },
  {
   "metadata": {},
   "cell_type": "markdown",
   "source": [
    "# Test 2: Accuracy"
   ],
   "id": "57d5cb5147ddac36"
  },
  {
   "metadata": {
    "ExecuteTime": {
     "end_time": "2024-08-30T13:49:34.567184Z",
     "start_time": "2024-08-30T13:49:33.702600Z"
    }
   },
   "cell_type": "code",
   "source": [
    "test_input = dspy.Example(explanation='(Size, 5, 10), (Color, Red, -8)', \n",
    "                          explanation_format='(feature_name, feature_value, SHAP contribution)')\n",
    "\n",
    "accurate_output = dspy.Prediction(narrative='The size being 5 increased the prediction by 10. The color being red decreased the prediction by 8.')\n",
    "accurate_result = metrics.accuracy(test_input, accurate_output, grader=grader)\n",
    "assert accurate_result == max_score, accurate_result\n",
    "\n",
    "inaccurate_output = dspy.Prediction(narrative='The size being 4 increased the prediction by 11. The color being red decreased the prediction by 9.')\n",
    "inaccurate_result = metrics.accuracy(test_input, inaccurate_output, grader=grader)\n",
    "assert inaccurate_result == 0, inaccurate_result\n",
    "\n",
    "incomplete_but_accurate_output = dspy.Prediction(narrative='The size being 5 increased the prediction by 10.')\n",
    "incomplete_but_accurate_result = metrics.accuracy(test_input, incomplete_but_accurate_output, grader=grader)\n",
    "assert incomplete_but_accurate_result == max_score, incomplete_but_accurate_result"
   ],
   "id": "5325ca464e28753e",
   "outputs": [],
   "execution_count": 4
  },
  {
   "metadata": {
    "ExecuteTime": {
     "end_time": "2024-08-30T13:49:34.593810Z",
     "start_time": "2024-08-30T13:49:34.568190Z"
    }
   },
   "cell_type": "code",
   "source": [
    "grader.inspect_history(n=1)"
   ],
   "id": "9d97955cc0f6b915",
   "outputs": [
    {
     "name": "stdout",
     "output_type": "stream",
     "text": [
      "\n",
      "\n",
      "\n",
      "Assess a narrative based on a rubric.\n",
      "\n",
      "---\n",
      "\n",
      "Follow the following format.\n",
      "\n",
      "Question: ${question}\n",
      "\n",
      "Narrative: ${narrative}\n",
      "\n",
      "Rubric: ${rubric}\n",
      "\n",
      "Assessment: A single number from the options in the rubric. Provide only a single number with no other text.\n",
      "\n",
      "---\n",
      "\n",
      "Question:\n",
      "How accurate is the information in the narrative, based on the explanation given? A narrative can score 4 even if it is missing information as long as everything in the narrative is correct. Make sure the contribution direction is correct - positive contributions increase the output, negative contributions decrease the output.\n",
      "\n",
      "Explanation format: (feature_name, feature_value, SHAP contribution).\n",
      "Explanation: (Size, 5, 10), (Color, Red, -8)\n",
      "\n",
      "Narrative: The size being 5 increased the prediction by 10.\n",
      "\n",
      "Rubric: 0 - Contains one or more errors in value or contribution direction. 4 - Contains no errors, but may be missing information.\n",
      "\n",
      "Assessment: 4\n"
     ]
    },
    {
     "data": {
      "text/plain": "'\\n\\n\\nAssess a narrative based on a rubric.\\n\\n---\\n\\nFollow the following format.\\n\\nQuestion: ${question}\\n\\nNarrative: ${narrative}\\n\\nRubric: ${rubric}\\n\\nAssessment: A single number from the options in the rubric. Provide only a single number with no other text.\\n\\n---\\n\\nQuestion:\\nHow accurate is the information in the narrative, based on the explanation given? A narrative can score 4 even if it is missing information as long as everything in the narrative is correct. Make sure the contribution direction is correct - positive contributions increase the output, negative contributions decrease the output.\\n\\nExplanation format: (feature_name, feature_value, SHAP contribution).\\nExplanation: (Size, 5, 10), (Color, Red, -8)\\n\\nNarrative: The size being 5 increased the prediction by 10.\\n\\nRubric: 0 - Contains one or more errors in value or contribution direction. 4 - Contains no errors, but may be missing information.\\n\\nAssessment:\\x1b[32m 4\\x1b[0m\\n\\n\\n'"
     },
     "execution_count": 5,
     "metadata": {},
     "output_type": "execute_result"
    }
   ],
   "execution_count": 5
  },
  {
   "metadata": {
    "ExecuteTime": {
     "end_time": "2024-08-30T13:49:47.353322Z",
     "start_time": "2024-08-30T13:49:34.594818Z"
    }
   },
   "cell_type": "code",
   "source": [
    "accuracy_dataset = json.load(open(\"accuracy_tests.json\"))\n",
    "\n",
    "preds = []\n",
    "actuals = []\n",
    "for example in accuracy_dataset:\n",
    "    test_input = dspy.Example(explanation=example[\"explanation\"], explanation_format=example[\"explanation_format\"])\n",
    "    test_output = dspy.Prediction(narrative=example[\"narrative\"])\n",
    "    result = metrics.accuracy(test_input, test_output, grader)\n",
    "    preds.append(result)\n",
    "    actuals.append(example[\"accuracy_score\"])\n",
    "    if result != example[\"accuracy_score\"]:\n",
    "        print(f'Explanation: {example[\"explanation\"]}')\n",
    "        print(f'Output: {example[\"narrative\"]}')\n",
    "        print(f'Expected: {example[\"accuracy_score\"]}. Got: {result}')\n",
    "\n",
    "cm = confusion_matrix(actuals, preds, labels=[0.0, 4.0])\n",
    "disp = ConfusionMatrixDisplay(confusion_matrix=cm, display_labels=[0.0, 4.0])\n",
    "disp.plot()"
   ],
   "id": "68720a6634ec642e",
   "outputs": [
    {
     "name": "stdout",
     "output_type": "stream",
     "text": [
      "Explanation: (Quality of materials out of 10, 3, 560.46), (Size in sq ft, 1020, 909)\n",
      "Output: The house's quality of 3/10 increased the model's prediction by around 500, while its size of around 1000 sq ft increased it by about 900\n",
      "Expected: 4. Got: 0.0\n",
      "Explanation: (Number of streams, 1.00, 0.10), (Number of objects, 1.00, 0.10)\n",
      "Output: The file's number of streams increases the model's prediction by 10\n",
      "Expected: 0. Got: 4.0\n",
      "Explanation: (In a romantic relationship, yes, -2.00), (Family educational support, yes, 2.00), (Absences, high, -4.00)\n",
      "Output: Being in a romantic relationship decreases the student's likelihood of passing.\n",
      "Expected: 4. Got: 0.0\n"
     ]
    },
    {
     "data": {
      "text/plain": "<sklearn.metrics._plot.confusion_matrix.ConfusionMatrixDisplay at 0x21d8bf59b10>"
     },
     "execution_count": 6,
     "metadata": {},
     "output_type": "execute_result"
    },
    {
     "data": {
      "text/plain": "<Figure size 640x480 with 2 Axes>",
      "image/png": "[encoded data removed]"
     },
     "metadata": {},
     "output_type": "display_data"
    }
   ],
   "execution_count": 6
  },
  {
   "metadata": {},
   "cell_type": "markdown",
   "source": [
    "# Test 3: Completeness"
   ],
   "id": "583c04d26f9b3e7b"
  },
  {
   "metadata": {
    "ExecuteTime": {
     "end_time": "2024-08-30T13:49:50.290394Z",
     "start_time": "2024-08-30T13:49:47.353322Z"
    }
   },
   "cell_type": "code",
   "source": [
    "test_input = dspy.Example(explanation='(Size, 5, 10), (Color, Red, -8), (Shape, Square, 3)', \n",
    "                          explanation_format='(feature_name, feature_value, SHAP contribution)')\n",
    "\n",
    "complete_output = dspy.Prediction(narrative='The size being 5 increased the prediction by 10. The color being red decreased the prediction by 8. The shape being square increased the prediction by 3.')\n",
    "complete_result = metrics.completeness(test_input, complete_output, grader)\n",
    "assert complete_result == max_score, complete_result\n",
    "\n",
    "incomplete_output = dspy.Prediction(narrative='The size being 5 increased the prediction by 10')\n",
    "incomplete_result = metrics.completeness(test_input, incomplete_output, grader)\n",
    "assert incomplete_result == 0, incomplete_result"
   ],
   "id": "23379cf2fdd4aa59",
   "outputs": [],
   "execution_count": 7
  },
  {
   "metadata": {
    "ExecuteTime": {
     "end_time": "2024-08-30T13:51:47.683280Z",
     "start_time": "2024-08-30T13:49:50.290394Z"
    }
   },
   "cell_type": "code",
   "source": [
    "from collections import defaultdict\n",
    "\n",
    "completeness_dataset = json.load(open(\"completeness_tests.json\"))\n",
    "\n",
    "preds = []\n",
    "actuals = []\n",
    "rationalization_when_failing = defaultdict(int)\n",
    "for example in completeness_dataset:\n",
    "    test_input = dspy.Example(explanation=example[\"explanation\"], explanation_format=example[\"explanation_format\"])\n",
    "    test_output = dspy.Prediction(narrative=example[\"narrative\"])\n",
    "    result = metrics.completeness(test_input, test_output, grader)\n",
    "    preds.append(result)\n",
    "    actuals.append(example[\"completeness_score\"])\n",
    "    if result != example[\"completeness_score\"]:\n",
    "        print(f'Explanation: {example[\"explanation\"]}')\n",
    "        print(f'Output: {example[\"narrative\"]}')\n",
    "        print(f'Expected: {example[\"completeness_score\"]}. Got: {result}')\n",
    "\n",
    "cm = confusion_matrix(actuals, preds, labels=[0.0, 2.0, 4.0])\n",
    "disp = ConfusionMatrixDisplay(confusion_matrix=cm, display_labels=[0.0, 2.0, 4.0])\n",
    "disp.plot()"
   ],
   "id": "45e2591357b25792",
   "outputs": [
    {
     "name": "stdout",
     "output_type": "stream",
     "text": [
      "Explanation: (Type of foundation, Wood, -18650.67), (Physical locations within Ames city limits, Mitchel, -13510.92), (Three season porch area in square feet, 320.00, 9959.33)\n",
      "Output: The wood foundation and Mitchel location reduce the price, while the porch area of around 300 increases it.\n",
      "Expected: 4. Got: 2.0\n",
      "Explanation: (Type 1 finished square feet, 1369.00, 14641.53), (Evaluates the height of the basement, Ex, 13233.24), (Total square feet of basement area, 1686.00, 12138.28), (Second floor square feet, 0.00, -10142.29), (Rates the overall material and finish of the house, 8.00, 9655.79)\n",
      "Output: This house's relatively large type 1 finished square footage increased the predicted price by about $14,000. The house's excellent basement height increased the price by about $13,000. The relatively larger basement area increased the price by about $12,000. The absence of a second floor reduced the price by about $10,000. The house's good condition (rated 8/10) increased the price by about $10,000.\n",
      "Expected: 2. Got: 4.0\n"
     ]
    },
    {
     "data": {
      "text/plain": "<sklearn.metrics._plot.confusion_matrix.ConfusionMatrixDisplay at 0x21d8f462a10>"
     },
     "execution_count": 8,
     "metadata": {},
     "output_type": "execute_result"
    },
    {
     "data": {
      "text/plain": "<Figure size 640x480 with 2 Axes>",
      "image/png": "[encoded data removed]"
     },
     "metadata": {},
     "output_type": "display_data"
    }
   ],
   "execution_count": 8
  },
  {
   "metadata": {
    "ExecuteTime": {
     "end_time": "2024-08-30T13:51:47.689502Z",
     "start_time": "2024-08-30T13:51:47.683280Z"
    }
   },
   "cell_type": "code",
   "source": [
    "grader.inspect_history(n=1)"
   ],
   "id": "e7139317c1519015",
   "outputs": [
    {
     "name": "stdout",
     "output_type": "stream",
     "text": [
      "\n",
      "\n",
      "\n",
      "Assess a narrative based on a rubric.\n",
      "\n",
      "---\n",
      "\n",
      "Follow the following format.\n",
      "\n",
      "Question: ${question}\n",
      "\n",
      "Narrative: ${narrative}\n",
      "\n",
      "Rubric: ${rubric}\n",
      "\n",
      "Start by listing out all the features in the explanations, and then determine every feature is present in the narrative, along with its value and contribution direction. Feature-by-feature processing of the narrative.\n",
      "\n",
      "Assessment: A single number from the options in the rubric. Provide only a single number with no other text.\n",
      "\n",
      "---\n",
      "\n",
      "Question:\n",
      "How completely does the narrative below describe the explanation given in <<>>?\n",
      "Explanation format: SHAP feature contribution in (feature_name, feature_value, contribution) format.\n",
      "Explanation: <<(Number of past class failures, 0.00, 0.89), (Wants to take higher education, yes, 0.50), (Amount of free time after school (1-5), 4.00, -0.35), (School, GP, 0.33)>>\n",
      "\n",
      "Narrative: The student's lack of past class failures and desire for higher education significantly increase the predicted grade. However, the student's free time after school (rated 4/5) and school (GP) reputation slightly decrease the predicted grade.\n",
      "\n",
      "Rubric: 0 - One or more feature names from the explanation are not mentioned at all in the narrative. 2 - All features are mentioned, but not all feature values and/or contribution directions. 4 - All features are mentioned, and for each feature, includes at least an approximation of the feature's value and contribution direction.\n",
      "\n",
      "Start by listing out all the features in the explanations, and then determine every feature is present in the narrative, along with its value and contribution direction. Features in the explanation:\n",
      "1. Number of past class failures: feature_value = 0.00, contribution = 0.89\n",
      "2. Wants to take higher education: feature_value = yes, contribution = 0.50\n",
      "3. Amount of free time after school (1-5): feature_value = 4.00, contribution = -0.35\n",
      "4. School: feature_value = GP, contribution = 0.33\n",
      "\n",
      "Feature-by-feature processing of the narrative:\n",
      "1. Number of past class failures:\n",
      "   - Mentioned: Yes\n",
      "   - Value: 0.00 (lack of past class failures)\n",
      "   - Contribution direction: Positive (significantly increase)\n",
      "\n",
      "2. Wants to take higher education:\n",
      "   - Mentioned: Yes\n",
      "   - Value: Yes (desire for higher education)\n",
      "   - Contribution direction: Positive (significantly increase)\n",
      "\n",
      "3. Amount of free time after school (1-5):\n",
      "   - Mentioned: Yes\n",
      "   - Value: 4.00 (rated 4/5)\n",
      "   - Contribution direction: Negative (slightly decrease)\n",
      "\n",
      "4. School:\n",
      "   - Mentioned: Yes\n",
      "   - Value: GP\n",
      "   - Contribution direction: Negative (slightly decrease)\n",
      "\n",
      "Assessment: 4\n",
      "\n",
      "\n"
     ]
    },
    {
     "data": {
      "text/plain": "\"\\n\\n\\nAssess a narrative based on a rubric.\\n\\n---\\n\\nFollow the following format.\\n\\nQuestion: ${question}\\n\\nNarrative: ${narrative}\\n\\nRubric: ${rubric}\\n\\nStart by listing out all the features in the explanations, and then determine every feature is present in the narrative, along with its value and contribution direction. Feature-by-feature processing of the narrative.\\n\\nAssessment: A single number from the options in the rubric. Provide only a single number with no other text.\\n\\n---\\n\\nQuestion:\\nHow completely does the narrative below describe the explanation given in <<>>?\\nExplanation format: SHAP feature contribution in (feature_name, feature_value, contribution) format.\\nExplanation: <<(Number of past class failures, 0.00, 0.89), (Wants to take higher education, yes, 0.50), (Amount of free time after school (1-5), 4.00, -0.35), (School, GP, 0.33)>>\\n\\nNarrative: The student's lack of past class failures and desire for higher education significantly increase the predicted grade. However, the student's free time after school (rated 4/5) and school (GP) reputation slightly decrease the predicted grade.\\n\\nRubric: 0 - One or more feature names from the explanation are not mentioned at all in the narrative. 2 - All features are mentioned, but not all feature values and/or contribution directions. 4 - All features are mentioned, and for each feature, includes at least an approximation of the feature's value and contribution direction.\\n\\nStart by listing out all the features in the explanations, and then determine every feature is present in the narrative, along with its value and contribution direction.\\x1b[32m Features in the explanation:\\n1. Number of past class failures: feature_value = 0.00, contribution = 0.89\\n2. Wants to take higher education: feature_value = yes, contribution = 0.50\\n3. Amount of free time after school (1-5): feature_value = 4.00, contribution = -0.35\\n4. School: feature_value = GP, contribution = 0.33\\n\\nFeature-by-feature processing of the narrative:\\n1. Number of past class failures:\\n   - Mentioned: Yes\\n   - Value: 0.00 (lack of past class failures)\\n   - Contribution direction: Positive (significantly increase)\\n\\n2. Wants to take higher education:\\n   - Mentioned: Yes\\n   - Value: Yes (desire for higher education)\\n   - Contribution direction: Positive (significantly increase)\\n\\n3. Amount of free time after school (1-5):\\n   - Mentioned: Yes\\n   - Value: 4.00 (rated 4/5)\\n   - Contribution direction: Negative (slightly decrease)\\n\\n4. School:\\n   - Mentioned: Yes\\n   - Value: GP\\n   - Contribution direction: Negative (slightly decrease)\\n\\nAssessment: 4\\x1b[0m\\n\\n\\n\""
     },
     "execution_count": 9,
     "metadata": {},
     "output_type": "execute_result"
    }
   ],
   "execution_count": 9
  },
  {
   "metadata": {},
   "cell_type": "markdown",
   "source": [
    "# Test 4: Fluency\n",
    "\n",
    "We test fluency with two methods:\n",
    "1. A few basic unit tests\n",
    "2. Ensuring that fluency consistently scores higher on whatever dataset is labeled gold standard dataset than on other datasets"
   ],
   "id": "f513c89283bc9ed5"
  },
  {
   "metadata": {
    "ExecuteTime": {
     "end_time": "2024-08-30T13:51:48.565918Z",
     "start_time": "2024-08-30T13:51:47.689502Z"
    }
   },
   "cell_type": "code",
   "source": [
    "good_narratives = ['The large size increased the prediction by 100, while the green color decreased it by about 20',\n",
    "                   \"The item's small size of 2 decreased the prediction by about 4, while its blue color increased it by 3\"]\n",
    "\n",
    "fluent_output = dspy.Prediction(narrative='The large size increased the prediction by about 10, while the red color decreased it by 8.')\n",
    "fluent_result = metrics.fluency(empty_input, fluent_output, grader, good_narratives=good_narratives)\n",
    "\n",
    "influent_output = dspy.Prediction(narrative='The size (5) increased the prediction (10.5). The color (red) decreased it (8.2)')\n",
    "influent_result = metrics.fluency(empty_input, influent_output, grader, good_narratives=good_narratives)\n",
    "\n",
    "assert influent_result < fluent_result, str(influent_result) + \" \" + str(fluent_result)\n",
    "assert fluent_result == max_score, fluent_result\n",
    "\n",
    "very_influent_output = dspy.Prediction(narrative='Size 5 10.5 color red')\n",
    "very_influent_result = metrics.fluency(empty_input, very_influent_output, grader, good_narratives=good_narratives)\n",
    "assert very_influent_result == 0, very_influent_result"
   ],
   "id": "2214a9f493150063",
   "outputs": [],
   "execution_count": 10
  },
  {
   "metadata": {
    "ExecuteTime": {
     "end_time": "2024-08-30T13:51:48.571507Z",
     "start_time": "2024-08-30T13:51:48.565918Z"
    }
   },
   "cell_type": "code",
   "source": [
    "grader.inspect_history(n=1)"
   ],
   "id": "bb99a245f13d0356",
   "outputs": [
    {
     "name": "stdout",
     "output_type": "stream",
     "text": [
      "\n",
      "\n",
      "\n",
      "Assess a narrative based on a rubric.\n",
      "\n",
      "---\n",
      "\n",
      "Follow the following format.\n",
      "\n",
      "Question: ${question}\n",
      "\n",
      "Narrative: ${narrative}\n",
      "\n",
      "Rubric: ${rubric}\n",
      "\n",
      "Assessment: A single number from the options in the rubric. Provide only a single number with no other text.\n",
      "\n",
      "---\n",
      "\n",
      "Question:\n",
      "How well does the style of the narrative match the style of these examples:\n",
      "The large size increased the prediction by 100, while the green color decreased it by about 20\n",
      "The item's small size of 2 decreased the prediction by about 4, while its blue color increased it by 3\n",
      "\n",
      "Narrative: Size 5 10.5 color red\n",
      "\n",
      "Rubric: 0: Very dissimilar. 1: Dissimilar. 2: Neutral. 3: Similar. 4: Very similar\n",
      "\n",
      "Assessment: 0\n",
      "\n",
      "\n"
     ]
    },
    {
     "data": {
      "text/plain": "\"\\n\\n\\nAssess a narrative based on a rubric.\\n\\n---\\n\\nFollow the following format.\\n\\nQuestion: ${question}\\n\\nNarrative: ${narrative}\\n\\nRubric: ${rubric}\\n\\nAssessment: A single number from the options in the rubric. Provide only a single number with no other text.\\n\\n---\\n\\nQuestion:\\nHow well does the style of the narrative match the style of these examples:\\nThe large size increased the prediction by 100, while the green color decreased it by about 20\\nThe item's small size of 2 decreased the prediction by about 4, while its blue color increased it by 3\\n\\nNarrative: Size 5 10.5 color red\\n\\nRubric: 0: Very dissimilar. 1: Dissimilar. 2: Neutral. 3: Similar. 4: Very similar\\n\\nAssessment:\\x1b[32m 0\\x1b[0m\\n\\n\\n\""
     },
     "execution_count": 11,
     "metadata": {},
     "output_type": "execute_result"
    }
   ],
   "execution_count": 11
  },
  {
   "metadata": {
    "is_executing": true,
    "ExecuteTime": {
     "start_time": "2024-08-30T13:51:48.571507Z"
    }
   },
   "cell_type": "code",
   "source": [
    "# get all files in eval_data\n",
    "validation_datasets = [f for f in os.listdir(\"eval_data\") if os.path.isfile(os.path.join(\"eval_data\", f))]\n",
    "\n",
    "loaded_datasets = {}\n",
    "for dataset in validation_datasets:\n",
    "    labeled_train, _, _, _ = examples.get_data(os.path.join(\"eval_data\", dataset), split=1)\n",
    "    loaded_datasets[dataset] = labeled_train\n",
    "\n",
    "def validate_fluency(gold_standard_dataset):\n",
    "    example_good_narratives = random.sample([d.narrative for d in loaded_datasets[gold_standard_dataset]], 5)\n",
    "    all_results = {}\n",
    "    for dataset in loaded_datasets:\n",
    "        all_results[dataset] = 0\n",
    "        for example in loaded_datasets[dataset]:\n",
    "            all_results[dataset] += metrics.fluency(empty_input, example, grader, good_narratives=example_good_narratives)\n",
    "        all_results[dataset] /= len(loaded_datasets[dataset])\n",
    "    print(f\"Gold standard: {gold_standard_dataset}\")\n",
    "    for dataset in all_results:\n",
    "        if dataset == gold_standard_dataset:\n",
    "            print(f\"**Dataset: {dataset}, Average score: {all_results[dataset]:.2f}\")\n",
    "        else:\n",
    "            print(f\"--Dataset: {dataset}, Average score: {all_results[dataset]:.2f}\")\n",
    "    print()\n",
    "    \n",
    "for dataset in loaded_datasets:\n",
    "    validate_fluency(dataset)"
   ],
   "id": "605caeedebe5ccc2",
   "outputs": [],
   "execution_count": null
  },
  {
   "metadata": {},
   "cell_type": "markdown",
   "source": [
    "# Test 5: Context-Awareness"
   ],
   "id": "c3bfd9e3b5c0bbfd"
  },
  {
   "metadata": {
    "is_executing": true
   },
   "cell_type": "code",
   "source": [
    "test_input = dspy.Example(explanation='(Size, 5, 10), (Color, Red, -8)', explanation_format='(feature_name, feature_value, SHAP contribution)')\n",
    "\n",
    "context_aware_output = dspy.Prediction(narrative = 'The large size of 5 increased the price by 10. The red color decreased the price by 8.',\n",
    "                                       rationalization='Large items fit more contents, making them desirable, so they increase the price. People associate red with the devil, so this color decreases the price.')\n",
    "context_aware_result = metrics.context_awareness(test_input, context_aware_output, grader)\n",
    "assert context_aware_result >= max_score/2, context_aware_result\n",
    "\n",
    "context_unaware_output = dspy.Prediction(narrative = 'The large size of 5 increased the price by 10. The red color decreased the price by 8.', \n",
    "                                         rationalization='No idea why.')\n",
    "context_unaware_result = metrics.context_awareness(test_input, context_unaware_output, grader)\n",
    "assert context_unaware_result == 0, context_unaware_result"
   ],
   "id": "8375bcc0043ea6ee",
   "outputs": [],
   "execution_count": null
  },
  {
   "metadata": {},
   "cell_type": "markdown",
   "source": [
    "# Compare Datasets\n",
    "\n",
    "In the following code block, we verify our metric functionality by comparing average score on our gold standard dataset (used to tune the metrics) to other datasets that use different styles of explanations. We expect the gold standard average score to be very close to 2*len(metrics) (since each metric is scored on a scale of 0-2), and the other datasets to be lower.\n",
    " \n",
    "TODO: We do not currently verify the context awareness metric, as the gold-standard dataset does not include a rationalization"
   ],
   "id": "ff5cda333b3fc86f"
  },
  {
   "metadata": {
    "is_executing": true
   },
   "cell_type": "code",
   "source": [
    "metric_verification_datasets = [\"gold_standards.json\", \"unaligned_examples_1.json\", \"unaligned_examples_2.json\"]\n",
    "\n",
    "labeled_train, labeled_eval, unlabeled_train, unlabeled_eval = examples.get_data(\"gold_standards.json\")\n",
    "train_data = labeled_train + unlabeled_train\n",
    "eval_data = labeled_eval + unlabeled_eval\n",
    "max_optimal_length = max([len(d.narrative) for d in labeled_train])\n",
    "\n",
    "example_good_narratives = random.sample([d.narrative for d in labeled_train], 5)\n",
    "example_bad_narratives = random.sample([d.bad_narrative for d in labeled_train if hasattr(d, \"bad_narrative\")], 5)\n",
    "\n",
    "# Example datasets do not include a rationalization, so we skip context awareness \n",
    "ver_metrics = metrics.Metrics(\n",
    "    [\n",
    "        metrics.accuracy,\n",
    "        metrics.fluency,\n",
    "        metrics.conciseness,\n",
    "        #metrics.completeness\n",
    "    ], verbose=0, openai_key=openai_api_key,\n",
    "    metric_kwargs={\"conciseness\": {\"max_optimal_length\": max_optimal_length},\n",
    "                   \"fluency\": {\"good_narratives\": example_good_narratives, \"bad_narratives\": example_bad_narratives}}\n",
    ")\n",
    "\n",
    "for dataset in metric_verification_datasets: \n",
    "    labeled_train, _, _, _ = examples.get_data(dataset, split=1)\n",
    "    all_results = None\n",
    "    score = 0\n",
    "    for example in labeled_train:\n",
    "        result = ver_metrics(example, example)\n",
    "        score += result[0]\n",
    "        if all_results is None:\n",
    "            all_results = result[1]\n",
    "        else:\n",
    "            all_results += result[1]\n",
    "    print(f\"Dataset: {dataset}, Average score: {score/len(labeled_train)}/{len(ver_metrics.metric_funcs)*4.0}\")\n",
    "    print(all_results/len(labeled_train))"
   ],
   "id": "7b59478832886fed",
   "outputs": [],
   "execution_count": null
  },
  {
   "metadata": {},
   "cell_type": "markdown",
   "source": [
    "# Failing Cases"
   ],
   "id": "cc5f59cef2f2ca2f"
  },
  {
   "metadata": {
    "is_executing": true
   },
   "cell_type": "code",
   "source": [
    "inaccurate_output = dspy.Prediction(narrative='The size being 5 decreased the prediction by 10. The color being red decreased the prediction by 8.')\n",
    "inaccurate_result = metrics.accuracy(test_input, inaccurate_output, grader=grader)\n",
    "assert inaccurate_result == 0, inaccurate_result\n",
    "\n",
    "misleading_output = dspy.Prediction(narrative='Surprisingly, the large house size of 5 increased the predicted price')\n",
    "misleading_result = metrics.accuracy(test_input, misleading_output, grader=grader)\n",
    "assert 0 < misleading_result < 4, misleading_result"
   ],
   "id": "761fe0aa9fc2f680",
   "outputs": [],
   "execution_count": null
  },
  {
   "metadata": {
    "is_executing": true
   },
   "cell_type": "code",
   "source": [],
   "id": "5c9ab560813b91c6",
   "outputs": [],
   "execution_count": null
  }
 ],
 "metadata": {
  "kernelspec": {
   "display_name": "Python 3",
   "language": "python",
   "name": "python3"
  },
  "language_info": {
   "codemirror_mode": {
    "name": "ipython",
    "version": 2
   },
   "file_extension": ".py",
   "mimetype": "text/x-python",
   "name": "python",
   "nbconvert_exporter": "python",
   "pygments_lexer": "ipython2",
   "version": "2.7.6"
  }
 },
 "nbformat": 4,
 "nbformat_minor": 5
}
