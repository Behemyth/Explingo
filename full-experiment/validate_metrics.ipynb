{
 "cells": [
  {
   "metadata": {
    "ExecuteTime": {
     "end_time": "2024-09-05T20:18:08.389072Z",
     "start_time": "2024-09-05T20:18:05.617589Z"
    }
   },
   "cell_type": "code",
   "source": [
    "import metrics\n",
    "import dspy\n",
    "import os\n",
    "import yaml\n",
    "import json\n",
    "from sklearn.metrics import confusion_matrix, ConfusionMatrixDisplay\n",
    "import random\n",
    "import examples\n",
    "\n",
    "with open(os.path.join(\"..\", \"keys.yaml\"), \"r\") as file:\n",
    "    config = yaml.safe_load(file)\n",
    "    openai_api_key = config[\"openai_api_key\"]\n",
    "    \n",
    "grader = dspy.OpenAI(\n",
    "            model=\"gpt-4o\",\n",
    "            model_type=\"chat\",\n",
    "            max_tokens=500,\n",
    "            api_key=openai_api_key,\n",
    "            temperature=0.3,\n",
    "        )\n",
    "    \n",
    "os.environ[\"DSP_CACHEBOOL\"] = \"False\"\n",
    "\n",
    "max_score = metrics.MAX_SCORE"
   ],
   "id": "d5efeb7510b98046",
   "outputs": [],
   "execution_count": 2
  },
  {
   "metadata": {
    "ExecuteTime": {
     "end_time": "2024-09-05T20:18:08.404400Z",
     "start_time": "2024-09-05T20:18:08.392110Z"
    }
   },
   "cell_type": "code",
   "source": [
    "empty_input = dspy.Example()"
   ],
   "id": "d57e310a4b23ed8f",
   "outputs": [],
   "execution_count": 3
  },
  {
   "metadata": {},
   "cell_type": "markdown",
   "source": [
    "# Test 1: Conciseness"
   ],
   "id": "a98751c87bdae1f5"
  },
  {
   "metadata": {
    "ExecuteTime": {
     "end_time": "2024-09-06T20:51:54.228218Z",
     "start_time": "2024-09-06T20:51:53.944818Z"
    }
   },
   "cell_type": "code",
   "source": [
    "one_feature_input = dspy.Example(explanation='(word, .05, .05)')\n",
    "two_feature_input = dspy.Example(explanation='(word, .05, .05), (word, .05, .05)')\n",
    "\n",
    "short_output = dspy.Prediction(narrative='word ')\n",
    "short_result = metrics.conciseness(one_feature_input, short_output, max_optimal_length_per_feature=10)\n",
    "assert short_result == max_score, short_result\n",
    "\n",
    "long_output = dspy.Prediction(narrative='word ' * 21)\n",
    "long_result = metrics.conciseness(one_feature_input, long_output, max_optimal_length_per_feature=10)\n",
    "assert long_result == 0, long_result\n",
    "\n",
    "med_output = dspy.Prediction(narrative='word ' * 15)\n",
    "med_result = metrics.conciseness(one_feature_input, med_output, max_optimal_length_per_feature=10)\n",
    "assert med_result == max_score / 2, med_result\n",
    "\n",
    "two_word_output = dspy.Prediction(narrative='word ' * 18)\n",
    "two_word_result = metrics.conciseness(two_feature_input, two_word_output, max_optimal_length_per_feature=10)\n",
    "assert two_word_result == max_score, two_word_result\n",
    "\n",
    "two_word_output = dspy.Prediction(narrative='word ' * 30)\n",
    "two_word_result = metrics.conciseness(two_feature_input, two_word_output, max_optimal_length_per_feature=10)\n",
    "assert two_word_result == max_score / 2, two_word_result"
   ],
   "id": "73a06bbd8dab9e9e",
   "outputs": [
    {
     "ename": "NameError",
     "evalue": "name 'dspy' is not defined",
     "output_type": "error",
     "traceback": [
      "\u001B[1;31m---------------------------------------------------------------------------\u001B[0m",
      "\u001B[1;31mNameError\u001B[0m                                 Traceback (most recent call last)",
      "Cell \u001B[1;32mIn[1], line 1\u001B[0m\n\u001B[1;32m----> 1\u001B[0m one_feature_input \u001B[38;5;241m=\u001B[39m \u001B[43mdspy\u001B[49m\u001B[38;5;241m.\u001B[39mExample(explanation\u001B[38;5;241m=\u001B[39m\u001B[38;5;124m'\u001B[39m\u001B[38;5;124m(word, .05, .05)\u001B[39m\u001B[38;5;124m'\u001B[39m)\n\u001B[0;32m      2\u001B[0m two_feature_input \u001B[38;5;241m=\u001B[39m dspy\u001B[38;5;241m.\u001B[39mExample(explanation\u001B[38;5;241m=\u001B[39m\u001B[38;5;124m'\u001B[39m\u001B[38;5;124m(word, .05, .05), (word, .05, .05)\u001B[39m\u001B[38;5;124m'\u001B[39m)\n\u001B[0;32m      4\u001B[0m short_output \u001B[38;5;241m=\u001B[39m dspy\u001B[38;5;241m.\u001B[39mPrediction(narrative\u001B[38;5;241m=\u001B[39m\u001B[38;5;124m'\u001B[39m\u001B[38;5;124mword \u001B[39m\u001B[38;5;124m'\u001B[39m)\n",
      "\u001B[1;31mNameError\u001B[0m: name 'dspy' is not defined"
     ]
    }
   ],
   "execution_count": 1
  },
  {
   "metadata": {},
   "cell_type": "markdown",
   "source": [
    "# Test 2: Accuracy"
   ],
   "id": "57d5cb5147ddac36"
  },
  {
   "metadata": {
    "ExecuteTime": {
     "end_time": "2024-09-05T20:18:08.497491Z",
     "start_time": "2024-09-05T20:18:08.421789Z"
    }
   },
   "cell_type": "code",
   "source": [
    "test_input = dspy.Example(explanation='(Size, 5, 10), (Color, Red, -8)', \n",
    "                          explanation_format='(feature_name, feature_value, SHAP contribution)')\n",
    "\n",
    "accurate_output = dspy.Prediction(narrative='The size being 5 increased the prediction by 10. The color being red decreased the prediction by 8.')\n",
    "accurate_result = metrics.accuracy(test_input, accurate_output, grader=grader)\n",
    "assert accurate_result == max_score, accurate_result\n",
    "\n",
    "inaccurate_output = dspy.Prediction(narrative='The size being 4 increased the prediction by 11. The color being red decreased the prediction by 9.')\n",
    "inaccurate_result = metrics.accuracy(test_input, inaccurate_output, grader=grader)\n",
    "assert inaccurate_result == 0, inaccurate_result\n",
    "\n",
    "incomplete_but_accurate_output = dspy.Prediction(narrative='The size being 5 increased the prediction by 10.')\n",
    "incomplete_but_accurate_result = metrics.accuracy(test_input, incomplete_but_accurate_output, grader=grader)\n",
    "assert incomplete_but_accurate_result == max_score, incomplete_but_accurate_result"
   ],
   "id": "5325ca464e28753e",
   "outputs": [],
   "execution_count": 5
  },
  {
   "metadata": {
    "ExecuteTime": {
     "end_time": "2024-09-05T20:18:08.513493Z",
     "start_time": "2024-09-05T20:18:08.498493Z"
    }
   },
   "cell_type": "code",
   "source": [
    "grader.inspect_history(n=1)"
   ],
   "id": "9d97955cc0f6b915",
   "outputs": [
    {
     "name": "stdout",
     "output_type": "stream",
     "text": [
      "\n",
      "\n",
      "\n",
      "Assess a narrative based on a rubric.\n",
      "\n",
      "---\n",
      "\n",
      "Follow the following format.\n",
      "\n",
      "Question: ${question}\n",
      "\n",
      "Narrative: ${narrative}\n",
      "\n",
      "Rubric: ${rubric}\n",
      "\n",
      "Assessment: A single number from the options in the rubric. Provide only a single number with no other text.\n",
      "\n",
      "---\n",
      "\n",
      "Question:\n",
      "How accurate is the information in the narrative, based on the explanation given? A narrative can score 4 even if it is missing information as long as everything in the narrative is correct. Make sure the contribution direction is correct - positive contributions increase the output, negative contributions decrease the output.\n",
      "\n",
      "Explanation format: (feature_name, feature_value, SHAP contribution).\n",
      "Explanation: (Size, 5, 10), (Color, Red, -8)\n",
      "\n",
      "Narrative: The size being 5 increased the prediction by 10.\n",
      "\n",
      "Rubric: 0 - Contains one or more errors in value or contribution direction. 4 - Contains no errors, but may be missing information.\n",
      "\n",
      "Assessment: 4\n",
      "\n",
      "\n",
      "\n"
     ]
    },
    {
     "data": {
      "text/plain": [
       "'\\n\\n\\nAssess a narrative based on a rubric.\\n\\n---\\n\\nFollow the following format.\\n\\nQuestion: ${question}\\n\\nNarrative: ${narrative}\\n\\nRubric: ${rubric}\\n\\nAssessment: A single number from the options in the rubric. Provide only a single number with no other text.\\n\\n---\\n\\nQuestion:\\nHow accurate is the information in the narrative, based on the explanation given? A narrative can score 4 even if it is missing information as long as everything in the narrative is correct. Make sure the contribution direction is correct - positive contributions increase the output, negative contributions decrease the output.\\n\\nExplanation format: (feature_name, feature_value, SHAP contribution).\\nExplanation: (Size, 5, 10), (Color, Red, -8)\\n\\nNarrative: The size being 5 increased the prediction by 10.\\n\\nRubric: 0 - Contains one or more errors in value or contribution direction. 4 - Contains no errors, but may be missing information.\\n\\nAssessment:\\x1b[32m 4\\x1b[0m\\n\\n\\n'"
      ]
     },
     "execution_count": 6,
     "metadata": {},
     "output_type": "execute_result"
    }
   ],
   "execution_count": 6
  },
  {
   "metadata": {
    "ExecuteTime": {
     "end_time": "2024-09-05T20:18:09.310829Z",
     "start_time": "2024-09-05T20:18:08.514494Z"
    }
   },
   "cell_type": "code",
   "source": [
    "accuracy_dataset = json.load(open(\"accuracy_tests.json\"))\n",
    "\n",
    "preds = []\n",
    "actuals = []\n",
    "for example in accuracy_dataset:\n",
    "    test_input = dspy.Example(explanation=example[\"explanation\"], explanation_format=example[\"explanation_format\"])\n",
    "    test_output = dspy.Prediction(narrative=example[\"narrative\"])\n",
    "    result = metrics.accuracy(test_input, test_output, grader)\n",
    "    preds.append(result)\n",
    "    actuals.append(example[\"accuracy_score\"])\n",
    "    if result != example[\"accuracy_score\"]:\n",
    "        print(f'Explanation: {example[\"explanation\"]}')\n",
    "        print(f'Output: {example[\"narrative\"]}')\n",
    "        print(f'Expected: {example[\"accuracy_score\"]}. Got: {result}')\n",
    "\n",
    "cm = confusion_matrix(actuals, preds, labels=[0.0, 4.0])\n",
    "disp = ConfusionMatrixDisplay(confusion_matrix=cm, display_labels=[0.0, 4.0])\n",
    "disp.plot()"
   ],
   "id": "68720a6634ec642e",
   "outputs": [
    {
     "name": "stdout",
     "output_type": "stream",
     "text": [
      "Explanation: (odor, foul, 0.15), (gill-size, narrow, 0.11), (gill-color, buff, 0.08)\n",
      "Output: The foul odor increases the model's prediction by 2.5, and the narrow gill size and buff color also increase the prediction.\n",
      "Expected: 0. Got: 4.0\n",
      "Explanation: (Quality of materials out of 10, 3, 560.46), (Size in sq ft, 1020, 909)\n",
      "Output: The house's quality of 3/10 increased the model's prediction by around 500, while its size of around 1000 sq ft increased it by about 900\n",
      "Expected: 4. Got: 0.0\n",
      "Explanation: (Number of streams, 1.00, 0.10), (Number of objects, 1.00, 0.10)\n",
      "Output: The file's number of streams increases the model's prediction by 10\n",
      "Expected: 0. Got: 4.0\n",
      "Explanation: (In a romantic relationship, yes, -2.00), (Family educational support, yes, 2.00), (Absences, high, -4.00)\n",
      "Output: Being in a romantic relationship decreases the student's likelihood of passing.\n",
      "Expected: 4. Got: 0.0\n"
     ]
    },
    {
     "data": {
      "text/plain": [
       "<sklearn.metrics._plot.confusion_matrix.ConfusionMatrixDisplay at 0x1d9d5bbaaa0>"
      ]
     },
     "execution_count": 7,
     "metadata": {},
     "output_type": "execute_result"
    },
    {
     "data": {
      "text/plain": [
       "<Figure size 640x480 with 2 Axes>"
      ],
      "image/png": "[encoded data removed]"
     },
     "metadata": {},
     "output_type": "display_data"
    }
   ],
   "execution_count": 7
  },
  {
   "metadata": {},
   "cell_type": "markdown",
   "source": [
    "# Test 3: Completeness"
   ],
   "id": "583c04d26f9b3e7b"
  },
  {
   "metadata": {
    "ExecuteTime": {
     "end_time": "2024-09-05T20:18:09.404264Z",
     "start_time": "2024-09-05T20:18:09.312829Z"
    }
   },
   "cell_type": "code",
   "source": [
    "test_input = dspy.Example(explanation='(Size, 5, 10), (Color, Red, -8), (Shape, Square, 3)', \n",
    "                          explanation_format='(feature_name, feature_value, SHAP contribution)')\n",
    "\n",
    "complete_output = dspy.Prediction(narrative='The size being 5 increased the prediction by 10. The color being red decreased the prediction by 8. The shape being square increased the prediction by 3.')\n",
    "complete_result = metrics.completeness(test_input, complete_output, grader)\n",
    "assert complete_result == max_score, complete_result\n",
    "\n",
    "incomplete_output = dspy.Prediction(narrative='The size being 5 increased the prediction by 10')\n",
    "incomplete_result = metrics.completeness(test_input, incomplete_output, grader)\n",
    "assert incomplete_result == 0, incomplete_result"
   ],
   "id": "23379cf2fdd4aa59",
   "outputs": [],
   "execution_count": 8
  },
  {
   "metadata": {
    "ExecuteTime": {
     "end_time": "2024-09-05T20:18:10.075697Z",
     "start_time": "2024-09-05T20:18:09.406265Z"
    }
   },
   "cell_type": "code",
   "source": [
    "from collections import defaultdict\n",
    "\n",
    "completeness_dataset = json.load(open(\"completeness_tests.json\"))\n",
    "\n",
    "preds = []\n",
    "actuals = []\n",
    "rationalization_when_failing = defaultdict(int)\n",
    "for example in completeness_dataset:\n",
    "    test_input = dspy.Example(explanation=example[\"explanation\"], explanation_format=example[\"explanation_format\"])\n",
    "    test_output = dspy.Prediction(narrative=example[\"narrative\"])\n",
    "    result = metrics.completeness(test_input, test_output, grader)\n",
    "    preds.append(result)\n",
    "    actuals.append(example[\"completeness_score\"])\n",
    "    if result != example[\"completeness_score\"]:\n",
    "        print(f'Explanation: {example[\"explanation\"]}')\n",
    "        print(f'Output: {example[\"narrative\"]}')\n",
    "        print(f'Expected: {example[\"completeness_score\"]}. Got: {result}')\n",
    "\n",
    "cm = confusion_matrix(actuals, preds, labels=[0.0, 2.0, 4.0])\n",
    "disp = ConfusionMatrixDisplay(confusion_matrix=cm, display_labels=[0.0, 2.0, 4.0])\n",
    "disp.plot()"
   ],
   "id": "45e2591357b25792",
   "outputs": [
    {
     "name": "stdout",
     "output_type": "stream",
     "text": [
      "Explanation: (Type 1 finished square feet, 1369.00, 14641.53), (Evaluates the height of the basement, Ex, 13233.24), (Total square feet of basement area, 1686.00, 12138.28), (Second floor square feet, 0.00, -10142.29), (Rates the overall material and finish of the house, 8.00, 9655.79)\n",
      "Output: This house's relatively large type 1 finished square footage increased the predicted price by about $14,000. The house's excellent basement height increased the price by about $13,000. The relatively larger basement area increased the price by about $12,000. The absence of a second floor reduced the price by about $10,000. The house's good condition (rated 8/10) increased the price by about $10,000.\n",
      "Expected: 2. Got: 4.0\n"
     ]
    },
    {
     "data": {
      "text/plain": [
       "<sklearn.metrics._plot.confusion_matrix.ConfusionMatrixDisplay at 0x1d9d5d3cc10>"
      ]
     },
     "execution_count": 9,
     "metadata": {},
     "output_type": "execute_result"
    },
    {
     "data": {
      "text/plain": [
       "<Figure size 640x480 with 2 Axes>"
      ],
      "image/png": "[encoded data removed]"
     },
     "metadata": {},
     "output_type": "display_data"
    }
   ],
   "execution_count": 9
  },
  {
   "metadata": {
    "ExecuteTime": {
     "end_time": "2024-09-05T20:18:10.091697Z",
     "start_time": "2024-09-05T20:18:10.076681Z"
    }
   },
   "cell_type": "code",
   "source": [
    "grader.inspect_history(n=1)"
   ],
   "id": "e7139317c1519015",
   "outputs": [
    {
     "name": "stdout",
     "output_type": "stream",
     "text": [
      "\n",
      "\n",
      "\n",
      "Assess a narrative based on a rubric.\n",
      "\n",
      "---\n",
      "\n",
      "Follow the following format.\n",
      "\n",
      "Question: ${question}\n",
      "\n",
      "Narrative: ${narrative}\n",
      "\n",
      "Rubric: ${rubric}\n",
      "\n",
      "Start by listing out all the features in the explanations, and then determine every feature is present in the narrative, along with its value and contribution direction. Feature-by-feature processing of the narrative.\n",
      "\n",
      "Assessment: A single number from the options in the rubric. Provide only a single number with no other text.\n",
      "\n",
      "---\n",
      "\n",
      "Question:\n",
      "How completely does the narrative below describe the explanation given in <<>>?\n",
      "Explanation format: SHAP feature contribution in (feature_name, feature_value, contribution) format.\n",
      "Explanation: <<(Number of past class failures, 0.00, 0.89), (Wants to take higher education, yes, 0.50), (Amount of free time after school (1-5), 4.00, -0.35), (School, GP, 0.33)>>\n",
      "\n",
      "Narrative: The student's lack of past class failures and desire for higher education significantly increase the predicted grade. However, the student's free time after school (rated 4/5) and school (GP) reputation slightly decrease the predicted grade.\n",
      "\n",
      "Rubric: 0 - One or more feature names from the explanation are not mentioned at all in the narrative. 2 - All features are mentioned, but not all feature values and/or contribution directions. 4 - All features are mentioned, and for each feature, includes at least an approximation of the feature's value and contribution direction.\n",
      "\n",
      "Start by listing out all the features in the explanations, and then determine every feature is present in the narrative, along with its value and contribution direction. Features in the explanation:\n",
      "1. Number of past class failures (0.00, 0.89)\n",
      "2. Wants to take higher education (yes, 0.50)\n",
      "3. Amount of free time after school (1-5) (4.00, -0.35)\n",
      "4. School (GP, 0.33)\n",
      "\n",
      "Feature-by-feature processing of the narrative:\n",
      "1. Number of past class failures:\n",
      "   - Present in the narrative: \"The student's lack of past class failures\"\n",
      "   - Value: \"lack of\" corresponds to 0.00\n",
      "   - Contribution direction: \"significantly increase\" corresponds to 0.89\n",
      "\n",
      "2. Wants to take higher education:\n",
      "   - Present in the narrative: \"desire for higher education\"\n",
      "   - Value: \"desire for\" corresponds to yes\n",
      "   - Contribution direction: \"significantly increase\" corresponds to 0.50\n",
      "\n",
      "3. Amount of free time after school (1-5):\n",
      "   - Present in the narrative: \"free time after school (rated 4/5)\"\n",
      "   - Value: \"rated 4/5\" corresponds to 4.00\n",
      "   - Contribution direction: \"slightly decrease\" corresponds to -0.35\n",
      "\n",
      "4. School:\n",
      "   - Present in the narrative: \"school (GP)\"\n",
      "   - Value: \"GP\" corresponds to GP\n",
      "   - Contribution direction: \"slightly decrease\" corresponds to 0.33\n",
      "\n",
      "Assessment: 4\n",
      "\n",
      "\n",
      "\n"
     ]
    },
    {
     "data": {
      "text/plain": [
       "'\\n\\n\\nAssess a narrative based on a rubric.\\n\\n---\\n\\nFollow the following format.\\n\\nQuestion: ${question}\\n\\nNarrative: ${narrative}\\n\\nRubric: ${rubric}\\n\\nStart by listing out all the features in the explanations, and then determine every feature is present in the narrative, along with its value and contribution direction. Feature-by-feature processing of the narrative.\\n\\nAssessment: A single number from the options in the rubric. Provide only a single number with no other text.\\n\\n---\\n\\nQuestion:\\nHow completely does the narrative below describe the explanation given in <<>>?\\nExplanation format: SHAP feature contribution in (feature_name, feature_value, contribution) format.\\nExplanation: <<(Number of past class failures, 0.00, 0.89), (Wants to take higher education, yes, 0.50), (Amount of free time after school (1-5), 4.00, -0.35), (School, GP, 0.33)>>\\n\\nNarrative: The student\\'s lack of past class failures and desire for higher education significantly increase the predicted grade. However, the student\\'s free time after school (rated 4/5) and school (GP) reputation slightly decrease the predicted grade.\\n\\nRubric: 0 - One or more feature names from the explanation are not mentioned at all in the narrative. 2 - All features are mentioned, but not all feature values and/or contribution directions. 4 - All features are mentioned, and for each feature, includes at least an approximation of the feature\\'s value and contribution direction.\\n\\nStart by listing out all the features in the explanations, and then determine every feature is present in the narrative, along with its value and contribution direction.\\x1b[32m Features in the explanation:\\n1. Number of past class failures (0.00, 0.89)\\n2. Wants to take higher education (yes, 0.50)\\n3. Amount of free time after school (1-5) (4.00, -0.35)\\n4. School (GP, 0.33)\\n\\nFeature-by-feature processing of the narrative:\\n1. Number of past class failures:\\n   - Present in the narrative: \"The student\\'s lack of past class failures\"\\n   - Value: \"lack of\" corresponds to 0.00\\n   - Contribution direction: \"significantly increase\" corresponds to 0.89\\n\\n2. Wants to take higher education:\\n   - Present in the narrative: \"desire for higher education\"\\n   - Value: \"desire for\" corresponds to yes\\n   - Contribution direction: \"significantly increase\" corresponds to 0.50\\n\\n3. Amount of free time after school (1-5):\\n   - Present in the narrative: \"free time after school (rated 4/5)\"\\n   - Value: \"rated 4/5\" corresponds to 4.00\\n   - Contribution direction: \"slightly decrease\" corresponds to -0.35\\n\\n4. School:\\n   - Present in the narrative: \"school (GP)\"\\n   - Value: \"GP\" corresponds to GP\\n   - Contribution direction: \"slightly decrease\" corresponds to 0.33\\n\\nAssessment: 4\\x1b[0m\\n\\n\\n'"
      ]
     },
     "execution_count": 10,
     "metadata": {},
     "output_type": "execute_result"
    }
   ],
   "execution_count": 10
  },
  {
   "metadata": {},
   "cell_type": "markdown",
   "source": [
    "# Test 4: Fluency\n",
    "\n",
    "We test fluency with two methods:\n",
    "1. A few basic unit tests\n",
    "2. Ensuring that fluency consistently scores higher on whatever dataset is labeled gold standard dataset than on other datasets"
   ],
   "id": "f513c89283bc9ed5"
  },
  {
   "metadata": {
    "ExecuteTime": {
     "end_time": "2024-09-05T20:18:10.154036Z",
     "start_time": "2024-09-05T20:18:10.093679Z"
    }
   },
   "cell_type": "code",
   "source": [
    "good_narratives = ['The large size increased the prediction by 100, while the green color decreased it by about 20',\n",
    "                   \"The item's small size of 2 decreased the prediction by about 4, while its blue color increased it by 3\"]\n",
    "\n",
    "fluent_output = dspy.Prediction(narrative='The large size increased the prediction by about 10, while the red color decreased it by 8.')\n",
    "fluent_result = metrics.fluency(empty_input, fluent_output, grader, good_narratives=good_narratives)\n",
    "\n",
    "influent_output = dspy.Prediction(narrative='The size (5) increased the prediction (10.5). The color (red) decreased it (8.2)')\n",
    "influent_result = metrics.fluency(empty_input, influent_output, grader, good_narratives=good_narratives)\n",
    "\n",
    "assert influent_result < fluent_result, str(influent_result) + \" \" + str(fluent_result)\n",
    "assert fluent_result == max_score, fluent_result\n",
    "\n",
    "very_influent_output = dspy.Prediction(narrative='Size 5 10.5 color red')\n",
    "very_influent_result = metrics.fluency(empty_input, very_influent_output, grader, good_narratives=good_narratives)\n",
    "assert very_influent_result == 0, very_influent_result"
   ],
   "id": "2214a9f493150063",
   "outputs": [],
   "execution_count": 11
  },
  {
   "metadata": {
    "ExecuteTime": {
     "end_time": "2024-09-05T20:18:10.170047Z",
     "start_time": "2024-09-05T20:18:10.155944Z"
    }
   },
   "cell_type": "code",
   "source": [
    "grader.inspect_history(n=1)"
   ],
   "id": "bb99a245f13d0356",
   "outputs": [
    {
     "name": "stdout",
     "output_type": "stream",
     "text": [
      "\n",
      "\n",
      "\n",
      "Assess a narrative based on a rubric.\n",
      "\n",
      "---\n",
      "\n",
      "Follow the following format.\n",
      "\n",
      "Question: ${question}\n",
      "\n",
      "Narrative: ${narrative}\n",
      "\n",
      "Rubric: ${rubric}\n",
      "\n",
      "Assessment: A single number from the options in the rubric. Provide only a single number with no other text.\n",
      "\n",
      "---\n",
      "\n",
      "Question:\n",
      "How well does the style of the narrative match the style of these examples:\n",
      "The large size increased the prediction by 100, while the green color decreased it by about 20\n",
      "The item's small size of 2 decreased the prediction by about 4, while its blue color increased it by 3\n",
      "\n",
      "Narrative: Size 5 10.5 color red\n",
      "\n",
      "Rubric: 0: Very dissimilar. 1: Dissimilar. 2: Neutral. 3: Similar. 4: Very similar\n",
      "\n",
      "Assessment: 0\n",
      "\n",
      "\n",
      "\n"
     ]
    },
    {
     "data": {
      "text/plain": [
       "\"\\n\\n\\nAssess a narrative based on a rubric.\\n\\n---\\n\\nFollow the following format.\\n\\nQuestion: ${question}\\n\\nNarrative: ${narrative}\\n\\nRubric: ${rubric}\\n\\nAssessment: A single number from the options in the rubric. Provide only a single number with no other text.\\n\\n---\\n\\nQuestion:\\nHow well does the style of the narrative match the style of these examples:\\nThe large size increased the prediction by 100, while the green color decreased it by about 20\\nThe item's small size of 2 decreased the prediction by about 4, while its blue color increased it by 3\\n\\nNarrative: Size 5 10.5 color red\\n\\nRubric: 0: Very dissimilar. 1: Dissimilar. 2: Neutral. 3: Similar. 4: Very similar\\n\\nAssessment:\\x1b[32m 0\\x1b[0m\\n\\n\\n\""
      ]
     },
     "execution_count": 12,
     "metadata": {},
     "output_type": "execute_result"
    }
   ],
   "execution_count": 12
  },
  {
   "metadata": {
    "ExecuteTime": {
     "end_time": "2024-09-05T20:25:45.048951Z",
     "start_time": "2024-09-05T20:18:10.170944Z"
    }
   },
   "cell_type": "code",
   "source": [
    "# get all files in eval_data\n",
    "validation_datasets = [f for f in os.listdir(\"eval_data\") if os.path.isfile(os.path.join(\"eval_data\", f))]\n",
    "\n",
    "loaded_datasets = {}\n",
    "for dataset in validation_datasets:\n",
    "    labeled_train, _, _, _ = examples.get_data(os.path.join(\"eval_data\", dataset), split=1)\n",
    "    loaded_datasets[dataset] = labeled_train\n",
    "\n",
    "def validate_fluency(gold_standard_dataset):\n",
    "    example_good_narratives = random.sample([d.narrative for d in loaded_datasets[gold_standard_dataset]], 5)\n",
    "    all_results = {}\n",
    "    for dataset in loaded_datasets:\n",
    "        all_results[dataset] = 0\n",
    "        for example in loaded_datasets[dataset]:\n",
    "            all_results[dataset] += metrics.fluency(empty_input, example, grader, good_narratives=example_good_narratives)\n",
    "        all_results[dataset] /= len(loaded_datasets[dataset])\n",
    "    print(f\"Gold standard: {gold_standard_dataset}\")\n",
    "    for dataset in all_results:\n",
    "        if dataset == gold_standard_dataset:\n",
    "            print(f\"**Dataset: {dataset}, Average score: {all_results[dataset]:.2f}\")\n",
    "        else:\n",
    "            print(f\"--Dataset: {dataset}, Average score: {all_results[dataset]:.2f}\")\n",
    "    print()\n",
    "    \n",
    "for dataset in loaded_datasets:\n",
    "    validate_fluency(dataset)"
   ],
   "id": "605caeedebe5ccc2",
   "outputs": [
    {
     "name": "stdout",
     "output_type": "stream",
     "text": [
      "Gold standard: housing_1.json\n",
      "**Dataset: housing_1.json, Average score: 4.00\n",
      "--Dataset: housing_2.json, Average score: 2.92\n",
      "--Dataset: housing_3.json, Average score: 1.77\n",
      "--Dataset: mushroom_1.json, Average score: 0.00\n",
      "--Dataset: mushroom_2.json, Average score: 0.00\n",
      "--Dataset: pdf_1.json, Average score: 0.00\n",
      "--Dataset: pdf_2.json, Average score: 0.00\n",
      "--Dataset: student_1.json, Average score: 0.00\n",
      "--Dataset: student_2.json, Average score: 0.00\n",
      "\n",
      "Gold standard: housing_2.json\n",
      "--Dataset: housing_1.json, Average score: 3.45\n",
      "**Dataset: housing_2.json, Average score: 4.00\n",
      "--Dataset: housing_3.json, Average score: 3.46\n",
      "--Dataset: mushroom_1.json, Average score: 0.00\n",
      "--Dataset: mushroom_2.json, Average score: 0.00\n",
      "--Dataset: pdf_1.json, Average score: 0.00\n",
      "--Dataset: pdf_2.json, Average score: 0.00\n",
      "--Dataset: student_1.json, Average score: 0.00\n",
      "--Dataset: student_2.json, Average score: 0.50\n",
      "\n",
      "Gold standard: housing_3.json\n",
      "--Dataset: housing_1.json, Average score: 3.65\n",
      "--Dataset: housing_2.json, Average score: 3.58\n",
      "**Dataset: housing_3.json, Average score: 4.00\n",
      "--Dataset: mushroom_1.json, Average score: 0.73\n",
      "--Dataset: mushroom_2.json, Average score: 0.00\n",
      "--Dataset: pdf_1.json, Average score: 0.67\n",
      "--Dataset: pdf_2.json, Average score: 0.00\n",
      "--Dataset: student_1.json, Average score: 0.03\n",
      "--Dataset: student_2.json, Average score: 0.00\n",
      "\n",
      "Gold standard: mushroom_1.json\n",
      "--Dataset: housing_1.json, Average score: 0.25\n",
      "--Dataset: housing_2.json, Average score: 0.50\n",
      "--Dataset: housing_3.json, Average score: 0.92\n",
      "**Dataset: mushroom_1.json, Average score: 4.00\n",
      "--Dataset: mushroom_2.json, Average score: 3.36\n",
      "--Dataset: pdf_1.json, Average score: 3.11\n",
      "--Dataset: pdf_2.json, Average score: 0.44\n",
      "--Dataset: student_1.json, Average score: 0.70\n",
      "--Dataset: student_2.json, Average score: 0.36\n",
      "\n",
      "Gold standard: mushroom_2.json\n",
      "--Dataset: housing_1.json, Average score: 1.00\n",
      "--Dataset: housing_2.json, Average score: 1.33\n",
      "--Dataset: housing_3.json, Average score: 0.15\n",
      "--Dataset: mushroom_1.json, Average score: 3.27\n",
      "**Dataset: mushroom_2.json, Average score: 4.00\n",
      "--Dataset: pdf_1.json, Average score: 0.78\n",
      "--Dataset: pdf_2.json, Average score: 2.11\n",
      "--Dataset: student_1.json, Average score: 0.20\n",
      "--Dataset: student_2.json, Average score: 1.50\n",
      "\n",
      "Gold standard: pdf_1.json\n",
      "--Dataset: housing_1.json, Average score: 0.95\n",
      "--Dataset: housing_2.json, Average score: 1.33\n",
      "--Dataset: housing_3.json, Average score: 1.77\n",
      "--Dataset: mushroom_1.json, Average score: 0.91\n",
      "--Dataset: mushroom_2.json, Average score: 0.45\n",
      "**Dataset: pdf_1.json, Average score: 4.00\n",
      "--Dataset: pdf_2.json, Average score: 3.78\n",
      "--Dataset: student_1.json, Average score: 0.10\n",
      "--Dataset: student_2.json, Average score: 0.07\n",
      "\n",
      "Gold standard: pdf_2.json\n",
      "--Dataset: housing_1.json, Average score: 0.25\n",
      "--Dataset: housing_2.json, Average score: 0.08\n",
      "--Dataset: housing_3.json, Average score: 0.15\n",
      "--Dataset: mushroom_1.json, Average score: 0.00\n",
      "--Dataset: mushroom_2.json, Average score: 0.55\n",
      "--Dataset: pdf_1.json, Average score: 3.78\n",
      "**Dataset: pdf_2.json, Average score: 3.89\n",
      "--Dataset: student_1.json, Average score: 0.00\n",
      "--Dataset: student_2.json, Average score: 0.64\n",
      "\n",
      "Gold standard: student_1.json\n",
      "--Dataset: housing_1.json, Average score: 1.05\n",
      "--Dataset: housing_2.json, Average score: 0.08\n",
      "--Dataset: housing_3.json, Average score: 0.15\n",
      "--Dataset: mushroom_1.json, Average score: 0.73\n",
      "--Dataset: mushroom_2.json, Average score: 0.64\n",
      "--Dataset: pdf_1.json, Average score: 0.11\n",
      "--Dataset: pdf_2.json, Average score: 0.00\n",
      "**Dataset: student_1.json, Average score: 3.90\n",
      "--Dataset: student_2.json, Average score: 3.79\n",
      "\n",
      "Gold standard: student_2.json\n",
      "--Dataset: housing_1.json, Average score: 1.65\n",
      "--Dataset: housing_2.json, Average score: 1.67\n",
      "--Dataset: housing_3.json, Average score: 0.46\n",
      "--Dataset: mushroom_1.json, Average score: 1.27\n",
      "--Dataset: mushroom_2.json, Average score: 2.36\n",
      "--Dataset: pdf_1.json, Average score: 0.44\n",
      "--Dataset: pdf_2.json, Average score: 1.89\n",
      "--Dataset: student_1.json, Average score: 3.87\n",
      "**Dataset: student_2.json, Average score: 4.00\n",
      "\n"
     ]
    }
   ],
   "execution_count": 13
  },
  {
   "metadata": {},
   "cell_type": "markdown",
   "source": [
    "# Test 5: Context-Awareness"
   ],
   "id": "c3bfd9e3b5c0bbfd"
  },
  {
   "metadata": {
    "ExecuteTime": {
     "end_time": "2024-09-05T20:25:46.186120Z",
     "start_time": "2024-09-05T20:25:45.049950Z"
    }
   },
   "cell_type": "code",
   "source": [
    "test_input = dspy.Example(explanation='(Size, 5, 10), (Color, Red, -8)', explanation_format='(feature_name, feature_value, SHAP contribution)')\n",
    "\n",
    "context_aware_output = dspy.Prediction(narrative = 'The large size of 5 increased the price by 10. The red color decreased the price by 8.',\n",
    "                                       rationalization='Large items fit more contents, making them desirable, so they increase the price. People associate red with the devil, so this color decreases the price.')\n",
    "context_aware_result = metrics.context_awareness(test_input, context_aware_output, grader)\n",
    "assert context_aware_result >= max_score/2, context_aware_result\n",
    "\n",
    "context_unaware_output = dspy.Prediction(narrative = 'The large size of 5 increased the price by 10. The red color decreased the price by 8.', \n",
    "                                         rationalization='No idea why.')\n",
    "context_unaware_result = metrics.context_awareness(test_input, context_unaware_output, grader)\n",
    "assert context_unaware_result == 0, context_unaware_result"
   ],
   "id": "8375bcc0043ea6ee",
   "outputs": [],
   "execution_count": 14
  },
  {
   "metadata": {},
   "cell_type": "markdown",
   "source": [
    "# Compare Datasets\n",
    "\n",
    "In the following code block, we verify our metric functionality by comparing average score on our gold standard dataset (used to tune the metrics) to other datasets that use different styles of explanations. We expect the gold standard average score to be very close to 2*len(metrics) (since each metric is scored on a scale of 0-2), and the other datasets to be lower.\n",
    " \n",
    "TODO: We do not currently verify the context awareness metric, as the gold-standard dataset does not include a rationalization"
   ],
   "id": "ff5cda333b3fc86f"
  },
  {
   "metadata": {
    "ExecuteTime": {
     "end_time": "2024-09-05T20:25:46.357662Z",
     "start_time": "2024-09-05T20:25:46.192117Z"
    }
   },
   "cell_type": "code",
   "source": [
    "metric_verification_datasets = [\"gold_standards.json\", \"unaligned_examples_1.json\", \"unaligned_examples_2.json\"]\n",
    "\n",
    "labeled_train, labeled_eval, unlabeled_train, unlabeled_eval = examples.get_data(\"gold_standards.json\")\n",
    "train_data = labeled_train + unlabeled_train\n",
    "eval_data = labeled_eval + unlabeled_eval\n",
    "max_optimal_length = max([len(d.narrative) for d in labeled_train])\n",
    "\n",
    "example_good_narratives = random.sample([d.narrative for d in labeled_train], 5)\n",
    "example_bad_narratives = random.sample([d.bad_narrative for d in labeled_train if hasattr(d, \"bad_narrative\")], 5)\n",
    "\n",
    "# Example datasets do not include a rationalization, so we skip context awareness \n",
    "ver_metrics = metrics.Metrics(\n",
    "    [\n",
    "        metrics.accuracy,\n",
    "        metrics.fluency,\n",
    "        metrics.conciseness,\n",
    "        #metrics.completeness\n",
    "    ], verbose=0, openai_key=openai_api_key,\n",
    "    metric_kwargs={\"conciseness\": {\"max_optimal_length\": max_optimal_length},\n",
    "                   \"fluency\": {\"good_narratives\": example_good_narratives, \"bad_narratives\": example_bad_narratives}}\n",
    ")\n",
    "\n",
    "for dataset in metric_verification_datasets: \n",
    "    labeled_train, _, _, _ = examples.get_data(dataset, split=1)\n",
    "    all_results = None\n",
    "    score = 0\n",
    "    for example in labeled_train:\n",
    "        result = ver_metrics(example, example)\n",
    "        score += result[0]\n",
    "        if all_results is None:\n",
    "            all_results = result[1]\n",
    "        else:\n",
    "            all_results += result[1]\n",
    "    print(f\"Dataset: {dataset}, Average score: {score/len(labeled_train)}/{len(ver_metrics.metric_funcs)*4.0}\")\n",
    "    print(all_results/len(labeled_train))"
   ],
   "id": "7b59478832886fed",
   "outputs": [
    {
     "ename": "FileNotFoundError",
     "evalue": "[Errno 2] No such file or directory: 'gold_standards.json'",
     "output_type": "error",
     "traceback": [
      "\u001B[1;31m---------------------------------------------------------------------------\u001B[0m",
      "\u001B[1;31mFileNotFoundError\u001B[0m                         Traceback (most recent call last)",
      "Cell \u001B[1;32mIn[15], line 3\u001B[0m\n\u001B[0;32m      1\u001B[0m metric_verification_datasets \u001B[38;5;241m=\u001B[39m [\u001B[38;5;124m\"\u001B[39m\u001B[38;5;124mgold_standards.json\u001B[39m\u001B[38;5;124m\"\u001B[39m, \u001B[38;5;124m\"\u001B[39m\u001B[38;5;124munaligned_examples_1.json\u001B[39m\u001B[38;5;124m\"\u001B[39m, \u001B[38;5;124m\"\u001B[39m\u001B[38;5;124munaligned_examples_2.json\u001B[39m\u001B[38;5;124m\"\u001B[39m]\n\u001B[1;32m----> 3\u001B[0m labeled_train, labeled_eval, unlabeled_train, unlabeled_eval \u001B[38;5;241m=\u001B[39m \u001B[43mexamples\u001B[49m\u001B[38;5;241;43m.\u001B[39;49m\u001B[43mget_data\u001B[49m\u001B[43m(\u001B[49m\u001B[38;5;124;43m\"\u001B[39;49m\u001B[38;5;124;43mgold_standards.json\u001B[39;49m\u001B[38;5;124;43m\"\u001B[39;49m\u001B[43m)\u001B[49m\n\u001B[0;32m      4\u001B[0m train_data \u001B[38;5;241m=\u001B[39m labeled_train \u001B[38;5;241m+\u001B[39m unlabeled_train\n\u001B[0;32m      5\u001B[0m eval_data \u001B[38;5;241m=\u001B[39m labeled_eval \u001B[38;5;241m+\u001B[39m unlabeled_eval\n",
      "File \u001B[1;32m~\\Documents\\github\\Explingo\\full-experiment\\examples.py:28\u001B[0m, in \u001B[0;36mget_data\u001B[1;34m(json_file, split)\u001B[0m\n\u001B[0;32m     27\u001B[0m \u001B[38;5;28;01mdef\u001B[39;00m \u001B[38;5;21mget_data\u001B[39m(json_file, split\u001B[38;5;241m=\u001B[39m\u001B[38;5;28;01mNone\u001B[39;00m):\n\u001B[1;32m---> 28\u001B[0m     all_data \u001B[38;5;241m=\u001B[39m \u001B[43mload_examples\u001B[49m\u001B[43m(\u001B[49m\u001B[43mjson_file\u001B[49m\u001B[43m)\u001B[49m\n\u001B[0;32m     29\u001B[0m     labeled_data \u001B[38;5;241m=\u001B[39m [example \u001B[38;5;28;01mfor\u001B[39;00m example \u001B[38;5;129;01min\u001B[39;00m all_data \u001B[38;5;28;01mif\u001B[39;00m \u001B[38;5;28mhasattr\u001B[39m(example, \u001B[38;5;124m\"\u001B[39m\u001B[38;5;124mnarrative\u001B[39m\u001B[38;5;124m\"\u001B[39m)]\n\u001B[0;32m     30\u001B[0m     unlabeled_data \u001B[38;5;241m=\u001B[39m [\n\u001B[0;32m     31\u001B[0m         example \u001B[38;5;28;01mfor\u001B[39;00m example \u001B[38;5;129;01min\u001B[39;00m all_data \u001B[38;5;28;01mif\u001B[39;00m \u001B[38;5;129;01mnot\u001B[39;00m \u001B[38;5;28mhasattr\u001B[39m(example, \u001B[38;5;124m\"\u001B[39m\u001B[38;5;124mnarrative\u001B[39m\u001B[38;5;124m\"\u001B[39m)\n\u001B[0;32m     32\u001B[0m     ]\n",
      "File \u001B[1;32m~\\Documents\\github\\Explingo\\full-experiment\\examples.py:20\u001B[0m, in \u001B[0;36mload_examples\u001B[1;34m(json_file)\u001B[0m\n\u001B[0;32m     19\u001B[0m \u001B[38;5;28;01mdef\u001B[39;00m \u001B[38;5;21mload_examples\u001B[39m(json_file):\n\u001B[1;32m---> 20\u001B[0m     training_data \u001B[38;5;241m=\u001B[39m json\u001B[38;5;241m.\u001B[39mload(\u001B[38;5;28;43mopen\u001B[39;49m\u001B[43m(\u001B[49m\u001B[43mjson_file\u001B[49m\u001B[43m,\u001B[49m\u001B[43m \u001B[49m\u001B[38;5;124;43m\"\u001B[39;49m\u001B[38;5;124;43mr\u001B[39;49m\u001B[38;5;124;43m\"\u001B[39;49m\u001B[43m)\u001B[49m)\n\u001B[0;32m     21\u001B[0m     examples \u001B[38;5;241m=\u001B[39m []\n\u001B[0;32m     22\u001B[0m     \u001B[38;5;28;01mfor\u001B[39;00m entry \u001B[38;5;129;01min\u001B[39;00m training_data:\n",
      "\u001B[1;31mFileNotFoundError\u001B[0m: [Errno 2] No such file or directory: 'gold_standards.json'"
     ]
    }
   ],
   "execution_count": 15
  },
  {
   "metadata": {},
   "cell_type": "markdown",
   "source": [
    "# Failing Cases"
   ],
   "id": "cc5f59cef2f2ca2f"
  },
  {
   "metadata": {
    "ExecuteTime": {
     "end_time": "2024-09-05T20:25:46.359664Z",
     "start_time": "2024-09-05T20:25:46.359664Z"
    }
   },
   "cell_type": "code",
   "source": [
    "inaccurate_output = dspy.Prediction(narrative='The size being 5 decreased the prediction by 10. The color being red decreased the prediction by 8.')\n",
    "inaccurate_result = metrics.accuracy(test_input, inaccurate_output, grader=grader)\n",
    "assert inaccurate_result == 0, inaccurate_result\n",
    "\n",
    "misleading_output = dspy.Prediction(narrative='Surprisingly, the large house size of 5 increased the predicted price')\n",
    "misleading_result = metrics.accuracy(test_input, misleading_output, grader=grader)\n",
    "assert 0 < misleading_result < 4, misleading_result"
   ],
   "id": "761fe0aa9fc2f680",
   "outputs": [],
   "execution_count": null
  },
  {
   "metadata": {
    "ExecuteTime": {
     "end_time": "2024-09-05T20:25:46.360664Z",
     "start_time": "2024-09-05T20:25:46.360664Z"
    }
   },
   "cell_type": "code",
   "source": [],
   "id": "5c9ab560813b91c6",
   "outputs": [],
   "execution_count": null
  }
 ],
 "metadata": {
  "kernelspec": {
   "display_name": "Python 3",
   "language": "python",
   "name": "python3"
  },
  "language_info": {
   "codemirror_mode": {
    "name": "ipython",
    "version": 2
   },
   "file_extension": ".py",
   "mimetype": "text/x-python",
   "name": "python",
   "nbconvert_exporter": "python",
   "pygments_lexer": "ipython2",
   "version": "2.7.6"
  }
 },
 "nbformat": 4,
 "nbformat_minor": 5
}
