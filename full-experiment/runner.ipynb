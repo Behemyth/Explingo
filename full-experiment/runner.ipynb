{
 "cells": [
  {
   "cell_type": "code",
   "id": "initial_id",
   "metadata": {
    "collapsed": true,
    "ExecuteTime": {
     "end_time": "2024-08-20T15:48:44.565959Z",
     "start_time": "2024-08-20T15:48:43.241632Z"
    }
   },
   "source": [
    "import examples, core \n",
    "import os\n",
    "import yaml\n",
    "import dspy\n",
    "import metrics"
   ],
   "outputs": [],
   "execution_count": 1
  },
  {
   "cell_type": "code",
   "source": [
    "with open(os.path.join(\"..\", \"keys.yaml\"), \"r\") as file:\n",
    "    config = yaml.safe_load(file)\n",
    "    openai_api_key = config[\"openai_api_key\"]\n",
    "\n",
    "llm = dspy.OpenAI(model='gpt-4o', api_key=openai_api_key, max_tokens=2000)"
   ],
   "metadata": {
    "collapsed": false,
    "ExecuteTime": {
     "end_time": "2024-08-20T15:48:44.581852Z",
     "start_time": "2024-08-20T15:48:44.567837Z"
    }
   },
   "id": "6e9d56b95001b3ac",
   "outputs": [],
   "execution_count": 2
  },
  {
   "metadata": {
    "ExecuteTime": {
     "end_time": "2024-08-20T15:48:44.597854Z",
     "start_time": "2024-08-20T15:48:44.582855Z"
    }
   },
   "cell_type": "code",
   "source": [
    "data = examples.load_examples(\"examples.json\")\n",
    "\n",
    "exp_metrics = metrics.Metrics(\n",
    "            [\n",
    "                metrics.accuracy,\n",
    "                metrics.fluency,\n",
    "                metrics.completeness,\n",
    "                metrics.conciseness,\n",
    "                metrics.context_awareness,\n",
    "            ], verbose=False\n",
    "        )\n",
    "\n",
    "explingo = core.Explingo(llm=llm, context=\"The model predicts house prices\", \n",
    "                         examples=data, metric=exp_metrics)"
   ],
   "id": "75a9fcd3ad0e9975",
   "outputs": [],
   "execution_count": 3
  },
  {
   "metadata": {
    "ExecuteTime": {
     "end_time": "2024-08-20T15:48:44.613836Z",
     "start_time": "2024-08-20T15:48:44.599838Z"
    }
   },
   "cell_type": "code",
   "source": [
    "test_explanations = [d.explanation for d in data]\n",
    "test_explanation_format = data[0].explanation_format"
   ],
   "id": "66031abf3885cb9a",
   "outputs": [],
   "execution_count": 4
  },
  {
   "cell_type": "markdown",
   "source": [
    "# BASIC PROMPTING\n",
    "\n",
    "TODO: update Explingo's prompting method to take in multiple different prompt options. \n",
    "DSPy does not support this by default, but we are using DSPy's evaluations"
   ],
   "metadata": {
    "collapsed": false
   },
   "id": "7b5694bfd440f310"
  },
  {
   "cell_type": "code",
   "source": "explingo.run_experiment(test_explanations, test_explanation_format, prompt_type=\"basic\", max_iters=5)",
   "metadata": {
    "collapsed": false,
    "ExecuteTime": {
     "end_time": "2024-08-20T15:48:44.676566Z",
     "start_time": "2024-08-20T15:48:44.616880Z"
    }
   },
   "id": "1be61df6a728fa29",
   "outputs": [
    {
     "data": {
      "text/plain": [
       "(7.212000000000001,\n",
       " accuracy             2.000\n",
       " fluency              1.000\n",
       " completeness         2.000\n",
       " conciseness          0.212\n",
       " context_awareness    2.000\n",
       " dtype: float64)"
      ]
     },
     "execution_count": 5,
     "metadata": {},
     "output_type": "execute_result"
    }
   ],
   "execution_count": 5
  },
  {
   "cell_type": "code",
   "source": [
    "explingo.run_experiment(test_explanations, test_explanation_format, prompt_type=\"few-shot\", max_iters=5)"
   ],
   "metadata": {
    "collapsed": false,
    "jupyter": {
     "is_executing": true
    },
    "ExecuteTime": {
     "start_time": "2024-08-20T15:48:44.677444Z"
    }
   },
   "id": "c57212f361799ac6",
   "outputs": [],
   "execution_count": null
  },
  {
   "metadata": {
    "jupyter": {
     "is_executing": true
    }
   },
   "cell_type": "code",
   "source": "llm.inspect_history(n=1)",
   "id": "9a271c6356810502",
   "outputs": [],
   "execution_count": null
  },
  {
   "cell_type": "code",
   "source": [
    "explingo.run_experiment(test_explanations, test_explanation_format, prompt_type=\"bootstrap-few-shot\", max_iters=5)"
   ],
   "metadata": {
    "collapsed": false,
    "jupyter": {
     "is_executing": true
    }
   },
   "id": "7bb946a284aff621",
   "outputs": [],
   "execution_count": null
  },
  {
   "cell_type": "code",
   "source": [
    "llm.inspect_history(n=1)"
   ],
   "metadata": {
    "collapsed": false,
    "jupyter": {
     "is_executing": true
    }
   },
   "id": "8d03521c1b9950c5",
   "outputs": [],
   "execution_count": null
  },
  {
   "cell_type": "code",
   "source": [],
   "metadata": {
    "collapsed": false,
    "jupyter": {
     "is_executing": true
    }
   },
   "id": "1f8dc850abb3fc63",
   "outputs": [],
   "execution_count": null
  }
 ],
 "metadata": {
  "kernelspec": {
   "display_name": "Python 3",
   "language": "python",
   "name": "python3"
  },
  "language_info": {
   "codemirror_mode": {
    "name": "ipython",
    "version": 2
   },
   "file_extension": ".py",
   "mimetype": "text/x-python",
   "name": "python",
   "nbconvert_exporter": "python",
   "pygments_lexer": "ipython2",
   "version": "2.7.6"
  }
 },
 "nbformat": 4,
 "nbformat_minor": 5
}
