{
 "cells": [
  {
   "cell_type": "code",
   "execution_count": 11,
   "id": "initial_id",
   "metadata": {
    "collapsed": true,
    "ExecuteTime": {
     "end_time": "2024-08-14T21:55:51.735608Z",
     "start_time": "2024-08-14T21:55:51.732103Z"
    }
   },
   "outputs": [],
   "source": [
    "import examples, core \n",
    "import os\n",
    "import yaml\n",
    "import dspy\n",
    "\n",
    "data = examples.load_examples(\"examples.json\")\n",
    "explingo = core.Explingo(context=\"The model predicts house prices\", \n",
    "                         examples=data)"
   ]
  },
  {
   "cell_type": "code",
   "outputs": [],
   "source": [
    "with open(os.path.join(\"..\", \"keys.yaml\"), \"r\") as file:\n",
    "    config = yaml.safe_load(file)\n",
    "    openai_api_key = config[\"openai_api_key\"]\n",
    "\n",
    "llm = dspy.OpenAI(model='gpt-4', api_key=openai_api_key)\n",
    "dspy.settings.configure(lm=llm, experimental=True)"
   ],
   "metadata": {
    "collapsed": false,
    "ExecuteTime": {
     "end_time": "2024-08-14T21:55:51.747585Z",
     "start_time": "2024-08-14T21:55:51.741626Z"
    }
   },
   "id": "6e9d56b95001b3ac",
   "execution_count": 12
  },
  {
   "cell_type": "markdown",
   "source": [
    "# BASIC PROMPTING\n",
    "\n",
    "TODO: update Explingo's prompting method to take in multiple different prompt options. \n",
    "DSPy does not support this by default, but we are using DSPy's evaluatiosn"
   ],
   "metadata": {
    "collapsed": false
   },
   "id": "7b5694bfd440f310"
  },
  {
   "cell_type": "code",
   "outputs": [
    {
     "data": {
      "text/plain": "0.72"
     },
     "execution_count": 13,
     "metadata": {},
     "output_type": "execute_result"
    }
   ],
   "source": [
    "test_explanations = [d.explanation for d in data]\n",
    "test_explanation_format = data[0].explanation_format\n",
    "\n",
    "explingo.run_experiment(test_explanations, test_explanation_format, type=\"basic\", max_iters=5)"
   ],
   "metadata": {
    "collapsed": false,
    "ExecuteTime": {
     "end_time": "2024-08-14T21:55:51.770109Z",
     "start_time": "2024-08-14T21:55:51.748594Z"
    }
   },
   "id": "1be61df6a728fa29",
   "execution_count": 13
  },
  {
   "cell_type": "markdown",
   "source": [],
   "metadata": {
    "collapsed": false
   },
   "id": "bc28d285aae910f6"
  },
  {
   "cell_type": "code",
   "outputs": [
    {
     "data": {
      "text/plain": "0.72"
     },
     "execution_count": 14,
     "metadata": {},
     "output_type": "execute_result"
    }
   ],
   "source": [
    "explingo.run_experiment(test_explanations, test_explanation_format, type=\"few-shot\", max_iters=5)"
   ],
   "metadata": {
    "collapsed": false,
    "ExecuteTime": {
     "end_time": "2024-08-14T21:55:51.792772Z",
     "start_time": "2024-08-14T21:55:51.770109Z"
    }
   },
   "id": "c57212f361799ac6",
   "execution_count": 14
  },
  {
   "cell_type": "code",
   "outputs": [
    {
     "name": "stderr",
     "output_type": "stream",
     "text": [
      "100%|██████████| 25/25 [00:00<00:00, 399.91it/s]\n"
     ]
    },
    {
     "name": "stdout",
     "output_type": "stream",
     "text": [
      "Bootstrapped 0 full traces after 25 examples in round 0.\n"
     ]
    },
    {
     "data": {
      "text/plain": "0.72"
     },
     "execution_count": 15,
     "metadata": {},
     "output_type": "execute_result"
    }
   ],
   "source": [
    "explingo.run_experiment(test_explanations, test_explanation_format, type=\"bootstrap-few-shot\", max_iters=5)\n"
   ],
   "metadata": {
    "collapsed": false,
    "ExecuteTime": {
     "end_time": "2024-08-14T21:55:51.876740Z",
     "start_time": "2024-08-14T21:55:51.793778Z"
    }
   },
   "id": "7bb946a284aff621",
   "execution_count": 15
  },
  {
   "cell_type": "code",
   "outputs": [],
   "source": [],
   "metadata": {
    "collapsed": false,
    "ExecuteTime": {
     "end_time": "2024-08-14T21:55:51.879199Z",
     "start_time": "2024-08-14T21:55:51.876740Z"
    }
   },
   "id": "8d03521c1b9950c5",
   "execution_count": 15
  }
 ],
 "metadata": {
  "kernelspec": {
   "display_name": "Python 3",
   "language": "python",
   "name": "python3"
  },
  "language_info": {
   "codemirror_mode": {
    "name": "ipython",
    "version": 2
   },
   "file_extension": ".py",
   "mimetype": "text/x-python",
   "name": "python",
   "nbconvert_exporter": "python",
   "pygments_lexer": "ipython2",
   "version": "2.7.6"
  }
 },
 "nbformat": 4,
 "nbformat_minor": 5
}
