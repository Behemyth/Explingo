{
 "cells": [
  {
   "cell_type": "code",
   "id": "initial_id",
   "metadata": {
    "collapsed": true,
    "ExecuteTime": {
     "end_time": "2024-08-20T16:00:41.714768Z",
     "start_time": "2024-08-20T16:00:40.386966Z"
    }
   },
   "source": [
    "import examples, core \n",
    "import os\n",
    "import yaml\n",
    "import dspy\n",
    "import metrics"
   ],
   "outputs": [],
   "execution_count": 1
  },
  {
   "cell_type": "code",
   "source": [
    "with open(os.path.join(\"..\", \"keys.yaml\"), \"r\") as file:\n",
    "    config = yaml.safe_load(file)\n",
    "    openai_api_key = config[\"openai_api_key\"]\n",
    "\n",
    "llm = dspy.OpenAI(model='gpt-4o', api_key=openai_api_key, max_tokens=2000)"
   ],
   "metadata": {
    "collapsed": false,
    "ExecuteTime": {
     "end_time": "2024-08-20T16:00:41.730661Z",
     "start_time": "2024-08-20T16:00:41.716646Z"
    }
   },
   "id": "6e9d56b95001b3ac",
   "outputs": [],
   "execution_count": 2
  },
  {
   "metadata": {
    "ExecuteTime": {
     "end_time": "2024-08-20T16:00:41.746662Z",
     "start_time": "2024-08-20T16:00:41.731645Z"
    }
   },
   "cell_type": "code",
   "source": [
    "data = examples.load_examples(\"examples.json\")\n",
    "\n",
    "exp_metrics = metrics.Metrics(\n",
    "            [\n",
    "                metrics.accuracy,\n",
    "                metrics.fluency,\n",
    "                metrics.completeness,\n",
    "                metrics.conciseness,\n",
    "                metrics.context_awareness,\n",
    "            ], verbose=1\n",
    "        )\n",
    "\n",
    "explingo = core.Explingo(llm=llm, context=\"The model predicts house prices\", \n",
    "                         examples=data, metric=exp_metrics)"
   ],
   "id": "75a9fcd3ad0e9975",
   "outputs": [],
   "execution_count": 3
  },
  {
   "metadata": {
    "ExecuteTime": {
     "end_time": "2024-08-20T16:00:41.761646Z",
     "start_time": "2024-08-20T16:00:41.747649Z"
    }
   },
   "cell_type": "code",
   "source": [
    "test_explanations = [d.explanation for d in data]\n",
    "test_explanation_format = data[0].explanation_format"
   ],
   "id": "66031abf3885cb9a",
   "outputs": [],
   "execution_count": 4
  },
  {
   "cell_type": "markdown",
   "source": [
    "# BASIC PROMPTING\n",
    "\n",
    "TODO: update Explingo's prompting method to take in multiple different prompt options. \n",
    "DSPy does not support this by default, but we are using DSPy's evaluations"
   ],
   "metadata": {
    "collapsed": false
   },
   "id": "7b5694bfd440f310"
  },
  {
   "cell_type": "code",
   "source": "explingo.run_experiment(test_explanations, test_explanation_format, prompt_type=\"basic\", max_iters=5)",
   "metadata": {
    "collapsed": false,
    "ExecuteTime": {
     "end_time": "2024-08-20T16:00:41.872244Z",
     "start_time": "2024-08-20T16:00:41.763646Z"
    }
   },
   "id": "1be61df6a728fa29",
   "outputs": [
    {
     "name": "stdout",
     "output_type": "stream",
     "text": [
      "Narrative: The model predicts the house price based on several key features. The above ground living area of 1256 square feet decreases the predicted price by $12,527.46. The overall material and finish rating of the house, which is 5, reduces the price by $10,743.76. The absence of a second floor contributes to a decrease of $10,142.29. The house's location within the Edwards neighborhood in Ames city limits lowers the price by $9,913.81. However, the presence of a wood deck area of 736 square feet increases the predicted price by $9,846.38.\n",
      "Total Score: 8.11\n",
      "accuracy: 2.0, fluency: 1.0, completeness: 2.0, conciseness: 1.1099999999999999, context_awareness: 2.0, \n",
      "--\n",
      "Narrative: The model predicts the house price based on several key features. The second floor square feet, which is 854.00, contributes significantly to increasing the price by 12757.84 units. The original construction date of the house, which is 2003.00, also adds a substantial amount of 9115.72 units to the price. On the other hand, the total square feet of the basement area, which is 856.00, decreases the price by 6157.86 units. Similarly, the first floor square feet, which is 856.00, reduces the price by 5466.64 units. Additionally, the house's physical location within the Ames city limits, specifically in the CollgCr neighborhood, decreases the price by 4761.42 units.\n",
      "Total Score: 7.9399999999999995\n",
      "accuracy: 2.0, fluency: 1.0, completeness: 2.0, conciseness: 0.94, context_awareness: 2.0, \n",
      "--\n",
      "Narrative: The model predicts the house price based on several key features. The presence of walkout or garden level walls contributes positively to the price, adding approximately $17,607.43. The overall condition of the house, rated at 8.00, also increases the price by about $13,038.14. However, the above ground living area of 1262 square feet decreases the price by $12,319.48. Additionally, having no second floor square footage reduces the price by $10,142.29. Lastly, the house's proximity to feeder roads negatively impacts the price, reducing it by $8,251.83.\n",
      "Total Score: 8.15\n",
      "accuracy: 2.0, fluency: 1.0, completeness: 2.0, conciseness: 1.15, context_awareness: 2.0, \n",
      "--\n",
      "Narrative: The model predicts the house price based on several key features. The second floor square feet, which is 866.00, contributes significantly to increasing the price by 13079.62 units. The original construction date of the house, which is 2001.00, also adds a substantial amount of 8500.21 units to the price. The above ground living area square feet, measured at 1786.00, further increases the price by 5844.30 units. However, the house being located within the CollgCr area of Ames city limits decreases the price by 4761.42 units. Additionally, the total square feet of the basement area, which is 920.00, reduces the price by 4747.08 units.\n",
      "Total Score: 7.97\n",
      "accuracy: 2.0, fluency: 1.0, completeness: 2.0, conciseness: 0.97, context_awareness: 2.0, \n",
      "--\n",
      "Narrative: The model predicts the house price by considering several factors. The original construction date of 1915 decreases the price by $17,966.77. Being located within the Crawfor area of Ames city increases the price by $17,703.26. The second floor's square footage of 756 adds $10,129.96 to the price. However, the total basement area of 756 square feet reduces the price by $8,362.22. Additionally, the condition of sale being abnormal decreases the price by $6,786.66.\n",
      "Total Score: 8.27\n",
      "accuracy: 2.0, fluency: 1.0, completeness: 2.0, conciseness: 1.27, context_awareness: 2.0, \n",
      "--\n"
     ]
    },
    {
     "data": {
      "text/plain": [
       "(8.088,\n",
       " accuracy             2.000\n",
       " fluency              1.000\n",
       " completeness         2.000\n",
       " conciseness          1.088\n",
       " context_awareness    2.000\n",
       " dtype: float64)"
      ]
     },
     "execution_count": 5,
     "metadata": {},
     "output_type": "execute_result"
    }
   ],
   "execution_count": 5
  },
  {
   "cell_type": "code",
   "source": [
    "explingo.run_experiment(test_explanations, test_explanation_format, prompt_type=\"few-shot\", max_iters=5)"
   ],
   "metadata": {
    "collapsed": false,
    "jupyter": {
     "is_executing": true
    },
    "ExecuteTime": {
     "start_time": "2024-08-20T16:00:41.873227Z"
    }
   },
   "id": "c57212f361799ac6",
   "outputs": [
    {
     "name": "stdout",
     "output_type": "stream",
     "text": [
      "Narrative: The relatively smaller above ground living space decreased the predicted price by about $12,500. The house's average condition (rated 5/10) decreased the price by about $10,700. The absence of a second floor reduced the price by about $10,000. The house's location in Edwards reduced the price by about $10,000. However, the relatively large wood deck area increased the price by about $9,800.\n",
      "Total Score: 8.379999999999999\n",
      "accuracy: 2.0, fluency: 1.0, completeness: 2.0, conciseness: 1.38, context_awareness: 2.0, \n",
      "--\n",
      "Narrative: The house's larger than average second floor increased the predicted price by about $12,000. The house is newer than average, with a construction year of 2003, which increased the price by about $9,000. The relatively smaller basement and first floor areas reduced the price by about $6,000 and $5,000, respectively. The house's location in CollgCr, reduced the price by about $5,000.\n",
      "Total Score: 6.390000000000001\n",
      "accuracy: 2.0, fluency: 1.0, completeness: 0.0, conciseness: 1.3900000000000001, context_awareness: 2.0, \n",
      "--\n",
      "Narrative: This house has good garden level walls, which increases its predicted price by about $17,000. The house's good condition (rated 8/10) increased the price by about $13,000. The relatively smaller above ground living space reduced the price by about $12,000. The absence of a second floor reduced the price by about $10,000. The house's location on a feeder street reduced the price by about $8,000.\n",
      "Total Score: 8.35\n",
      "accuracy: 2.0, fluency: 1.0, completeness: 2.0, conciseness: 1.35, context_awareness: 2.0, \n",
      "--\n"
     ]
    }
   ],
   "execution_count": null
  },
  {
   "cell_type": "code",
   "source": [
    "explingo.run_experiment(test_explanations, test_explanation_format, prompt_type=\"bootstrap-few-shot\", max_iters=5)"
   ],
   "metadata": {
    "collapsed": false,
    "jupyter": {
     "is_executing": true
    }
   },
   "id": "7bb946a284aff621",
   "outputs": [],
   "execution_count": null
  },
  {
   "cell_type": "code",
   "source": [],
   "metadata": {
    "collapsed": false,
    "jupyter": {
     "is_executing": true
    }
   },
   "id": "1f8dc850abb3fc63",
   "outputs": [],
   "execution_count": null
  }
 ],
 "metadata": {
  "kernelspec": {
   "display_name": "Python 3",
   "language": "python",
   "name": "python3"
  },
  "language_info": {
   "codemirror_mode": {
    "name": "ipython",
    "version": 2
   },
   "file_extension": ".py",
   "mimetype": "text/x-python",
   "name": "python",
   "nbconvert_exporter": "python",
   "pygments_lexer": "ipython2",
   "version": "2.7.6"
  }
 },
 "nbformat": 4,
 "nbformat_minor": 5
}
