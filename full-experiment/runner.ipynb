{
 "cells": [
  {
   "cell_type": "code",
   "id": "initial_id",
   "metadata": {
    "collapsed": true,
    "ExecuteTime": {
     "end_time": "2024-08-20T16:41:50.267292Z",
     "start_time": "2024-08-20T16:41:47.854070Z"
    }
   },
   "source": [
    "import examples, core \n",
    "import os\n",
    "import yaml\n",
    "import dspy\n",
    "import metrics"
   ],
   "outputs": [],
   "execution_count": 1
  },
  {
   "cell_type": "code",
   "source": [
    "with open(os.path.join(\"..\", \"keys.yaml\"), \"r\") as file:\n",
    "    config = yaml.safe_load(file)\n",
    "    openai_api_key = config[\"openai_api_key\"]\n",
    "\n",
    "llm = dspy.OpenAI(model='gpt-4o', api_key=openai_api_key, max_tokens=2000)"
   ],
   "metadata": {
    "collapsed": false,
    "ExecuteTime": {
     "end_time": "2024-08-20T16:41:50.283314Z",
     "start_time": "2024-08-20T16:41:50.271176Z"
    }
   },
   "id": "6e9d56b95001b3ac",
   "outputs": [],
   "execution_count": 2
  },
  {
   "metadata": {
    "ExecuteTime": {
     "end_time": "2024-08-20T16:41:50.315661Z",
     "start_time": "2024-08-20T16:41:50.286660Z"
    }
   },
   "cell_type": "code",
   "source": [
    "data = examples.load_examples(\"examples.json\")\n",
    "\n",
    "exp_metrics = metrics.Metrics(\n",
    "            [\n",
    "                metrics.accuracy,\n",
    "                metrics.fluency,\n",
    "                metrics.conciseness,\n",
    "                metrics.context_awareness,\n",
    "            ], verbose=1\n",
    "        )\n",
    "\n",
    "explingo = core.Explingo(llm=llm, context=\"The model predicts house prices\", \n",
    "                         examples=data, metric=exp_metrics)"
   ],
   "id": "75a9fcd3ad0e9975",
   "outputs": [],
   "execution_count": 3
  },
  {
   "metadata": {
    "ExecuteTime": {
     "end_time": "2024-08-20T16:41:50.346502Z",
     "start_time": "2024-08-20T16:41:50.318670Z"
    }
   },
   "cell_type": "code",
   "source": [
    "test_explanations = [d.explanation for d in data]\n",
    "test_explanation_format = data[0].explanation_format\n",
    "\n",
    "gold_standards = [d for d in data if hasattr(d, \"narrative\")]\n",
    "max_optimal_length = max([len(d.narrative) for d in gold_standards])\n",
    "max_optimal_length"
   ],
   "id": "66031abf3885cb9a",
   "outputs": [
    {
     "data": {
      "text/plain": [
       "474"
      ]
     },
     "execution_count": 4,
     "metadata": {},
     "output_type": "execute_result"
    }
   ],
   "execution_count": 4
  },
  {
   "metadata": {
    "ExecuteTime": {
     "end_time": "2024-08-20T16:41:50.393625Z",
     "start_time": "2024-08-20T16:41:50.350500Z"
    }
   },
   "cell_type": "code",
   "source": [
    "VERIFY = True\n",
    "\n",
    "if VERIFY:\n",
    "    ver_metrics = metrics.Metrics(\n",
    "            [\n",
    "                metrics.accuracy,\n",
    "                metrics.fluency,\n",
    "                metrics.conciseness,\n",
    "            ], \n",
    "        verbose=0, \n",
    "        metric_kwargs={\"conciseness\": {\"max_optimal_length\": max_optimal_length}}\n",
    "    )\n",
    "    print(ver_metrics(gold_standards[0], gold_standards[0]))"
   ],
   "id": "4b38609ff7969130",
   "outputs": [
    {
     "name": "stdout",
     "output_type": "stream",
     "text": [
      "(5.0, accuracy       2.0\n",
      "fluency        1.0\n",
      "conciseness    2.0\n",
      "dtype: float64)\n"
     ]
    }
   ],
   "execution_count": 5
  },
  {
   "cell_type": "markdown",
   "source": [
    "# BASIC PROMPTING\n",
    "\n",
    "TODO: update Explingo's prompting method to take in multiple different prompt options. \n",
    "DSPy does not support this by default, but we are using DSPy's evaluations"
   ],
   "metadata": {
    "collapsed": false
   },
   "id": "7b5694bfd440f310"
  },
  {
   "cell_type": "code",
   "source": "explingo.run_experiment(test_explanations, test_explanation_format, prompt_type=\"basic\", max_iters=5)",
   "metadata": {
    "collapsed": false,
    "ExecuteTime": {
     "end_time": "2024-08-20T16:41:50.563799Z",
     "start_time": "2024-08-20T16:41:50.396626Z"
    }
   },
   "id": "1be61df6a728fa29",
   "outputs": [
    {
     "name": "stdout",
     "output_type": "stream",
     "text": [
      "Narrative: The model predicts the house price based on several key features. The above ground living area of 1256 square feet decreases the predicted price by $12,527.46. The overall material and finish rating of the house, which is 5, reduces the price by $10,743.76. The absence of a second floor contributes to a decrease of $10,142.29. The house's location within the Edwards neighborhood in Ames city limits lowers the price by $9,913.81. However, the presence of a wood deck area of 736 square feet increases the predicted price by $9,846.38.\n",
      "Total Score: 7.0\n",
      "accuracy: 2.0, fluency: 1.0, conciseness: 2.0, context_awareness: 2.0, \n",
      "--\n",
      "Narrative: The model predicts the house price based on several key features. The second floor square feet, which is 854.00, contributes significantly to increasing the price by 12757.84 units. The original construction date of the house, which is 2003.00, also adds a substantial amount of 9115.72 units to the price. On the other hand, the total square feet of the basement area, which is 856.00, decreases the price by 6157.86 units. Similarly, the first floor square feet, which is 856.00, reduces the price by 5466.64 units. Additionally, the house's physical location within the Ames city limits, specifically in the CollgCr neighborhood, decreases the price by 4761.42 units.\n",
      "Total Score: 6.88\n",
      "accuracy: 2.0, fluency: 1.0, conciseness: 1.88, context_awareness: 2.0, \n",
      "--\n",
      "Narrative: The model predicts the house price based on several key features. The presence of walkout or garden level walls contributes positively to the price, adding approximately $17,607.43. The overall condition of the house, rated at 8.00, also increases the price by about $13,038.14. However, the above ground living area of 1262 square feet decreases the price by $12,319.48. Additionally, having no second floor square footage reduces the price by $10,142.29. Lastly, the house's proximity to feeder roads negatively impacts the price, reducing it by $8,251.83.\n",
      "Total Score: 7.0\n",
      "accuracy: 2.0, fluency: 1.0, conciseness: 2.0, context_awareness: 2.0, \n",
      "--\n",
      "Narrative: The model predicts the house price based on several key features. The second floor square feet, which is 866.00, contributes significantly to increasing the price by 13079.62 units. The original construction date of the house, which is 2001.00, also adds a substantial amount of 8500.21 units to the price. The above ground living area square feet, measured at 1786.00, further increases the price by 5844.30 units. However, the house being located within the CollgCr area of Ames city limits decreases the price by 4761.42 units. Additionally, the total square feet of the basement area, which is 920.00, reduces the price by 4747.08 units.\n",
      "Total Score: 6.9399999999999995\n",
      "accuracy: 2.0, fluency: 1.0, conciseness: 1.94, context_awareness: 2.0, \n",
      "--\n",
      "Narrative: The model predicts the house price by considering several factors. The original construction date of 1915 decreases the price by $17,966.77. Being located within the Crawfor area of Ames city increases the price by $17,703.26. The second floor's square footage of 756 adds $10,129.96 to the price. However, the total basement area of 756 square feet reduces the price by $8,362.22. Additionally, the condition of sale being abnormal decreases the price by $6,786.66.\n",
      "Total Score: 7.0\n",
      "accuracy: 2.0, fluency: 1.0, conciseness: 2.0, context_awareness: 2.0, \n",
      "--\n"
     ]
    },
    {
     "data": {
      "text/plain": [
       "(6.964,\n",
       " accuracy             2.000\n",
       " fluency              1.000\n",
       " conciseness          1.964\n",
       " context_awareness    2.000\n",
       " dtype: float64)"
      ]
     },
     "execution_count": 6,
     "metadata": {},
     "output_type": "execute_result"
    }
   ],
   "execution_count": 6
  },
  {
   "cell_type": "code",
   "source": [
    "explingo.run_experiment(test_explanations, test_explanation_format, prompt_type=\"few-shot\", max_iters=5)"
   ],
   "metadata": {
    "collapsed": false,
    "ExecuteTime": {
     "end_time": "2024-08-20T16:42:23.452147Z",
     "start_time": "2024-08-20T16:41:50.566795Z"
    }
   },
   "id": "c57212f361799ac6",
   "outputs": [
    {
     "name": "stdout",
     "output_type": "stream",
     "text": [
      "Narrative: The relatively smaller above ground living space reduced the predicted price by about $12,500. The house's average material and finish quality (rated 5/10) reduced the price by about $10,700. The absence of a second floor reduced the price by about $10,100. The house's location in the Edwards neighborhood reduced the price by about $9,900. The relatively larger wood deck area increased the price by about $9,800.\n",
      "Total Score: 7.0\n",
      "accuracy: 2.0, fluency: 1.0, conciseness: 2.0, context_awareness: 2.0, \n",
      "--\n",
      "Narrative: The house's larger than average second floor increased the predicted price by about $12,000. The house is newer than average, with a construction year of 2003, which increased the price by about $9,000. The relatively smaller basement and first floor areas reduced the price by about $6,000 and $5,000, respectively. The house's location in CollgCr reduced the price by about $5,000.\n",
      "Total Score: 7.0\n",
      "accuracy: 2.0, fluency: 1.0, conciseness: 2.0, context_awareness: 2.0, \n",
      "--\n",
      "Narrative: This house has good garden level walls, which increases its predicted price by about $17,000. The house's good condition (rated 8/10) increased the price by about $13,000. The relatively smaller above ground living space reduced the price by about $12,000. The absence of a second floor reduced the price by about $10,000. The house's location on a feeder street reduced the price by about $8,000.\n",
      "Total Score: 7.0\n",
      "accuracy: 2.0, fluency: 1.0, conciseness: 2.0, context_awareness: 2.0, \n",
      "--\n",
      "Narrative: The house's larger than average second floor increased the predicted price by about $13,000. The house is newer than average, with a construction year of 2001, which increased the price by about $8,500. The relatively larger above ground living space increased the price by about $5,800. The house's location in CollgCr reduced the price by about $5,000. The relatively smaller basement area reduced the price by about $5,000.\n",
      "Total Score: 7.0\n",
      "accuracy: 2.0, fluency: 1.0, conciseness: 2.0, context_awareness: 2.0, \n",
      "--\n",
      "Narrative: The house is older than average, with a construction year of 1915, which reduced the predicted price by about $18,000. The house's location in Crawfor increased the price by about $18,000. The house's larger than average second floor increased the price by about $10,000. The relatively smaller basement area reduced the price by about $8,000. The abnormal condition of the sale reduced the price by about $7,000.\n",
      "Total Score: 7.0\n",
      "accuracy: 2.0, fluency: 1.0, conciseness: 2.0, context_awareness: 2.0, \n",
      "--\n"
     ]
    },
    {
     "data": {
      "text/plain": [
       "(7.0,\n",
       " accuracy             2.0\n",
       " fluency              1.0\n",
       " conciseness          2.0\n",
       " context_awareness    2.0\n",
       " dtype: float64)"
      ]
     },
     "execution_count": 7,
     "metadata": {},
     "output_type": "execute_result"
    }
   ],
   "execution_count": 7
  },
  {
   "cell_type": "code",
   "source": [
    "explingo.run_experiment(test_explanations, test_explanation_format, prompt_type=\"bootstrap-few-shot\", max_iters=5)"
   ],
   "metadata": {
    "collapsed": false,
    "ExecuteTime": {
     "end_time": "2024-08-20T16:43:03.268290Z",
     "start_time": "2024-08-20T16:42:23.455586Z"
    }
   },
   "id": "7bb946a284aff621",
   "outputs": [
    {
     "name": "stderr",
     "output_type": "stream",
     "text": [
      "  0%|          | 0/25 [00:00<?, ?it/s]"
     ]
    },
    {
     "name": "stdout",
     "output_type": "stream",
     "text": [
      "Narrative: The model predicts the house price based on several key features. The above ground living area, which is 1256 square feet, decreases the predicted price by $12,527.46. The overall material and finish rating of the house, which is 5, reduces the price by $10,743.76. The absence of a second floor further decreases the price by $10,142.29. The house's location within the Edwards neighborhood in Ames city limits lowers the price by $9,913.81. However, the presence of a wood deck area of 736 square feet increases the predicted price by $9,846.38.\n",
      "Total Score: 7.0\n",
      "accuracy: 2.0, fluency: 1.0, conciseness: 2.0, context_awareness: 2.0, \n",
      "--\n",
      "Narrative: The model predicts the house price based on several key features. The second floor square feet, which is 854.00, contributes positively with a value of 12757.84. The original construction date of the house, which is 2003.00, also adds positively to the price with a contribution of 9115.72. However, the total square feet of the basement area, which is 856.00, negatively impacts the price with a contribution of -6157.86. Similarly, the first floor square feet, which is 856.00, has a negative contribution of -5466.64. Additionally, the house's physical location within the Ames city limits, specifically in the CollgCr neighborhood, decreases the price by -4761.42.\n",
      "Total Score: 6.9399999999999995\n",
      "accuracy: 2.0, fluency: 1.0, conciseness: 1.94, context_awareness: 2.0, \n",
      "--\n",
      "Narrative: The model predicts the house price based on several key features. The presence of walkout or garden level walls, rated as 'Gd', increases the predicted price by $17,607.43. The overall condition of the house, rated at 8.00, adds $13,038.14 to the price. However, the above ground living area of 1,262 square feet decreases the price by $12,319.48. Additionally, having no second floor square footage reduces the price by $10,142.29. Lastly, the house's proximity to feeder roads decreases the price by $8,251.83.\n",
      "Total Score: 7.0\n",
      "accuracy: 2.0, fluency: 1.0, conciseness: 2.0, context_awareness: 2.0, \n",
      "--\n"
     ]
    },
    {
     "name": "stderr",
     "output_type": "stream",
     "text": [
      " 12%|█▏        | 3/25 [00:00<00:01, 21.47it/s]"
     ]
    },
    {
     "name": "stdout",
     "output_type": "stream",
     "text": [
      "Narrative: The model predicts the house price based on several key features. The second floor square feet, which is 866.00, contributes significantly to increasing the price by 13079.62. The original construction date of the house, which is 2001.00, also adds a substantial amount of 8500.21 to the price. The above ground living area square feet, measured at 1786.00, further increases the price by 5844.30. However, the physical location within Ames city limits, specifically in the CollgCr area, decreases the price by 4761.42. Additionally, the total square feet of the basement area, which is 920.00, reduces the price by 4747.08.\n",
      "Total Score: 7.0\n",
      "accuracy: 2.0, fluency: 1.0, conciseness: 2.0, context_awareness: 2.0, \n",
      "--\n",
      "Narrative: The house price is influenced by several factors. The original construction date of 1915 decreases the price by $17,966.77. Being located within the Crawfor area of Ames city increases the price by $17,703.26. The second floor, with 756 square feet, adds $10,129.96 to the price. However, the total basement area of 756 square feet decreases the price by $8,362.22. Additionally, the condition of sale being abnormal reduces the price by $6,786.66.\n",
      "Total Score: 7.0\n",
      "accuracy: 2.0, fluency: 1.0, conciseness: 2.0, context_awareness: 2.0, \n",
      "--\n",
      "Narrative: The model predicts the house price based on several key features. The house is located within the Ames city limits, specifically in the NoRidge neighborhood, which contributes significantly to the price. The above-ground living area is 2,198 square feet, adding a substantial amount to the predicted price. Additionally, the second floor has 1,053 square feet, which also positively impacts the price. The overall material and finish of the house are rated at 8, indicating high quality, which further increases the price. Lastly, the house was originally constructed in the year 2000, contributing to the overall valuation.\n",
      "Total Score: 7.0\n",
      "accuracy: 2.0, fluency: 1.0, conciseness: 2.0, context_awareness: 2.0, \n",
      "--\n"
     ]
    },
    {
     "name": "stderr",
     "output_type": "stream",
     "text": [
      " 24%|██▍       | 6/25 [00:00<00:00, 19.90it/s]"
     ]
    },
    {
     "name": "stdout",
     "output_type": "stream",
     "text": [
      "Narrative: The model predicts a lower house price due to several factors. The type of foundation used has a significant negative impact, reducing the price by $18,650.67. Additionally, the house's location within the Mitchel area of Ames city limits decreases the price by $13,510.92. The overall material and finish quality of the house, rated at 5.00, further reduces the price by $10,743.76. On the positive side, the presence of a three-season porch area of 320 square feet increases the price by $9,959.33. Lastly, having one bedroom above ground adds $8,905.73 to the house's price.\n",
      "Total Score: 7.0\n",
      "accuracy: 2.0, fluency: 1.0, conciseness: 2.0, context_awareness: 2.0, \n",
      "--\n",
      "Narrative: The model predicts the house price based on several key features. The finished square feet of the house contributes significantly to the price, adding approximately $14,641.53. The height of the basement is also a major factor, contributing around $13,233.24. The total square feet of the basement area adds another $12,138.28 to the price. However, having no second floor reduces the price by about $10,142.29. Lastly, the overall material and finish quality of the house, rated at 8, adds $9,655.79 to the predicted price.\n",
      "Total Score: 7.0\n",
      "accuracy: 2.0, fluency: 1.0, conciseness: 2.0, context_awareness: 2.0, \n",
      "--\n"
     ]
    },
    {
     "name": "stderr",
     "output_type": "stream",
     "text": [
      " 32%|███▏      | 8/25 [00:00<00:00, 19.84it/s]"
     ]
    },
    {
     "name": "stdout",
     "output_type": "stream",
     "text": [
      "Narrative: The model predicts the house price based on several key features. The above ground living area, which is 2090 square feet, significantly increases the predicted price by $16,382.07. The second floor area, measuring 983 square feet, also contributes positively, adding $16,216.99 to the price. However, the house's location within the NWAmes neighborhood in Ames city limits decreases the predicted price by $9,769.73. Additionally, the type 1 finished square feet, which is 859 square feet, adds $6,193.63 to the price. Lastly, having a masonry veneer type of stone increases the predicted price by $5,446.26.\n",
      "Total Score: 7.0\n",
      "accuracy: 2.0, fluency: 1.0, conciseness: 2.0, context_awareness: 2.0, \n",
      "--\n",
      "Narrative: The model predicts the house price based on several key features. The exterior covering of the house being BrkFace adds approximately $16,798.14 to the house price. However, the original construction date being 1931 reduces the price by about $13,042.68. Having two kitchens above grade further decreases the price by $12,983.78. The home's functionality being rated as Min1 also lowers the price by $11,474.19. On the other hand, the second floor having 752 square feet increases the price by $10,022.69.\n",
      "Total Score: 7.0\n",
      "accuracy: 2.0, fluency: 1.0, conciseness: 2.0, context_awareness: 2.0, \n",
      "--\n"
     ]
    },
    {
     "name": "stderr",
     "output_type": "stream",
     "text": [
      " 40%|████      | 10/25 [00:00<00:00, 18.55it/s]"
     ]
    },
    {
     "name": "stdout",
     "output_type": "stream",
     "text": [
      "Narrative: The model predicts the house price based on several key features. The above grade (ground) living area of 1256 square feet decreases the predicted price by $12,527.46. The overall material and finish rating of the house, which is 5, reduces the price by $10,743.76. Having no second floor square footage further decreases the price by $10,142.29. The house's location within the Edwards neighborhood in Ames city limits lowers the price by $9,913.81. However, the presence of a wood deck area of 736 square feet increases the predicted price by $9,846.38.\n",
      "Total Score: 7.0\n",
      "accuracy: 2.0, fluency: 1.0, conciseness: 2.0, context_awareness: 2.0, \n",
      "--\n",
      "Narrative: The model predicts the house price based on several key features. The second floor square feet, which is 854.00, contributes positively with a value of 12757.84. The original construction date of the house, which is 2003.00, also adds positively to the price with a contribution of 9115.72. However, the total square feet of the basement area, which is 856.00, negatively impacts the price with a contribution of -6157.86. Similarly, the first floor square feet, which is 856.00, has a negative contribution of -5466.64. Additionally, the house's physical location within the Ames city limits, specifically in the CollgCr neighborhood, decreases the price by -4761.42.\n",
      "Total Score: 6.9399999999999995\n",
      "accuracy: 2.0, fluency: 1.0, conciseness: 1.94, context_awareness: 2.0, \n",
      "--\n",
      "Narrative: The model predicts the house price based on several key features. The presence of walkout or garden level walls, rated as 'Gd', contributes positively to the price by $17,607.43. The overall condition of the house, rated at 8.00, adds $13,038.14 to the price. However, the above grade living area of 1262 square feet decreases the price by $12,319.48. Additionally, having no second floor reduces the price by $10,142.29. Lastly, the proximity to feeder roads negatively impacts the price by $8,251.83.\n",
      "Total Score: 7.0\n",
      "accuracy: 2.0, fluency: 1.0, conciseness: 2.0, context_awareness: 2.0, \n",
      "--\n"
     ]
    },
    {
     "name": "stderr",
     "output_type": "stream",
     "text": [
      " 52%|█████▏    | 13/25 [00:00<00:00, 19.66it/s]"
     ]
    },
    {
     "name": "stdout",
     "output_type": "stream",
     "text": [
      "Narrative: The model predicts that the mushroom is poisonous primarily because it has no odor, which contributes significantly to the prediction. Additionally, the broad gill size and crowded gill spacing also play important roles. The brown spore print color and smooth stalk surface above the ring contribute to a lesser extent.\n",
      "Total Score: 7.0\n",
      "accuracy: 2.0, fluency: 1.0, conciseness: 2.0, context_awareness: 2.0, \n",
      "--\n",
      "Narrative: The model predicts that the mushroom is poisonous primarily because it has narrow gills, which significantly contribute to this prediction. Additionally, the buff color of the gills, a fishy odor, a white spore print color, and an evanescent ring type also contribute to the prediction, though to a lesser extent.\n",
      "Total Score: 8.0\n",
      "accuracy: 2.0, fluency: 2.0, conciseness: 2.0, context_awareness: 2.0, \n",
      "--\n",
      "Narrative: The model predicts that the mushroom is likely to be poisonous primarily because it has a foul odor, which is the most significant factor contributing to this prediction. Additionally, the narrow gill size and buff gill color also play important roles in the prediction. Other contributing factors include the silky texture of the stalk surface above the ring and the presence of an evanescent ring type.\n",
      "Total Score: 8.0\n",
      "accuracy: 2.0, fluency: 2.0, conciseness: 2.0, context_awareness: 2.0, \n",
      "--\n"
     ]
    },
    {
     "name": "stderr",
     "output_type": "stream",
     "text": [
      " 64%|██████▍   | 16/25 [00:00<00:00, 19.89it/s]"
     ]
    },
    {
     "name": "stdout",
     "output_type": "stream",
     "text": [
      "Narrative: The model predicts that the PDF file contains malware based on several key features. The size of the metadata is 262 KB, which has a significant impact on the prediction. The total size of the file is 74 KB, also contributing notably. The absence of Javascript keywords, the presence of one image, and the presence of 30 streams (sequences of binary data) are additional factors considered by the model.\n",
      "Total Score: 7.0\n",
      "accuracy: 2.0, fluency: 1.0, conciseness: 2.0, context_awareness: 2.0, \n",
      "--\n",
      "Narrative: The model predicts that the PDF file is likely to contain malware. The number of Javascript keywords in the file is 0, which contributes 0.10 to the prediction. The total size of the file is 90 KB, contributing 0.09. The size of the metadata is 272 KB, adding 0.08 to the prediction. There is 1 image in the file, contributing 0.06. Lastly, the number of keywords with \"startxref\" is 2, contributing 0.05 to the prediction.\n",
      "Total Score: 5.0\n",
      "accuracy: 1.0, fluency: 0.0, conciseness: 2.0, context_awareness: 2.0, \n",
      "--\n",
      "Narrative: The model predicts that the PDF file is likely to contain malware. The number of Javascript keywords in the file is 0, which contributes significantly to the prediction. The total size of the file is 91 KB, which also has a notable impact. Additionally, the size of the metadata is 262 KB, the file contains 1 image, and there are 2 keywords with \"startxref,\" all of which contribute to the model's prediction.\n",
      "Total Score: 7.0\n",
      "accuracy: 2.0, fluency: 1.0, conciseness: 2.0, context_awareness: 2.0, \n",
      "--\n"
     ]
    },
    {
     "name": "stderr",
     "output_type": "stream",
     "text": [
      " 76%|███████▌  | 19/25 [00:00<00:00, 20.20it/s]"
     ]
    },
    {
     "name": "stdout",
     "output_type": "stream",
     "text": [
      "Narrative: The model predicts that the PDF file is likely to contain malware. This prediction is influenced by several features. The number of streams (sequences of binary data) in the PDF has a negative contribution of -1.00, with a feature value of 0.10. Similarly, the number of objects in the PDF also has a negative contribution of -1.00, with a feature value of 0.10. The number of keywords that denote the end of streams has a negative contribution of -1.00, with a feature value of 0.09. Additionally, the number of keywords with \"startxref\" has a negative contribution of -1.00, with a feature value of 0.07. Lastly, the number of Javascript keywords has a negative contribution of -1.00, with a feature value of -0.04.\n",
      "Total Score: 4.5600000000000005\n",
      "accuracy: 0.0, fluency: 1.0, conciseness: 1.56, context_awareness: 2.0, \n",
      "--\n",
      "Narrative: The model predicts that the PDF file contains malware based on several key features. The size of the metadata is 180 KB, which contributes significantly to the prediction. The total size of the PDF is 7 KB, which also has a notable impact. Additionally, the number of streams, the number of keywords that denote the end of streams, and the number of objects all have negative contributions to the prediction.\n",
      "Total Score: 6.0\n",
      "accuracy: 1.0, fluency: 1.0, conciseness: 2.0, context_awareness: 2.0, \n",
      "--\n",
      "Narrative: The model predicts that the PDF file is likely to contain malware. The size of the metadata in the PDF is 180 KB, which significantly contributes to the prediction. The total size of the PDF is 3 KB, which also adds to the likelihood of it being malware. Additionally, the PDF contains 1 stream and 1 keyword that denotes the end of streams, both of which slightly increase the probability of the file being malicious. However, the absence of Javascript keywords slightly decreases the likelihood of the file being malware.\n",
      "Total Score: 7.0\n",
      "accuracy: 2.0, fluency: 1.0, conciseness: 2.0, context_awareness: 2.0, \n",
      "--\n"
     ]
    },
    {
     "name": "stderr",
     "output_type": "stream",
     "text": [
      " 88%|████████▊ | 22/25 [00:01<00:00, 20.52it/s]"
     ]
    },
    {
     "name": "stdout",
     "output_type": "stream",
     "text": [
      "Narrative: The model predicts that the student will pass their class primarily because they have no past class failures, which strongly contributes to the positive prediction. Additionally, attending the school labeled \"GP\" and being 18 years old also positively influence the prediction. The reason for choosing the school and living in an urban area have smaller, but still positive, contributions to the prediction.\n",
      "Total Score: 7.0\n",
      "accuracy: 2.0, fluency: 1.0, conciseness: 2.0, context_awareness: 2.0, \n",
      "--\n",
      "Narrative: The model predicts that the student will pass their class. The most significant positive factor is that the student has no past class failures, which contributes strongly to the likelihood of passing. Attending the school labeled \"MS\" has a negative impact on the prediction. Choosing the school for its course offerings also slightly decreases the likelihood of passing. The father's job being categorized as \"other\" and the student's desire to pursue higher education both have minor positive contributions to the prediction.\n",
      "Total Score: 7.0\n",
      "accuracy: 2.0, fluency: 1.0, conciseness: 2.0, context_awareness: 2.0, \n",
      "--\n",
      "Narrative: The model predicts that the student will pass their class. The student's history of no past class failures significantly contributes to this positive prediction. Additionally, the student's desire to pursue higher education also positively influences the prediction. However, the amount of free time the student has after school slightly detracts from the likelihood of passing. The fact that the student attends school GP and chose this school based on its reputation also contribute positively to the prediction.\n",
      "Total Score: 8.0\n",
      "accuracy: 2.0, fluency: 2.0, conciseness: 2.0, context_awareness: 2.0, \n",
      "--\n"
     ]
    },
    {
     "name": "stderr",
     "output_type": "stream",
     "text": [
      "100%|██████████| 25/25 [00:01<00:00, 20.15it/s]\n"
     ]
    },
    {
     "name": "stdout",
     "output_type": "stream",
     "text": [
      "Bootstrapped 3 full traces after 25 examples in round 0.\n",
      "Narrative: The model predicts that the house price will be lower. The above ground living area square feet significantly contributes to this lower prediction. Additionally, the overall material and finish of the house, rated at 5, also negatively influences the prediction. The absence of a second floor and the house's location within the Edwards area of Ames city further contribute to the lower price prediction. However, the presence of a wood deck area positively impacts the house price, though this effect is not enough to offset the other negative contributions.\n",
      "Total Score: 8.0\n",
      "accuracy: 2.0, fluency: 2.0, conciseness: 2.0, context_awareness: 2.0, \n",
      "--\n",
      "Narrative: The model predicts the house price to be higher primarily due to the large second floor square footage, which significantly contributes to the price increase. Additionally, the house's original construction date in 2003 also positively influences the price. However, the total square footage of the basement area and the first floor square footage slightly detract from the overall price. The house's physical location within the Ames city limits, specifically in the CollgCr neighborhood, also negatively impacts the price.\n",
      "Total Score: 7.0\n",
      "accuracy: 2.0, fluency: 1.0, conciseness: 2.0, context_awareness: 2.0, \n",
      "--\n",
      "Narrative: The model predicts the house price is influenced primarily by the presence of walkout or garden level walls, which significantly increase the price. Additionally, the overall condition of the house, rated as 8, also positively impacts the price. However, the above ground living area square feet and the absence of a second floor detract from the house price. The proximity to various conditions, specifically being near a feeder road, also negatively affects the price.\n",
      "Total Score: 7.0\n",
      "accuracy: 2.0, fluency: 1.0, conciseness: 2.0, context_awareness: 2.0, \n",
      "--\n",
      "Narrative: The model predicts the house price to be higher primarily due to the large second floor square footage, which significantly contributes to the price. Additionally, the house's original construction date in 2001 and the above ground living area square footage also positively influence the price. However, the house's physical location within the CollgCr area and the total square footage of the basement area slightly detract from the overall price.\n",
      "Total Score: 8.0\n",
      "accuracy: 2.0, fluency: 2.0, conciseness: 2.0, context_awareness: 2.0, \n",
      "--\n",
      "Narrative: The model predicts the house price to be lower primarily because it was originally constructed in 1915, which significantly detracts from the price. However, the house's location within the Crawfor area of Ames city positively influences the price. The second floor's square footage also contributes positively to the price. On the other hand, the total square footage of the basement area and the abnormal condition of the sale negatively impact the house price.\n",
      "Total Score: 7.0\n",
      "accuracy: 2.0, fluency: 1.0, conciseness: 2.0, context_awareness: 2.0, \n",
      "--\n"
     ]
    },
    {
     "data": {
      "text/plain": [
       "(7.4,\n",
       " accuracy             2.0\n",
       " fluency              1.4\n",
       " conciseness          2.0\n",
       " context_awareness    2.0\n",
       " dtype: float64)"
      ]
     },
     "execution_count": 8,
     "metadata": {},
     "output_type": "execute_result"
    }
   ],
   "execution_count": 8
  },
  {
   "cell_type": "code",
   "source": [],
   "metadata": {
    "collapsed": false,
    "ExecuteTime": {
     "end_time": "2024-08-20T16:43:03.283239Z",
     "start_time": "2024-08-20T16:43:03.271465Z"
    }
   },
   "id": "1f8dc850abb3fc63",
   "outputs": [],
   "execution_count": 8
  }
 ],
 "metadata": {
  "kernelspec": {
   "display_name": "Python 3",
   "language": "python",
   "name": "python3"
  },
  "language_info": {
   "codemirror_mode": {
    "name": "ipython",
    "version": 2
   },
   "file_extension": ".py",
   "mimetype": "text/x-python",
   "name": "python",
   "nbconvert_exporter": "python",
   "pygments_lexer": "ipython2",
   "version": "2.7.6"
  }
 },
 "nbformat": 4,
 "nbformat_minor": 5
}
