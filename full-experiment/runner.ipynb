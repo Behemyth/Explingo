{
 "cells": [
  {
   "cell_type": "code",
   "execution_count": 1,
   "id": "initial_id",
   "metadata": {
    "collapsed": true,
    "ExecuteTime": {
     "end_time": "2024-08-20T14:18:55.078571Z",
     "start_time": "2024-08-20T14:18:53.850653Z"
    }
   },
   "outputs": [],
   "source": [
    "import examples, core \n",
    "import os\n",
    "import yaml\n",
    "import dspy\n",
    "import metrics\n",
    "\n",
    "data = examples.load_examples(\"examples.json\")\n",
    "\n",
    "exp_metrics = metrics.Metrics(\n",
    "            [\n",
    "                metrics.accuracy,\n",
    "                metrics.fluency,\n",
    "                metrics.completeness,\n",
    "                metrics.conciseness,\n",
    "                metrics.context_awareness,\n",
    "            ], verbose=False\n",
    "        )\n",
    "\n",
    "explingo = core.Explingo(context=\"The model predicts house prices\", \n",
    "                         examples=data, metric=exp_metrics)"
   ]
  },
  {
   "cell_type": "code",
   "outputs": [],
   "source": [
    "with open(os.path.join(\"..\", \"keys.yaml\"), \"r\") as file:\n",
    "    config = yaml.safe_load(file)\n",
    "    openai_api_key = config[\"openai_api_key\"]\n",
    "\n",
    "llm = dspy.OpenAI(model='gpt-4o', api_key=openai_api_key, max_tokens=2000)\n",
    "dspy.settings.configure(lm=llm, experimental=True)"
   ],
   "metadata": {
    "collapsed": false,
    "ExecuteTime": {
     "end_time": "2024-08-20T14:18:55.083351Z",
     "start_time": "2024-08-20T14:18:55.079576Z"
    }
   },
   "id": "6e9d56b95001b3ac",
   "execution_count": 2
  },
  {
   "cell_type": "markdown",
   "source": [
    "# BASIC PROMPTING\n",
    "\n",
    "TODO: update Explingo's prompting method to take in multiple different prompt options. \n",
    "DSPy does not support this by default, but we are using DSPy's evaluations"
   ],
   "metadata": {
    "collapsed": false
   },
   "id": "7b5694bfd440f310"
  },
  {
   "cell_type": "code",
   "outputs": [
    {
     "data": {
      "text/plain": "(7.228,\n accuracy             2.000\n fluency              1.000\n completeness         2.000\n conciseness          0.228\n context_awareness    2.000\n dtype: float64)"
     },
     "execution_count": 3,
     "metadata": {},
     "output_type": "execute_result"
    }
   ],
   "source": [
    "test_explanations = [d.explanation for d in data]\n",
    "test_explanation_format = data[0].explanation_format\n",
    "\n",
    "explingo.run_experiment(test_explanations, test_explanation_format, prompt_type=\"basic\", max_iters=5)"
   ],
   "metadata": {
    "collapsed": false,
    "ExecuteTime": {
     "end_time": "2024-08-20T14:19:49.027150Z",
     "start_time": "2024-08-20T14:18:55.083351Z"
    }
   },
   "id": "1be61df6a728fa29",
   "execution_count": 3
  },
  {
   "cell_type": "code",
   "outputs": [
    {
     "name": "stdout",
     "output_type": "stream",
     "text": [
      "\n",
      "\n",
      "\n",
      "You are helping users understand an ML model's prediction. Given an explanation and information about the model,\n",
      "convert the explanation into a human-readable narrative.\n",
      "\n",
      "---\n",
      "\n",
      "Follow the following format.\n",
      "\n",
      "Context: what the ML model predicts\n",
      "\n",
      "Explanation: explanation of an ML model's prediction\n",
      "\n",
      "Explanation Format: format the explanation is given in\n",
      "\n",
      "Narrative: human-readable narrative version of the explanation\n",
      "\n",
      "Rationalization: explains why given features may be relevant\n",
      "\n",
      "---\n",
      "\n",
      "Context: The model predicts house prices\n",
      "\n",
      "Explanation: (Original construction date, 1915.00, -17966.77), (Physical locations within Ames city limits, Crawfor, 17703.26), (Second floor square feet, 756.00, 10129.96), (Total square feet of basement area, 756.00, -8362.22), (Condition of sale, Abnorml, -6786.66)\n",
      "\n",
      "Explanation Format: SHAP feature contribution in (feature_name, feature_value, contribution) format\n",
      "\n",
      "Please provide the output fields Narrative then Rationalization. Do so immediately, without additional content before or after, and precisely as the format above shows. Begin with the field Narrative.\n",
      "\n",
      "Narrative: The model predicts the house price by considering several factors. The original construction date of 1915 decreases the predicted price by $17,966.77. Being located within the Crawfor area of Ames city increases the predicted price by $17,703.26. The second floor square footage of 756 adds $10,129.96 to the predicted price. However, the total basement area of 756 square feet decreases the predicted price by $8,362.22. Additionally, the condition of sale being abnormal reduces the predicted price by $6,786.66.\n",
      "\n",
      "Rationalization: Older construction dates may indicate outdated features or the need for renovations, which can lower the house price. Being within a desirable area like Crawfor can increase the price due to better amenities or location advantages. More square footage on the second floor generally adds value to a house, as it provides more living space. Conversely, a larger basement area might not add as much value, possibly due to lower utility or desirability compared to above-ground space. An abnormal condition of sale might suggest issues like foreclosure or short sales, which can negatively impact the price.\n",
      "\n"
     ]
    },
    {
     "data": {
      "text/plain": "\"\\n\\n\\nYou are helping users understand an ML model's prediction. Given an explanation and information about the model,\\nconvert the explanation into a human-readable narrative.\\n\\n---\\n\\nFollow the following format.\\n\\nContext: what the ML model predicts\\n\\nExplanation: explanation of an ML model's prediction\\n\\nExplanation Format: format the explanation is given in\\n\\nNarrative: human-readable narrative version of the explanation\\n\\nRationalization: explains why given features may be relevant\\n\\n---\\n\\nContext: The model predicts house prices\\n\\nExplanation: (Original construction date, 1915.00, -17966.77), (Physical locations within Ames city limits, Crawfor, 17703.26), (Second floor square feet, 756.00, 10129.96), (Total square feet of basement area, 756.00, -8362.22), (Condition of sale, Abnorml, -6786.66)\\n\\nExplanation Format: SHAP feature contribution in (feature_name, feature_value, contribution) format\\n\\nPlease provide the output fields Narrative then Rationalization. Do so immediately, without additional content before or after, and precisely as the format above shows. Begin with the field Narrative.\\n\\n\\x1b[32mNarrative: The model predicts the house price by considering several factors. The original construction date of 1915 decreases the predicted price by $17,966.77. Being located within the Crawfor area of Ames city increases the predicted price by $17,703.26. The second floor square footage of 756 adds $10,129.96 to the predicted price. However, the total basement area of 756 square feet decreases the predicted price by $8,362.22. Additionally, the condition of sale being abnormal reduces the predicted price by $6,786.66.\\n\\nRationalization: Older construction dates may indicate outdated features or the need for renovations, which can lower the house price. Being within a desirable area like Crawfor can increase the price due to better amenities or location advantages. More square footage on the second floor generally adds value to a house, as it provides more living space. Conversely, a larger basement area might not add as much value, possibly due to lower utility or desirability compared to above-ground space. An abnormal condition of sale might suggest issues like foreclosure or short sales, which can negatively impact the price.\\x1b[0m\\n\\n\\n\""
     },
     "execution_count": 4,
     "metadata": {},
     "output_type": "execute_result"
    }
   ],
   "source": [
    "llm.inspect_history(n=1)"
   ],
   "metadata": {
    "collapsed": false,
    "ExecuteTime": {
     "end_time": "2024-08-20T14:19:49.034600Z",
     "start_time": "2024-08-20T14:19:49.027150Z"
    }
   },
   "id": "c0b4d26dd1b4e194",
   "execution_count": 4
  },
  {
   "cell_type": "code",
   "outputs": [
    {
     "data": {
      "text/plain": "(7.228,\n accuracy             2.000\n fluency              1.000\n completeness         2.000\n conciseness          0.228\n context_awareness    2.000\n dtype: float64)"
     },
     "execution_count": 5,
     "metadata": {},
     "output_type": "execute_result"
    }
   ],
   "source": [
    "explingo.run_experiment(test_explanations, test_explanation_format, prompt_type=\"few-shot\", max_iters=5)"
   ],
   "metadata": {
    "collapsed": false,
    "ExecuteTime": {
     "end_time": "2024-08-20T14:19:49.055720Z",
     "start_time": "2024-08-20T14:19:49.035607Z"
    }
   },
   "id": "c57212f361799ac6",
   "execution_count": 5
  },
  {
   "cell_type": "code",
   "outputs": [
    {
     "name": "stdout",
     "output_type": "stream",
     "text": [
      "\n",
      "\n",
      "\n",
      "You are helping users understand an ML model's prediction. Given an explanation and information about the model,\n",
      "convert the explanation into a human-readable narrative.\n",
      "\n",
      "---\n",
      "\n",
      "Follow the following format.\n",
      "\n",
      "Context: what the ML model predicts\n",
      "\n",
      "Explanation: explanation of an ML model's prediction\n",
      "\n",
      "Explanation Format: format the explanation is given in\n",
      "\n",
      "Narrative: human-readable narrative version of the explanation\n",
      "\n",
      "Rationalization: explains why given features may be relevant\n",
      "\n",
      "---\n",
      "\n",
      "Context: The model predicts house prices\n",
      "\n",
      "Explanation: (Original construction date, 1915.00, -17966.77), (Physical locations within Ames city limits, Crawfor, 17703.26), (Second floor square feet, 756.00, 10129.96), (Total square feet of basement area, 756.00, -8362.22), (Condition of sale, Abnorml, -6786.66)\n",
      "\n",
      "Explanation Format: SHAP feature contribution in (feature_name, feature_value, contribution) format\n",
      "\n",
      "Please provide the output fields Narrative then Rationalization. Do so immediately, without additional content before or after, and precisely as the format above shows. Begin with the field Narrative.\n",
      "\n",
      "Narrative: The model predicts the house price by considering several factors. The original construction date of 1915 decreases the predicted price by $17,966.77. Being located within the Crawfor area of Ames city increases the predicted price by $17,703.26. The second floor square footage of 756 adds $10,129.96 to the predicted price. However, the total basement area of 756 square feet decreases the predicted price by $8,362.22. Additionally, the condition of sale being abnormal reduces the predicted price by $6,786.66.\n",
      "\n",
      "Rationalization: Older construction dates may indicate outdated features or the need for renovations, which can lower the house price. Being within a desirable area like Crawfor can increase the price due to better amenities or location advantages. More square footage on the second floor generally adds value to a house, as it provides more living space. Conversely, a larger basement area might not add as much value, possibly due to lower utility or desirability compared to above-ground space. An abnormal condition of sale might suggest issues like foreclosure or short sales, which can negatively impact the price.\n"
     ]
    },
    {
     "data": {
      "text/plain": "\"\\n\\n\\nYou are helping users understand an ML model's prediction. Given an explanation and information about the model,\\nconvert the explanation into a human-readable narrative.\\n\\n---\\n\\nFollow the following format.\\n\\nContext: what the ML model predicts\\n\\nExplanation: explanation of an ML model's prediction\\n\\nExplanation Format: format the explanation is given in\\n\\nNarrative: human-readable narrative version of the explanation\\n\\nRationalization: explains why given features may be relevant\\n\\n---\\n\\nContext: The model predicts house prices\\n\\nExplanation: (Original construction date, 1915.00, -17966.77), (Physical locations within Ames city limits, Crawfor, 17703.26), (Second floor square feet, 756.00, 10129.96), (Total square feet of basement area, 756.00, -8362.22), (Condition of sale, Abnorml, -6786.66)\\n\\nExplanation Format: SHAP feature contribution in (feature_name, feature_value, contribution) format\\n\\nPlease provide the output fields Narrative then Rationalization. Do so immediately, without additional content before or after, and precisely as the format above shows. Begin with the field Narrative.\\n\\n\\x1b[32mNarrative: The model predicts the house price by considering several factors. The original construction date of 1915 decreases the predicted price by $17,966.77. Being located within the Crawfor area of Ames city increases the predicted price by $17,703.26. The second floor square footage of 756 adds $10,129.96 to the predicted price. However, the total basement area of 756 square feet decreases the predicted price by $8,362.22. Additionally, the condition of sale being abnormal reduces the predicted price by $6,786.66.\\n\\nRationalization: Older construction dates may indicate outdated features or the need for renovations, which can lower the house price. Being within a desirable area like Crawfor can increase the price due to better amenities or location advantages. More square footage on the second floor generally adds value to a house, as it provides more living space. Conversely, a larger basement area might not add as much value, possibly due to lower utility or desirability compared to above-ground space. An abnormal condition of sale might suggest issues like foreclosure or short sales, which can negatively impact the price.\\x1b[0m\\n\\n\\n\""
     },
     "execution_count": 6,
     "metadata": {},
     "output_type": "execute_result"
    }
   ],
   "source": [
    "llm.inspect_history(n=1)"
   ],
   "metadata": {
    "collapsed": false,
    "ExecuteTime": {
     "end_time": "2024-08-20T14:19:49.066971Z",
     "start_time": "2024-08-20T14:19:49.055720Z"
    }
   },
   "id": "9a271c6356810502",
   "execution_count": 6
  },
  {
   "cell_type": "code",
   "outputs": [
    {
     "name": "stderr",
     "output_type": "stream",
     "text": [
      " 12%|█▏        | 3/25 [00:41<05:05, 13.88s/it]\n",
      "\n",
      "KeyboardInterrupt\n",
      "\n"
     ]
    }
   ],
   "source": [
    "explingo.run_experiment(test_explanations, test_explanation_format, prompt_type=\"bootstrap-few-shot\", max_iters=5)"
   ],
   "metadata": {
    "collapsed": false,
    "ExecuteTime": {
     "end_time": "2024-08-20T14:20:31.631009Z",
     "start_time": "2024-08-20T14:19:49.066971Z"
    }
   },
   "id": "7bb946a284aff621",
   "execution_count": 7
  },
  {
   "cell_type": "code",
   "outputs": [],
   "source": [
    "llm.inspect_history(n=1)"
   ],
   "metadata": {
    "collapsed": false,
    "ExecuteTime": {
     "start_time": "2024-08-20T14:20:31.631009Z"
    }
   },
   "id": "8d03521c1b9950c5",
   "execution_count": null
  },
  {
   "cell_type": "code",
   "outputs": [],
   "source": [],
   "metadata": {
    "collapsed": false,
    "ExecuteTime": {
     "start_time": "2024-08-20T14:20:31.632014Z"
    }
   },
   "id": "1f8dc850abb3fc63",
   "execution_count": null
  }
 ],
 "metadata": {
  "kernelspec": {
   "display_name": "Python 3",
   "language": "python",
   "name": "python3"
  },
  "language_info": {
   "codemirror_mode": {
    "name": "ipython",
    "version": 2
   },
   "file_extension": ".py",
   "mimetype": "text/x-python",
   "name": "python",
   "nbconvert_exporter": "python",
   "pygments_lexer": "ipython2",
   "version": "2.7.6"
  }
 },
 "nbformat": 4,
 "nbformat_minor": 5
}
