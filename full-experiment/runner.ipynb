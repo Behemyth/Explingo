{
 "cells": [
  {
   "cell_type": "code",
   "id": "initial_id",
   "metadata": {
    "collapsed": true,
    "ExecuteTime": {
     "end_time": "2024-08-20T18:22:22.954522Z",
     "start_time": "2024-08-20T18:22:21.673869Z"
    }
   },
   "source": [
    "import examples, core \n",
    "import os\n",
    "import yaml\n",
    "import dspy\n",
    "import metrics"
   ],
   "outputs": [],
   "execution_count": 1
  },
  {
   "cell_type": "code",
   "source": [
    "with open(os.path.join(\"..\", \"keys.yaml\"), \"r\") as file:\n",
    "    config = yaml.safe_load(file)\n",
    "    openai_api_key = config[\"openai_api_key\"]\n",
    "\n",
    "llm = dspy.OpenAI(model='gpt-4o', api_key=openai_api_key, max_tokens=2000)"
   ],
   "metadata": {
    "collapsed": false,
    "ExecuteTime": {
     "end_time": "2024-08-20T18:22:22.971106Z",
     "start_time": "2024-08-20T18:22:22.955507Z"
    }
   },
   "id": "6e9d56b95001b3ac",
   "outputs": [],
   "execution_count": 2
  },
  {
   "metadata": {
    "ExecuteTime": {
     "end_time": "2024-08-20T18:22:22.986909Z",
     "start_time": "2024-08-20T18:22:22.972007Z"
    }
   },
   "cell_type": "code",
   "source": [
    "data = examples.load_examples(\"examples.json\")\n",
    "\n",
    "exp_metrics = metrics.Metrics(\n",
    "            [\n",
    "                metrics.accuracy,\n",
    "                metrics.fluency,\n",
    "                metrics.conciseness,\n",
    "                metrics.context_awareness,\n",
    "            ], verbose=1\n",
    "        )\n",
    "\n",
    "explingo = core.Explingo(llm=llm, context=\"The model predicts house prices\", \n",
    "                         examples=data, metric=exp_metrics)"
   ],
   "id": "75a9fcd3ad0e9975",
   "outputs": [],
   "execution_count": 3
  },
  {
   "metadata": {
    "ExecuteTime": {
     "end_time": "2024-08-20T18:22:23.002506Z",
     "start_time": "2024-08-20T18:22:22.987941Z"
    }
   },
   "cell_type": "code",
   "source": [
    "test_explanations = [d.explanation for d in data]\n",
    "test_explanation_format = data[0].explanation_format\n",
    "\n",
    "gold_standards = [d for d in data if hasattr(d, \"narrative\")]\n",
    "max_optimal_length = max([len(d.narrative) for d in gold_standards])\n",
    "max_optimal_length"
   ],
   "id": "66031abf3885cb9a",
   "outputs": [
    {
     "data": {
      "text/plain": [
       "474"
      ]
     },
     "execution_count": 4,
     "metadata": {},
     "output_type": "execute_result"
    }
   ],
   "execution_count": 4
  },
  {
   "metadata": {
    "ExecuteTime": {
     "end_time": "2024-08-20T18:22:24.266986Z",
     "start_time": "2024-08-20T18:22:23.004505Z"
    }
   },
   "cell_type": "code",
   "source": [
    "VERIFY = True\n",
    "\n",
    "if VERIFY:\n",
    "    ver_metrics = metrics.Metrics(\n",
    "            [\n",
    "                metrics.accuracy,\n",
    "                metrics.fluency,\n",
    "                metrics.conciseness,\n",
    "            ], \n",
    "        verbose=0, \n",
    "        metric_kwargs={\"conciseness\": {\"max_optimal_length\": max_optimal_length},\n",
    "                       \"fluency\": {\"good_narrative\": gold_standards[0].narrative, \"bad_narrative\": gold_standards[1].narrative}}\n",
    "    )\n",
    "    print(ver_metrics(gold_standards[0], gold_standards[0]))"
   ],
   "id": "4b38609ff7969130",
   "outputs": [
    {
     "name": "stdout",
     "output_type": "stream",
     "text": [
      "(6.0, accuracy       2.0\n",
      "fluency        2.0\n",
      "conciseness    2.0\n",
      "dtype: float64)\n"
     ]
    }
   ],
   "execution_count": 5
  },
  {
   "cell_type": "markdown",
   "source": [
    "# BASIC PROMPTING\n",
    "\n",
    "TODO: update Explingo's prompting method to take in multiple different prompt options. \n",
    "DSPy does not support this by default, but we are using DSPy's evaluations"
   ],
   "metadata": {
    "collapsed": false
   },
   "id": "7b5694bfd440f310"
  },
  {
   "cell_type": "code",
   "source": "explingo.run_experiment(data, prompt_type=\"basic\", max_iters=5)",
   "metadata": {
    "collapsed": false,
    "jupyter": {
     "is_executing": true
    },
    "ExecuteTime": {
     "start_time": "2024-08-20T18:22:30.551243Z"
    }
   },
   "id": "1be61df6a728fa29",
   "outputs": [
    {
     "name": "stdout",
     "output_type": "stream",
     "text": [
      "Narrative: The model predicts the house price based on several key features. The above ground living area of 1256 square feet decreases the predicted price by $12,527.46. The overall material and finish rating of the house, which is 5, reduces the price by $10,743.76. The absence of a second floor contributes to a decrease of $10,142.29. The house's location within the Edwards neighborhood in Ames city limits lowers the price by $9,913.81. However, the presence of a wood deck area of 736 square feet increases the predicted price by $9,846.38.\n",
      "Total Score: 8.0\n",
      "accuracy: 2.0, fluency: 2.0, conciseness: 2.0, context_awareness: 2.0, \n",
      "--\n",
      "Narrative: The model predicts the house price based on several key features. The second floor square feet, which is 854.00, contributes significantly to increasing the price by 12757.84 units. The original construction date of the house, which is 2003.00, also adds a substantial amount of 9115.72 units to the price. On the other hand, the total square feet of the basement area, which is 856.00, decreases the price by 6157.86 units. Similarly, the first floor square feet, which is 856.00, reduces the price by 5466.64 units. Additionally, the house's physical location within the Ames city limits, specifically in the CollgCr neighborhood, decreases the price by 4761.42 units.\n",
      "Total Score: 6.88\n",
      "accuracy: 2.0, fluency: 1.0, conciseness: 1.88, context_awareness: 2.0, \n",
      "--\n",
      "Narrative: The model predicts the house price based on several key features. The presence of walkout or garden level walls contributes positively to the price, adding approximately $17,607.43. The overall condition of the house, rated at 8.00, also increases the price by about $13,038.14. However, the above ground living area of 1262 square feet decreases the price by $12,319.48. Additionally, having no second floor square footage reduces the price by $10,142.29. Lastly, the house's proximity to feeder roads negatively impacts the price, reducing it by $8,251.83.\n",
      "Total Score: 8.0\n",
      "accuracy: 2.0, fluency: 2.0, conciseness: 2.0, context_awareness: 2.0, \n",
      "--\n"
     ]
    }
   ],
   "execution_count": null
  },
  {
   "cell_type": "code",
   "source": "explingo.run_experiment(data, prompt_type=\"few-shot\", max_iters=5)",
   "metadata": {
    "collapsed": false,
    "jupyter": {
     "is_executing": true
    }
   },
   "id": "c57212f361799ac6",
   "outputs": [],
   "execution_count": null
  },
  {
   "cell_type": "code",
   "source": "explingo.run_experiment(data, prompt_type=\"bootstrap-few-shot\", max_iters=5)",
   "metadata": {
    "collapsed": false,
    "jupyter": {
     "is_executing": true
    }
   },
   "id": "7bb946a284aff621",
   "outputs": [],
   "execution_count": null
  },
  {
   "cell_type": "code",
   "source": [],
   "metadata": {
    "collapsed": false
   },
   "id": "1f8dc850abb3fc63",
   "outputs": [],
   "execution_count": null
  }
 ],
 "metadata": {
  "kernelspec": {
   "display_name": "Python 3",
   "language": "python",
   "name": "python3"
  },
  "language_info": {
   "codemirror_mode": {
    "name": "ipython",
    "version": 2
   },
   "file_extension": ".py",
   "mimetype": "text/x-python",
   "name": "python",
   "nbconvert_exporter": "python",
   "pygments_lexer": "ipython2",
   "version": "2.7.6"
  }
 },
 "nbformat": 4,
 "nbformat_minor": 5
}
