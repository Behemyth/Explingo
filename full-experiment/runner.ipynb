{
 "cells": [
  {
   "cell_type": "code",
   "id": "initial_id",
   "metadata": {
    "collapsed": true,
    "ExecuteTime": {
     "end_time": "2024-08-20T15:28:54.471418Z",
     "start_time": "2024-08-20T15:28:53.180952Z"
    }
   },
   "source": [
    "import examples, core \n",
    "import os\n",
    "import yaml\n",
    "import dspy\n",
    "import metrics"
   ],
   "outputs": [],
   "execution_count": 1
  },
  {
   "cell_type": "code",
   "source": [
    "with open(os.path.join(\"..\", \"keys.yaml\"), \"r\") as file:\n",
    "    config = yaml.safe_load(file)\n",
    "    openai_api_key = config[\"openai_api_key\"]\n",
    "\n",
    "llm = dspy.OpenAI(model='gpt-4o', api_key=openai_api_key, max_tokens=2000)"
   ],
   "metadata": {
    "collapsed": false,
    "ExecuteTime": {
     "end_time": "2024-08-20T15:28:54.487489Z",
     "start_time": "2024-08-20T15:28:54.472481Z"
    }
   },
   "id": "6e9d56b95001b3ac",
   "outputs": [],
   "execution_count": 2
  },
  {
   "metadata": {
    "ExecuteTime": {
     "end_time": "2024-08-20T15:28:54.503282Z",
     "start_time": "2024-08-20T15:28:54.489487Z"
    }
   },
   "cell_type": "code",
   "source": [
    "data = examples.load_examples(\"examples.json\")\n",
    "\n",
    "exp_metrics = metrics.Metrics(\n",
    "            [\n",
    "                metrics.accuracy,\n",
    "                metrics.fluency,\n",
    "                metrics.completeness,\n",
    "                metrics.conciseness,\n",
    "                metrics.context_awareness,\n",
    "            ], verbose=False\n",
    "        )\n",
    "\n",
    "explingo = core.Explingo(llm=llm, context=\"The model predicts house prices\", \n",
    "                         examples=data, metric=exp_metrics)"
   ],
   "id": "75a9fcd3ad0e9975",
   "outputs": [],
   "execution_count": 3
  },
  {
   "cell_type": "markdown",
   "source": [
    "# BASIC PROMPTING\n",
    "\n",
    "TODO: update Explingo's prompting method to take in multiple different prompt options. \n",
    "DSPy does not support this by default, but we are using DSPy's evaluations"
   ],
   "metadata": {
    "collapsed": false
   },
   "id": "7b5694bfd440f310"
  },
  {
   "cell_type": "code",
   "source": [
    "test_explanations = [d.explanation for d in data]\n",
    "test_explanation_format = data[0].explanation_format\n",
    "\n",
    "explingo.run_experiment(test_explanations, test_explanation_format, prompt_type=\"basic\", max_iters=5)"
   ],
   "metadata": {
    "collapsed": false,
    "ExecuteTime": {
     "end_time": "2024-08-20T15:29:06.149960Z",
     "start_time": "2024-08-20T15:28:54.505267Z"
    }
   },
   "id": "1be61df6a728fa29",
   "outputs": [
    {
     "data": {
      "text/plain": [
       "(7.212000000000001,\n",
       " accuracy             2.000\n",
       " fluency              1.000\n",
       " completeness         2.000\n",
       " conciseness          0.212\n",
       " context_awareness    2.000\n",
       " dtype: float64)"
      ]
     },
     "execution_count": 4,
     "metadata": {},
     "output_type": "execute_result"
    }
   ],
   "execution_count": 4
  },
  {
   "cell_type": "code",
   "source": [
    "explingo.run_experiment(test_explanations, test_explanation_format, prompt_type=\"few-shot\", max_iters=5)"
   ],
   "metadata": {
    "collapsed": false,
    "ExecuteTime": {
     "end_time": "2024-08-20T15:29:06.213109Z",
     "start_time": "2024-08-20T15:29:06.166935Z"
    }
   },
   "id": "c57212f361799ac6",
   "outputs": [
    {
     "data": {
      "text/plain": [
       "(6.859999999999999,\n",
       " accuracy             2.00\n",
       " fluency              1.00\n",
       " completeness         2.00\n",
       " conciseness          0.26\n",
       " context_awareness    1.60\n",
       " dtype: float64)"
      ]
     },
     "execution_count": 6,
     "metadata": {},
     "output_type": "execute_result"
    }
   ],
   "execution_count": 6
  },
  {
   "cell_type": "code",
   "source": [
    "explingo.run_experiment(test_explanations, test_explanation_format, prompt_type=\"bootstrap-few-shot\", max_iters=5)"
   ],
   "metadata": {
    "collapsed": false,
    "ExecuteTime": {
     "end_time": "2024-08-20T15:29:06.434290Z",
     "start_time": "2024-08-20T15:29:06.229692Z"
    }
   },
   "id": "7bb946a284aff621",
   "outputs": [
    {
     "name": "stderr",
     "output_type": "stream",
     "text": [
      "100%|██████████| 25/25 [00:00<00:00, 168.89it/s]\n"
     ]
    },
    {
     "name": "stdout",
     "output_type": "stream",
     "text": [
      "Bootstrapped 4 full traces after 25 examples in round 0.\n"
     ]
    },
    {
     "data": {
      "text/plain": [
       "(6.856,\n",
       " accuracy             2.000\n",
       " fluency              1.200\n",
       " completeness         1.200\n",
       " conciseness          0.456\n",
       " context_awareness    2.000\n",
       " dtype: float64)"
      ]
     },
     "execution_count": 8,
     "metadata": {},
     "output_type": "execute_result"
    }
   ],
   "execution_count": 8
  },
  {
   "cell_type": "code",
   "source": [
    "llm.inspect_history(n=1)"
   ],
   "metadata": {
    "collapsed": false,
    "ExecuteTime": {
     "end_time": "2024-08-20T15:29:06.450299Z",
     "start_time": "2024-08-20T15:29:06.436276Z"
    }
   },
   "id": "8d03521c1b9950c5",
   "outputs": [
    {
     "name": "stdout",
     "output_type": "stream",
     "text": [
      "\n",
      "\n",
      "\n",
      "You are helping users understand an ML model's prediction. Given an explanation and information about the model,\n",
      "convert the explanation into a human-readable narrative.\n",
      "\n",
      "---\n",
      "\n",
      "Follow the following format.\n",
      "\n",
      "Context: what the ML model predicts\n",
      "\n",
      "Explanation: explanation of an ML model's prediction\n",
      "\n",
      "Explanation Format: format the explanation is given in\n",
      "\n",
      "Narrative: human-readable narrative version of the explanation\n",
      "\n",
      "Rationalization: explains why given features may be relevant\n",
      "\n",
      "---\n",
      "\n",
      "Context: The model predicts whether a mushroom is poisonous\n",
      "\n",
      "Explanation: (odor, none, 0.14), (gill-size, broad, 0.06), (gill-spacing, crowded, 0.06), (spore-print-color, brown, 0.03), (stalk-surface-above-ring, smooth, 0.03)\n",
      "\n",
      "Explanation Format: SHAP feature contribution in (feature_name, feature_value, contribution) format\n",
      "\n",
      "Narrative: The model predicts that the mushroom is poisonous primarily because it has no odor, which contributes significantly to the prediction. Additionally, the broad gill size and crowded gill spacing also play important roles. The brown spore print color and smooth stalk surface above the ring contribute to a lesser extent.\n",
      "\n",
      "Rationalization: The absence of odor is a strong indicator of a poisonous mushroom, as many edible mushrooms have distinct smells. Broad gill size and crowded gill spacing can be characteristics of certain poisonous species. The brown spore print color and smooth stalk surface above the ring are additional features that, while less influential, still provide relevant information to the model's prediction.\n",
      "\n",
      "---\n",
      "\n",
      "Context: The model predicts whether a mushroom is poisonous\n",
      "\n",
      "Explanation: (gill-size, narrow, 0.14), (gill-color, buff, 0.11), (odor, fishy, 0.09), (spore-print-color, white, 0.05), (ring-type, evanescent, 0.05)\n",
      "\n",
      "Explanation Format: SHAP feature contribution in (feature_name, feature_value, contribution) format\n",
      "\n",
      "Narrative: The model predicts that the mushroom is poisonous primarily because it has narrow gills, which significantly contribute to this prediction. Additionally, the buff color of the gills, a fishy odor, a white spore print color, and an evanescent ring type also contribute to the prediction, though to a lesser extent.\n",
      "\n",
      "Rationalization: Narrow gills may be relevant because certain poisonous mushrooms often have this characteristic. The buff color of the gills could be indicative of specific toxic species. A fishy odor is commonly associated with some poisonous mushrooms. The white spore print color and evanescent ring type are also features that can be found in various poisonous mushroom species, making them relevant to the prediction.\n",
      "\n",
      "---\n",
      "\n",
      "Context: The model predicts whether a mushroom is poisonous\n",
      "\n",
      "Explanation: (odor, foul, 0.15), (gill-size, narrow, 0.11), (gill-color, buff, 0.08), (stalk-surface-above-ring, silky, 0.05), (ring-type, evanescent, 0.05)\n",
      "\n",
      "Explanation Format: SHAP feature contribution in (feature_name, feature_value, contribution) format\n",
      "\n",
      "Narrative: The model predicts that the mushroom is likely to be poisonous primarily because it has a foul odor, which is the most significant factor contributing to this prediction. Additionally, the narrow gill size and buff gill color also play important roles in the prediction. Other contributing factors include the silky texture of the stalk surface above the ring and the presence of an evanescent ring type.\n",
      "\n",
      "Rationalization: A foul odor is often associated with poisonous mushrooms, making it a strong indicator. Narrow gill size and buff gill color can also be characteristics of poisonous species. The silky texture of the stalk surface above the ring and an evanescent ring type are additional features that may be commonly found in poisonous mushrooms, thus contributing to the model's prediction.\n",
      "\n",
      "---\n",
      "\n",
      "Context: The model predicts if a student with pass their class\n",
      "\n",
      "Explanation: (Number of past class failures, 0.00, 0.89), (Wants to take higher education, yes, 0.50), (Amount of free time after school (1-5), 4.00, -0.35), (School, GP, 0.33), (Reason for choosing this school, reputation, 0.32)\n",
      "\n",
      "Explanation Format: SHAP feature contribution in (feature_name, feature_value, contribution) format\n",
      "\n",
      "Narrative: The model predicts that the student will pass their class. The student's history of no past class failures significantly contributes to this positive prediction. Additionally, the student's desire to pursue higher education also positively influences the prediction. However, the amount of free time the student has after school slightly detracts from the likelihood of passing. The fact that the student attends school GP and chose this school based on its reputation also contribute positively to the prediction.\n",
      "\n",
      "Rationalization: The number of past class failures is a strong indicator of future academic success, as students with no failures are more likely to continue performing well. A student's aspiration to pursue higher education can be a motivating factor, leading to better academic performance. While having more free time might suggest less time spent on studies, the overall impact is minor. Attending a reputable school (GP) and choosing it for its reputation can be associated with a better learning environment and resources, which can enhance a student's chances of passing.\n",
      "\n",
      "---\n",
      "\n",
      "Context: The model predicts house prices\n",
      "\n",
      "Explanation: (Original construction date, 1915.00, -17966.77), (Physical locations within Ames city limits, Crawfor, 17703.26), (Second floor square feet, 756.00, 10129.96), (Total square feet of basement area, 756.00, -8362.22), (Condition of sale, Abnorml, -6786.66)\n",
      "\n",
      "Explanation Format: SHAP feature contribution in (feature_name, feature_value, contribution) format\n",
      "\n",
      "Please provide the output fields Narrative then Rationalization. Do so immediately, without additional content before or after, and precisely as the format above shows. Begin with the field Narrative.\n",
      "\n",
      "Narrative: The model predicts the house price to be lower primarily because it was originally constructed in 1915, which significantly detracts from the price. However, the house's location within the Crawfor area of Ames city positively influences the price. The second floor's square footage also contributes positively to the price. On the other hand, the total square footage of the basement area and the condition of sale being abnormal both negatively impact the predicted price.\n",
      "\n",
      "Rationalization: Older construction dates often correlate with lower house prices due to potential age-related issues and outdated features. The Crawfor area within Ames city is likely a desirable location, which boosts the house's value. More square footage on the second floor generally increases a house's price due to additional living space. Conversely, a larger basement area might detract from the price if it is not finished or usable. An abnormal condition of sale can indicate distress or other issues, which typically lower the house's market value.\n",
      "\n",
      "\n",
      "\n"
     ]
    },
    {
     "data": {
      "text/plain": [
       "\"\\n\\n\\nYou are helping users understand an ML model's prediction. Given an explanation and information about the model,\\nconvert the explanation into a human-readable narrative.\\n\\n---\\n\\nFollow the following format.\\n\\nContext: what the ML model predicts\\n\\nExplanation: explanation of an ML model's prediction\\n\\nExplanation Format: format the explanation is given in\\n\\nNarrative: human-readable narrative version of the explanation\\n\\nRationalization: explains why given features may be relevant\\n\\n---\\n\\nContext: The model predicts whether a mushroom is poisonous\\n\\nExplanation: (odor, none, 0.14), (gill-size, broad, 0.06), (gill-spacing, crowded, 0.06), (spore-print-color, brown, 0.03), (stalk-surface-above-ring, smooth, 0.03)\\n\\nExplanation Format: SHAP feature contribution in (feature_name, feature_value, contribution) format\\n\\nNarrative: The model predicts that the mushroom is poisonous primarily because it has no odor, which contributes significantly to the prediction. Additionally, the broad gill size and crowded gill spacing also play important roles. The brown spore print color and smooth stalk surface above the ring contribute to a lesser extent.\\n\\nRationalization: The absence of odor is a strong indicator of a poisonous mushroom, as many edible mushrooms have distinct smells. Broad gill size and crowded gill spacing can be characteristics of certain poisonous species. The brown spore print color and smooth stalk surface above the ring are additional features that, while less influential, still provide relevant information to the model's prediction.\\n\\n---\\n\\nContext: The model predicts whether a mushroom is poisonous\\n\\nExplanation: (gill-size, narrow, 0.14), (gill-color, buff, 0.11), (odor, fishy, 0.09), (spore-print-color, white, 0.05), (ring-type, evanescent, 0.05)\\n\\nExplanation Format: SHAP feature contribution in (feature_name, feature_value, contribution) format\\n\\nNarrative: The model predicts that the mushroom is poisonous primarily because it has narrow gills, which significantly contribute to this prediction. Additionally, the buff color of the gills, a fishy odor, a white spore print color, and an evanescent ring type also contribute to the prediction, though to a lesser extent.\\n\\nRationalization: Narrow gills may be relevant because certain poisonous mushrooms often have this characteristic. The buff color of the gills could be indicative of specific toxic species. A fishy odor is commonly associated with some poisonous mushrooms. The white spore print color and evanescent ring type are also features that can be found in various poisonous mushroom species, making them relevant to the prediction.\\n\\n---\\n\\nContext: The model predicts whether a mushroom is poisonous\\n\\nExplanation: (odor, foul, 0.15), (gill-size, narrow, 0.11), (gill-color, buff, 0.08), (stalk-surface-above-ring, silky, 0.05), (ring-type, evanescent, 0.05)\\n\\nExplanation Format: SHAP feature contribution in (feature_name, feature_value, contribution) format\\n\\nNarrative: The model predicts that the mushroom is likely to be poisonous primarily because it has a foul odor, which is the most significant factor contributing to this prediction. Additionally, the narrow gill size and buff gill color also play important roles in the prediction. Other contributing factors include the silky texture of the stalk surface above the ring and the presence of an evanescent ring type.\\n\\nRationalization: A foul odor is often associated with poisonous mushrooms, making it a strong indicator. Narrow gill size and buff gill color can also be characteristics of poisonous species. The silky texture of the stalk surface above the ring and an evanescent ring type are additional features that may be commonly found in poisonous mushrooms, thus contributing to the model's prediction.\\n\\n---\\n\\nContext: The model predicts if a student with pass their class\\n\\nExplanation: (Number of past class failures, 0.00, 0.89), (Wants to take higher education, yes, 0.50), (Amount of free time after school (1-5), 4.00, -0.35), (School, GP, 0.33), (Reason for choosing this school, reputation, 0.32)\\n\\nExplanation Format: SHAP feature contribution in (feature_name, feature_value, contribution) format\\n\\nNarrative: The model predicts that the student will pass their class. The student's history of no past class failures significantly contributes to this positive prediction. Additionally, the student's desire to pursue higher education also positively influences the prediction. However, the amount of free time the student has after school slightly detracts from the likelihood of passing. The fact that the student attends school GP and chose this school based on its reputation also contribute positively to the prediction.\\n\\nRationalization: The number of past class failures is a strong indicator of future academic success, as students with no failures are more likely to continue performing well. A student's aspiration to pursue higher education can be a motivating factor, leading to better academic performance. While having more free time might suggest less time spent on studies, the overall impact is minor. Attending a reputable school (GP) and choosing it for its reputation can be associated with a better learning environment and resources, which can enhance a student's chances of passing.\\n\\n---\\n\\nContext: The model predicts house prices\\n\\nExplanation: (Original construction date, 1915.00, -17966.77), (Physical locations within Ames city limits, Crawfor, 17703.26), (Second floor square feet, 756.00, 10129.96), (Total square feet of basement area, 756.00, -8362.22), (Condition of sale, Abnorml, -6786.66)\\n\\nExplanation Format: SHAP feature contribution in (feature_name, feature_value, contribution) format\\n\\nPlease provide the output fields Narrative then Rationalization. Do so immediately, without additional content before or after, and precisely as the format above shows. Begin with the field Narrative.\\n\\n\\x1b[32mNarrative: The model predicts the house price to be lower primarily because it was originally constructed in 1915, which significantly detracts from the price. However, the house's location within the Crawfor area of Ames city positively influences the price. The second floor's square footage also contributes positively to the price. On the other hand, the total square footage of the basement area and the condition of sale being abnormal both negatively impact the predicted price.\\n\\nRationalization: Older construction dates often correlate with lower house prices due to potential age-related issues and outdated features. The Crawfor area within Ames city is likely a desirable location, which boosts the house's value. More square footage on the second floor generally increases a house's price due to additional living space. Conversely, a larger basement area might detract from the price if it is not finished or usable. An abnormal condition of sale can indicate distress or other issues, which typically lower the house's market value.\\x1b[0m\\n\\n\\n\""
      ]
     },
     "execution_count": 9,
     "metadata": {},
     "output_type": "execute_result"
    }
   ],
   "execution_count": 9
  },
  {
   "cell_type": "code",
   "source": [],
   "metadata": {
    "collapsed": false,
    "ExecuteTime": {
     "end_time": "2024-08-20T15:29:06.466279Z",
     "start_time": "2024-08-20T15:29:06.451298Z"
    }
   },
   "id": "1f8dc850abb3fc63",
   "outputs": [],
   "execution_count": 9
  }
 ],
 "metadata": {
  "kernelspec": {
   "display_name": "Python 3",
   "language": "python",
   "name": "python3"
  },
  "language_info": {
   "codemirror_mode": {
    "name": "ipython",
    "version": 2
   },
   "file_extension": ".py",
   "mimetype": "text/x-python",
   "name": "python",
   "nbconvert_exporter": "python",
   "pygments_lexer": "ipython2",
   "version": "2.7.6"
  }
 },
 "nbformat": 4,
 "nbformat_minor": 5
}
