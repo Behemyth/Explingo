{
 "cells": [
  {
   "metadata": {},
   "cell_type": "markdown",
   "source": [
    "# Explingo Experiment Runner\n",
    "\n",
    "This notebook:\n",
    "1. Loads the gold-standard dataset, prepares the metrics functions, and verifies that the metric functions give the maximum score on the gold-standard dataset, and lower scores on less aligned datasets\n",
    "2. Runs the prompt-design, few-shot, and bootstrap-few-shot experiments on a testing dataset"
   ],
   "id": "a9c2d95909e76143"
  },
  {
   "metadata": {},
   "cell_type": "markdown",
   "source": [
    "## Setup\n",
    "Import necessary libraries and prepare the LLM\n",
    "\n",
    "**Note: To run these cells, you need a `keys.yaml` file in the top-level Explingo directory with the following line:**\n",
    "```yaml\n",
    "openai_api_key: <your_openai_api_key>\n",
    "```"
   ],
   "id": "743e31b8c011c24"
  },
  {
   "cell_type": "code",
   "id": "initial_id",
   "metadata": {
    "collapsed": true,
    "ExecuteTime": {
     "end_time": "2024-08-30T20:03:05.775256Z",
     "start_time": "2024-08-30T20:03:05.771754Z"
    }
   },
   "source": [
    "import pandas as pd\n",
    "\n",
    "from experiment_runner import ExplingoExperimentRunner\n",
    "import os\n",
    "import yaml\n",
    "import dspy\n",
    "import metrics\n",
    "import random"
   ],
   "outputs": [],
   "execution_count": 20
  },
  {
   "cell_type": "code",
   "source": [
    "with open(os.path.join(\"..\", \"keys.yaml\"), \"r\") as file:\n",
    "    config = yaml.safe_load(file)\n",
    "    openai_api_key = config[\"openai_api_key\"]\n",
    "\n",
    "llm = dspy.OpenAI(model='gpt-4o', api_key=openai_api_key, max_tokens=1000)"
   ],
   "metadata": {
    "collapsed": false,
    "ExecuteTime": {
     "end_time": "2024-08-30T20:03:05.805983Z",
     "start_time": "2024-08-30T20:03:05.801957Z"
    }
   },
   "id": "6e9d56b95001b3ac",
   "outputs": [],
   "execution_count": 21
  },
  {
   "metadata": {},
   "cell_type": "markdown",
   "source": [
    "Now, we create the main experiment runner object. This object takes in a dataset, and then\n",
    "1. Splits the dataset into a training dataset and a testing dataset (see notes below)\n",
    "2. Sets up the evaluation metrics (see notes below). The fluency metric is set up to use sample from the dataset as reference\n",
    "3. Runs the experiments on the testing dataset"
   ],
   "id": "36792a8e050d0f6d"
  },
  {
   "metadata": {},
   "cell_type": "markdown",
   "source": [
    "Some examples in the testing datasets include gold-standard narratives; others include only a sample explanation.\n",
    "- The former makes up the gold-standard dataset used for tuning the evaluation metrics and providing few-shot examples.\n",
    "- The latter makes up the testing dataset used for evaluation and for bootstrapping few-shot examples"
   ],
   "id": "70871e15ba810c46"
  },
  {
   "metadata": {},
   "cell_type": "markdown",
   "source": [
    "We use the following metrics, all scored on a scale from 0-4:\n",
    "- Accuracy: the narrative accurately describes the information in the explanation\n",
    "- Fluency: the narrative is coherent and natural, as compared to the gold-standard explanations. We pass in a small list of sample narratives from the gold-standard dataset to compare against\n",
    "- Conciseness: the narrative is not too long, as compared to the gold-standard explanations. For now, any narrative that is no longer than the longest gold-standard narrative will score 4\n",
    "- Completeness: the narrative includes all relevant information from the original explanation \n",
    "\n",
    "**Note: You can set `verbose=1` to see the narratives generated, or `verbose=2` to see the explanations, narratives, and rationalizations**"
   ],
   "id": "733553c62a1d557d"
  },
  {
   "metadata": {
    "ExecuteTime": {
     "end_time": "2024-08-30T20:03:05.876606Z",
     "start_time": "2024-08-30T20:03:05.806991Z"
    }
   },
   "cell_type": "code",
   "source": [
    "# iterate all datasets in the eval_data folder\n",
    "runners = {}\n",
    "total_eval = 0\n",
    "for dataset in os.listdir(os.path.join(\"eval_data\")):\n",
    "    runners[dataset] = ExplingoExperimentRunner(llm=llm, openai_api_key=openai_api_key, dataset_filepath = os.path.join(\"eval_data\", dataset), verbose=1)\n",
    "    total_eval += len(runners[dataset].eval_data)\n",
    "    \n",
    "print(\"Total eval examples:\", total_eval)\n",
    "results = []"
   ],
   "id": "9ac27ac4e6ca2496",
   "outputs": [
    {
     "name": "stdout",
     "output_type": "stream",
     "text": [
      "eval_data\\housing_1.json\n",
      "Total number of examples: 35\n",
      "Labeled training examples: 5\n",
      "Labeled evaluation examples: 15\n",
      "Unlabeled training examples: 5\n",
      "Unlabeled evaluation examples: 10\n",
      "---\n",
      "eval_data\\housing_2.json\n",
      "Total number of examples: 22\n",
      "Labeled training examples: 5\n",
      "Labeled evaluation examples: 7\n",
      "Unlabeled training examples: 5\n",
      "Unlabeled evaluation examples: 5\n",
      "---\n",
      "eval_data\\housing_3.json\n",
      "Total number of examples: 22\n",
      "Labeled training examples: 5\n",
      "Labeled evaluation examples: 8\n",
      "Unlabeled training examples: 5\n",
      "Unlabeled evaluation examples: 4\n",
      "---\n",
      "eval_data\\mushroom_1.json\n",
      "Total number of examples: 30\n",
      "Labeled training examples: 5\n",
      "Labeled evaluation examples: 6\n",
      "Unlabeled training examples: 5\n",
      "Unlabeled evaluation examples: 14\n",
      "---\n",
      "eval_data\\mushroom_2.json\n",
      "Total number of examples: 30\n",
      "Labeled training examples: 5\n",
      "Labeled evaluation examples: 6\n",
      "Unlabeled training examples: 5\n",
      "Unlabeled evaluation examples: 14\n",
      "---\n",
      "eval_data\\pdf_1.json\n",
      "Total number of examples: 30\n",
      "Labeled training examples: 5\n",
      "Labeled evaluation examples: 4\n",
      "Unlabeled training examples: 5\n",
      "Unlabeled evaluation examples: 16\n",
      "---\n",
      "eval_data\\pdf_2.json\n",
      "Total number of examples: 30\n",
      "Labeled training examples: 5\n",
      "Labeled evaluation examples: 4\n",
      "Unlabeled training examples: 5\n",
      "Unlabeled evaluation examples: 16\n",
      "---\n",
      "eval_data\\student_1.json\n",
      "Total number of examples: 30\n",
      "Labeled training examples: 10\n",
      "Labeled evaluation examples: 20\n",
      "Unlabeled training examples: 0\n",
      "Unlabeled evaluation examples: 0\n",
      "---\n",
      "eval_data\\student_2.json\n",
      "Total number of examples: 30\n",
      "Labeled training examples: 5\n",
      "Labeled evaluation examples: 9\n",
      "Unlabeled training examples: 5\n",
      "Unlabeled evaluation examples: 11\n",
      "---\n",
      "Total eval examples: 169\n"
     ]
    }
   ],
   "execution_count": 22
  },
  {
   "cell_type": "markdown",
   "source": [
    "## Basic prompt design experiment\n",
    "\n",
    "We begin with basic prompts. With 4 metrics (without completeness), each with a score of 0-2, the maximum score is 8. \n",
    "\n",
    "We generate narratives/rationalizations on `max_iters=5` sample explanations, and return the average total score."
   ],
   "metadata": {
    "collapsed": false
   },
   "id": "7b5694bfd440f310"
  },
  {
   "metadata": {
    "ExecuteTime": {
     "end_time": "2024-08-30T20:03:05.881535Z",
     "start_time": "2024-08-30T20:03:05.876606Z"
    }
   },
   "cell_type": "code",
   "source": [
    "# Utilities for cleaner results\n",
    "\n",
    "def pretty_print(result):\n",
    "    s = f\"Total score: {result[0]}\"\n",
    "    s2 = \", \".join([f\"{k}: {v}\" for k, v in result[1].items()])\n",
    "    print(f\"{s} ({s2})\")\n",
    "    \n",
    "def update_results(method, dataset, scores, kwargs):\n",
    "    result = {\"dataset\": dataset, \"prompt\": prompt, \"total score\": scores[0]}\n",
    "    result.update(scores[1])\n",
    "    result.update(kwargs)\n",
    "    results.append(result)"
   ],
   "id": "7b3f0abc65532f7",
   "outputs": [],
   "execution_count": 23
  },
  {
   "cell_type": "code",
   "source": [
    "prompts = [\"You are helping users understand an ML model's prediction. Given an explanation and information about the model, \"\n",
    "           \"convert the explanation into a human-readable narrative.\",\n",
    "           \"You are helping users who do not have experience working with ML understand an ML model's prediction. Given an explanation and information about the model, convert the explanation into a human-readable narrative. Make your answers sound as natural as possible.\",\n",
    "           \"You are helping users understand an ML model's prediction. Given an explanation and information about the model, convert the explanation into a human-readable narrative. Be sure to explicitly mention all values from the explanation in your response.\",\n",
    "]\n",
    "\n",
    "for dataset in runners:\n",
    "    runner = runners[dataset]\n",
    "    print(f\"Dataset: {dataset}\")\n",
    "    for prompt in prompts:\n",
    "        print(f\"Prompt: {prompt}\")\n",
    "        scores = runner.run_basic_prompting_experiment(prompt=prompt, max_iters=2)\n",
    "        update_results(\"basic_prompting\", dataset, scores, {\"prompt\": prompt})\n",
    "        pretty_print(scores)\n",
    "        print(\"--\")\n",
    "    print(\"=====\")"
   ],
   "metadata": {
    "collapsed": false,
    "ExecuteTime": {
     "end_time": "2024-08-30T20:04:59.876770Z",
     "start_time": "2024-08-30T20:03:05.882542Z"
    }
   },
   "id": "1be61df6a728fa29",
   "outputs": [
    {
     "name": "stdout",
     "output_type": "stream",
     "text": [
      "Dataset: housing_1.json\n",
      "Prompt: You are helping users understand an ML model's prediction. Given an explanation and information about the model, convert the explanation into a human-readable narrative.\n",
      "Narrative: The model predicts the house price based on several key factors. The house is located within the Ames city limits, specifically in the NoRidge neighborhood, which contributes significantly to the price with a value of 23069.89. The above ground living area is 2198 square feet, adding 20125.75 to the price. The second floor has 1053 square feet, contributing 18094.05. The overall material and finish of the house are rated at 8, which adds 9655.79 to the price. Lastly, the house was originally constructed in the year 2000, contributing 8192.46 to the final predicted price.\n",
      "Total Score: 15.0\n",
      "accuracy: 4.0, completeness: 4.0, fluency: 3.0, conciseness: 4, \n",
      "--\n",
      "Narrative: The model predicts the house price based on several factors. The type of foundation being wood decreases the price by $18,650.67. The house's location within the Mitchel area of Ames city reduces the price by $13,510.92. The overall material and finish rating of 5.00 lowers the price by $10,743.76. However, having a three-season porch area of 320 square feet increases the price by $9,959.33. Additionally, having one bedroom above ground adds $8,905.73 to the price.\n",
      "Total Score: 16.0\n",
      "accuracy: 4.0, completeness: 4.0, fluency: 4.0, conciseness: 4, \n",
      "--\n",
      "Total score: 15.5 (accuracy: 4.0, completeness: 4.0, fluency: 3.5, conciseness: 4.0)\n",
      "--\n",
      "Prompt: You are helping users who do not have experience working with ML understand an ML model's prediction. Given an explanation and information about the model, convert the explanation into a human-readable narrative. Make your answers sound as natural as possible.\n",
      "Narrative: The model predicts the house price based on several key factors. Firstly, the house is located within the Ames city limits, specifically in the NoRidge neighborhood, which contributes significantly to the price. The above-ground living area is 2,198 square feet, adding a substantial amount to the predicted price. Additionally, the second floor has 1,053 square feet, which also positively impacts the price. The overall material and finish of the house are rated at 8 out of 10, indicating high quality, which further increases the price. Lastly, the house was originally constructed in the year 2000, and this relatively recent construction date contributes to the higher predicted price.\n",
      "Total Score: 14.0\n",
      "accuracy: 4.0, completeness: 4.0, fluency: 2.0, conciseness: 4, \n",
      "--\n",
      "Narrative: The model predicts the house price based on several factors. Having a wood foundation decreases the price by $18,650.67. Being located within the Mitchel area of Ames city limits reduces the price by $13,510.92. A house with an overall material and finish rating of 5.00 lowers the price by $10,743.76. However, having a three-season porch area of 320 square feet increases the price by $9,959.33. Additionally, having one bedroom above ground adds $8,905.73 to the price.\n",
      "Total Score: 15.0\n",
      "accuracy: 4.0, completeness: 4.0, fluency: 3.0, conciseness: 4, \n",
      "--\n",
      "Total score: 14.5 (accuracy: 4.0, completeness: 4.0, fluency: 2.5, conciseness: 4.0)\n",
      "--\n",
      "Prompt: You are helping users understand an ML model's prediction. Given an explanation and information about the model, convert the explanation into a human-readable narrative. Be sure to explicitly mention all values from the explanation in your response.\n",
      "Narrative: The model predicts house prices based on several key features. The house is located within the Ames city limits in the NoRidge neighborhood, which contributes $23,069.89 to the predicted price. The above ground living area is 2,198 square feet, adding $20,125.75 to the price. The second floor has 1,053 square feet, contributing $18,094.05. The overall material and finish of the house are rated at 8.00, which adds $9,655.79 to the price. Lastly, the house was originally constructed in the year 2000, contributing $8,192.46 to the predicted price.\n",
      "Total Score: 16.0\n",
      "accuracy: 4.0, completeness: 4.0, fluency: 4.0, conciseness: 4, \n",
      "--\n",
      "Narrative: The model predicts the house price based on several factors. The type of foundation being Wood decreases the price by $18,650.67. The house being located within the Mitchel area of Ames city limits reduces the price by $13,510.92. The overall material and finish rating of 5.00 lowers the price by $10,743.76. However, having a three-season porch area of 320 square feet increases the price by $9,959.33. Additionally, having 1 bedroom above ground adds $8,905.73 to the price.\n",
      "Total Score: 15.0\n",
      "accuracy: 4.0, completeness: 4.0, fluency: 3.0, conciseness: 4, \n",
      "--\n",
      "Total score: 15.5 (accuracy: 4.0, completeness: 4.0, fluency: 3.5, conciseness: 4.0)\n",
      "--\n",
      "=====\n",
      "Dataset: housing_2.json\n",
      "Prompt: You are helping users understand an ML model's prediction. Given an explanation and information about the model, convert the explanation into a human-readable narrative.\n",
      "Narrative: The model predicts the house price based on several key factors. The house is located within the Ames city limits, specifically in the NoRidge neighborhood, which contributes significantly to the price with a value of 23069.89. The above ground living area is 2198 square feet, adding 20125.75 to the price. The second floor has 1053 square feet, contributing 18094.05. The overall material and finish of the house are rated at 8, which adds 9655.79 to the price. Lastly, the house was originally constructed in the year 2000, contributing 8192.46 to the final predicted price.\n",
      "Total Score: 14.0\n",
      "accuracy: 4.0, completeness: 4.0, fluency: 2.0, conciseness: 4, \n",
      "--\n",
      "Narrative: The model predicts the house price based on several factors. The type of foundation being wood decreases the price by $18,650.67. The house's location within the Mitchel area of Ames city reduces the price by $13,510.92. The overall material and finish rating of 5.00 lowers the price by $10,743.76. However, having a three-season porch area of 320 square feet increases the price by $9,959.33. Additionally, having one bedroom above ground adds $8,905.73 to the price.\n",
      "Total Score: 15.0\n",
      "accuracy: 4.0, completeness: 4.0, fluency: 3.0, conciseness: 4, \n",
      "--\n",
      "Total score: 14.5 (accuracy: 4.0, completeness: 4.0, fluency: 2.5, conciseness: 4.0)\n",
      "--\n",
      "Prompt: You are helping users who do not have experience working with ML understand an ML model's prediction. Given an explanation and information about the model, convert the explanation into a human-readable narrative. Make your answers sound as natural as possible.\n",
      "Narrative: The model predicts the house price based on several key factors. Firstly, the house is located within the Ames city limits, specifically in the NoRidge neighborhood, which contributes significantly to the price. The above-ground living area is 2,198 square feet, adding a substantial amount to the predicted price. Additionally, the second floor has 1,053 square feet, which also positively impacts the price. The overall material and finish of the house are rated at 8 out of 10, indicating high quality, which further increases the price. Lastly, the house was originally constructed in the year 2000, and this relatively recent construction date contributes to the higher predicted price.\n",
      "Total Score: 13.0\n",
      "accuracy: 4.0, completeness: 4.0, fluency: 1.0, conciseness: 4, \n",
      "--\n",
      "Narrative: The model predicts the house price based on several factors. Having a wood foundation decreases the price by $18,650.67. Being located within the Mitchel area of Ames city limits reduces the price by $13,510.92. A house with an overall material and finish rating of 5.00 lowers the price by $10,743.76. However, having a three-season porch area of 320 square feet increases the price by $9,959.33. Additionally, having one bedroom above ground adds $8,905.73 to the price.\n",
      "Total Score: 15.0\n",
      "accuracy: 4.0, completeness: 4.0, fluency: 3.0, conciseness: 4, \n",
      "--\n",
      "Total score: 14.0 (accuracy: 4.0, completeness: 4.0, fluency: 2.0, conciseness: 4.0)\n",
      "--\n",
      "Prompt: You are helping users understand an ML model's prediction. Given an explanation and information about the model, convert the explanation into a human-readable narrative. Be sure to explicitly mention all values from the explanation in your response.\n",
      "Narrative: The model predicts house prices based on several key features. The house is located within the Ames city limits in the NoRidge neighborhood, which contributes $23,069.89 to the predicted price. The above ground living area is 2,198 square feet, adding $20,125.75 to the price. The second floor has 1,053 square feet, contributing $18,094.05. The overall material and finish of the house are rated at 8.00, which adds $9,655.79 to the price. Lastly, the house was originally constructed in the year 2000, contributing $8,192.46 to the predicted price.\n",
      "Total Score: 15.0\n",
      "accuracy: 4.0, completeness: 4.0, fluency: 3.0, conciseness: 4, \n",
      "--\n",
      "Narrative: The model predicts the house price based on several factors. The type of foundation being Wood decreases the price by $18,650.67. The house being located within the Mitchel area of Ames city limits reduces the price by $13,510.92. The overall material and finish rating of 5.00 lowers the price by $10,743.76. However, having a three-season porch area of 320 square feet increases the price by $9,959.33. Additionally, having 1 bedroom above ground adds $8,905.73 to the price.\n",
      "Total Score: 15.0\n",
      "accuracy: 4.0, completeness: 4.0, fluency: 3.0, conciseness: 4, \n",
      "--\n",
      "Total score: 15.0 (accuracy: 4.0, completeness: 4.0, fluency: 3.0, conciseness: 4.0)\n",
      "--\n",
      "=====\n",
      "Dataset: housing_3.json\n",
      "Prompt: You are helping users understand an ML model's prediction. Given an explanation and information about the model, convert the explanation into a human-readable narrative.\n",
      "Narrative: The model predicts the house price based on several key factors. The house is located within the Ames city limits, specifically in the NoRidge neighborhood, which contributes significantly to the price with a value of 23069.89. The above ground living area is 2198 square feet, adding 20125.75 to the price. The second floor has 1053 square feet, contributing 18094.05. The overall material and finish of the house are rated at 8, which adds 9655.79 to the price. Lastly, the house was originally constructed in the year 2000, contributing 8192.46 to the final predicted price.\n",
      "Total Score: 14.0\n",
      "accuracy: 4.0, completeness: 4.0, fluency: 2.0, conciseness: 4, \n",
      "--\n",
      "Narrative: The model predicts the house price based on several factors. The type of foundation being wood decreases the price by $18,650.67. The house's location within the Mitchel area of Ames city reduces the price by $13,510.92. The overall material and finish rating of 5.00 lowers the price by $10,743.76. However, having a three-season porch area of 320 square feet increases the price by $9,959.33. Additionally, having one bedroom above ground adds $8,905.73 to the price.\n",
      "Total Score: 13.0\n",
      "accuracy: 4.0, completeness: 4.0, fluency: 1.0, conciseness: 4, \n",
      "--\n",
      "Total score: 13.5 (accuracy: 4.0, completeness: 4.0, fluency: 1.5, conciseness: 4.0)\n",
      "--\n",
      "Prompt: You are helping users who do not have experience working with ML understand an ML model's prediction. Given an explanation and information about the model, convert the explanation into a human-readable narrative. Make your answers sound as natural as possible.\n",
      "Narrative: The model predicts the house price based on several key factors. Firstly, the house is located within the Ames city limits, specifically in the NoRidge neighborhood, which contributes significantly to the price. The above-ground living area is 2,198 square feet, adding a substantial amount to the predicted price. Additionally, the second floor has 1,053 square feet, which also positively impacts the price. The overall material and finish of the house are rated at 8 out of 10, indicating high quality, which further increases the price. Lastly, the house was originally constructed in the year 2000, and this relatively recent construction date contributes to the higher predicted price.\n",
      "Total Score: 14.0\n",
      "accuracy: 4.0, completeness: 4.0, fluency: 2.0, conciseness: 4, \n",
      "--\n",
      "Narrative: The model predicts the house price based on several factors. Having a wood foundation decreases the price by $18,650.67. Being located within the Mitchel area of Ames city limits reduces the price by $13,510.92. A house with an overall material and finish rating of 5.00 lowers the price by $10,743.76. However, having a three-season porch area of 320 square feet increases the price by $9,959.33. Additionally, having one bedroom above ground adds $8,905.73 to the price.\n",
      "Total Score: 13.0\n",
      "accuracy: 4.0, completeness: 4.0, fluency: 1.0, conciseness: 4, \n",
      "--\n",
      "Total score: 13.5 (accuracy: 4.0, completeness: 4.0, fluency: 1.5, conciseness: 4.0)\n",
      "--\n",
      "Prompt: You are helping users understand an ML model's prediction. Given an explanation and information about the model, convert the explanation into a human-readable narrative. Be sure to explicitly mention all values from the explanation in your response.\n",
      "Narrative: The model predicts house prices based on several key features. The house is located within the Ames city limits in the NoRidge neighborhood, which contributes $23,069.89 to the predicted price. The above ground living area is 2,198 square feet, adding $20,125.75 to the price. The second floor has 1,053 square feet, contributing $18,094.05. The overall material and finish of the house are rated at 8.00, which adds $9,655.79 to the price. Lastly, the house was originally constructed in the year 2000, contributing $8,192.46 to the predicted price.\n",
      "Total Score: 14.0\n",
      "accuracy: 4.0, completeness: 4.0, fluency: 2.0, conciseness: 4, \n",
      "--\n",
      "Narrative: The model predicts the house price based on several factors. The type of foundation being Wood decreases the price by $18,650.67. The house being located within the Mitchel area of Ames city limits reduces the price by $13,510.92. The overall material and finish rating of 5.00 lowers the price by $10,743.76. However, having a three-season porch area of 320 square feet increases the price by $9,959.33. Additionally, having 1 bedroom above ground adds $8,905.73 to the price.\n",
      "Total Score: 13.0\n",
      "accuracy: 4.0, completeness: 4.0, fluency: 1.0, conciseness: 4, \n",
      "--\n",
      "Total score: 13.5 (accuracy: 4.0, completeness: 4.0, fluency: 1.5, conciseness: 4.0)\n",
      "--\n",
      "=====\n",
      "Dataset: mushroom_1.json\n",
      "Prompt: You are helping users understand an ML model's prediction. Given an explanation and information about the model, convert the explanation into a human-readable narrative.\n",
      "Narrative: The model predicts that the mushroom is poisonous primarily because it has a foul odor, which contributes significantly to the prediction. Additionally, the silky texture of the stalk surface above the ring and the chocolate color of the spore print also play a role, though to a lesser extent.\n",
      "Total Score: 15.0\n",
      "accuracy: 4.0, completeness: 4.0, fluency: 3.0, conciseness: 4, \n",
      "--\n",
      "Narrative: The model predicts whether a mushroom is poisonous. In this case, the lack of odor in the mushroom decreases the likelihood of it being poisonous by 0.15. However, the crowded gill spacing and broad gill size slightly increase the likelihood of it being poisonous by 0.07 and 0.05, respectively.\n",
      "Total Score: 13.0\n",
      "accuracy: 4.0, completeness: 4.0, fluency: 1.0, conciseness: 4, \n",
      "--\n",
      "Total score: 14.0 (accuracy: 4.0, completeness: 4.0, fluency: 2.0, conciseness: 4.0)\n",
      "--\n",
      "Prompt: You are helping users who do not have experience working with ML understand an ML model's prediction. Given an explanation and information about the model, convert the explanation into a human-readable narrative. Make your answers sound as natural as possible.\n",
      "Narrative: The model predicts that the mushroom is poisonous primarily because it has a foul odor, which significantly increases the likelihood of it being poisonous. Additionally, the silky texture of the stalk surface above the ring and the chocolate color of the spore print also contribute to the prediction, but to a lesser extent.\n",
      "Total Score: 15.0\n",
      "accuracy: 4.0, completeness: 4.0, fluency: 3.0, conciseness: 4, \n",
      "--\n",
      "Narrative: The model predicts whether a mushroom is poisonous. In this case, the lack of odor slightly decreases the likelihood of the mushroom being poisonous. On the other hand, having crowded gill spacing and broad gill size both slightly increase the likelihood of the mushroom being poisonous.\n",
      "Total Score: 13.0\n",
      "accuracy: 4.0, completeness: 4.0, fluency: 1.0, conciseness: 4, \n",
      "--\n",
      "Total score: 14.0 (accuracy: 4.0, completeness: 4.0, fluency: 2.0, conciseness: 4.0)\n",
      "--\n",
      "Prompt: You are helping users understand an ML model's prediction. Given an explanation and information about the model, convert the explanation into a human-readable narrative. Be sure to explicitly mention all values from the explanation in your response.\n",
      "Narrative: The model predicts whether a mushroom is poisonous. The prediction is influenced by several factors: the odor of the mushroom being foul contributes 0.24 to the prediction, the stalk surface above the ring being silky contributes 0.09, and the spore print color being chocolate contributes 0.07.\n",
      "Total Score: 13.0\n",
      "accuracy: 4.0, completeness: 4.0, fluency: 1.0, conciseness: 4, \n",
      "--\n",
      "Narrative: The model predicts whether a mushroom is poisonous. The prediction is influenced by the following factors: the odor of the mushroom being 'none' decreases the likelihood of it being poisonous by 0.15, the gill-spacing being 'crowded' increases the likelihood by 0.07, and the gill-size being 'broad' increases the likelihood by 0.05.\n",
      "Total Score: 13.0\n",
      "accuracy: 4.0, completeness: 4.0, fluency: 1.0, conciseness: 4, \n",
      "--\n",
      "Total score: 13.0 (accuracy: 4.0, completeness: 4.0, fluency: 1.0, conciseness: 4.0)\n",
      "--\n",
      "=====\n",
      "Dataset: mushroom_2.json\n",
      "Prompt: You are helping users understand an ML model's prediction. Given an explanation and information about the model, convert the explanation into a human-readable narrative.\n",
      "Narrative: The model predicts that the mushroom is poisonous primarily because it has a foul odor, which contributes significantly to the prediction. Additionally, the silky texture of the stalk surface above the ring and the chocolate color of the spore print also play a role, though to a lesser extent.\n",
      "Total Score: 16.0\n",
      "accuracy: 4.0, completeness: 4.0, fluency: 4.0, conciseness: 4, \n",
      "--\n",
      "Narrative: The model predicts whether a mushroom is poisonous. In this case, the lack of odor in the mushroom decreases the likelihood of it being poisonous by 0.15. However, the crowded gill spacing and broad gill size slightly increase the likelihood of it being poisonous by 0.07 and 0.05, respectively.\n",
      "Total Score: 13.0\n",
      "accuracy: 4.0, completeness: 4.0, fluency: 1.0, conciseness: 4, \n",
      "--\n",
      "Total score: 14.5 (accuracy: 4.0, completeness: 4.0, fluency: 2.5, conciseness: 4.0)\n",
      "--\n",
      "Prompt: You are helping users who do not have experience working with ML understand an ML model's prediction. Given an explanation and information about the model, convert the explanation into a human-readable narrative. Make your answers sound as natural as possible.\n",
      "Narrative: The model predicts that the mushroom is poisonous primarily because it has a foul odor, which significantly increases the likelihood of it being poisonous. Additionally, the silky texture of the stalk surface above the ring and the chocolate color of the spore print also contribute to the prediction, but to a lesser extent.\n",
      "Total Score: 16.0\n",
      "accuracy: 4.0, completeness: 4.0, fluency: 4.0, conciseness: 4, \n",
      "--\n",
      "Narrative: The model predicts whether a mushroom is poisonous. In this case, the lack of odor slightly decreases the likelihood of the mushroom being poisonous. On the other hand, having crowded gill spacing and broad gill size both slightly increase the likelihood of the mushroom being poisonous.\n",
      "Total Score: 13.0\n",
      "accuracy: 4.0, completeness: 4.0, fluency: 1.0, conciseness: 4, \n",
      "--\n",
      "Total score: 14.5 (accuracy: 4.0, completeness: 4.0, fluency: 2.5, conciseness: 4.0)\n",
      "--\n",
      "Prompt: You are helping users understand an ML model's prediction. Given an explanation and information about the model, convert the explanation into a human-readable narrative. Be sure to explicitly mention all values from the explanation in your response.\n",
      "Narrative: The model predicts whether a mushroom is poisonous. The prediction is influenced by several factors: the odor of the mushroom being foul contributes 0.24 to the prediction, the stalk surface above the ring being silky contributes 0.09, and the spore print color being chocolate contributes 0.07.\n",
      "Total Score: 13.0\n",
      "accuracy: 4.0, completeness: 4.0, fluency: 1.0, conciseness: 4, \n",
      "--\n",
      "Narrative: The model predicts whether a mushroom is poisonous. The prediction is influenced by the following factors: the odor of the mushroom being 'none' decreases the likelihood of it being poisonous by 0.15, the gill-spacing being 'crowded' increases the likelihood by 0.07, and the gill-size being 'broad' increases the likelihood by 0.05.\n",
      "Total Score: 13.0\n",
      "accuracy: 4.0, completeness: 4.0, fluency: 1.0, conciseness: 4, \n",
      "--\n",
      "Total score: 13.0 (accuracy: 4.0, completeness: 4.0, fluency: 1.0, conciseness: 4.0)\n",
      "--\n",
      "=====\n",
      "Dataset: pdf_1.json\n",
      "Prompt: You are helping users understand an ML model's prediction. Given an explanation and information about the model, convert the explanation into a human-readable narrative.\n",
      "Narrative: The model predicts that the PDF file contains malware primarily because the size of its metadata is 180.0 KB, which significantly contributes to the prediction. Additionally, the total size of the PDF is 3.0 KB, and the number of streams (sequences of binary data) is 1.0, both of which also contribute to the model's decision, though to a lesser extent.\n",
      "Total Score: 15.0\n",
      "accuracy: 4.0, completeness: 4.0, fluency: 3.0, conciseness: 4, \n",
      "--\n",
      "Narrative: The model predicts that the PDF file contains malware primarily because the size of its metadata is 358.0 KB, which significantly contributes to the prediction. Additionally, the absence of Javascript keywords and the total size of the file being 63.0 KB also play a role, though to a lesser extent.\n",
      "Total Score: 13.0\n",
      "accuracy: 4.0, completeness: 2.0, fluency: 3.0, conciseness: 4, \n",
      "--\n",
      "Total score: 14.0 (accuracy: 4.0, completeness: 3.0, fluency: 3.0, conciseness: 4.0)\n",
      "--\n",
      "Prompt: You are helping users who do not have experience working with ML understand an ML model's prediction. Given an explanation and information about the model, convert the explanation into a human-readable narrative. Make your answers sound as natural as possible.\n",
      "Narrative: The model predicts that this PDF file contains malware primarily because of three factors. First, the size of the metadata is quite large at 180.0 KB, which significantly influences the prediction. Second, the total size of the file is relatively small at 3.0 KB, which also contributes to the likelihood of it being malware. Lastly, the file contains only one stream of binary data, which adds to the suspicion.\n",
      "Total Score: 15.0\n",
      "accuracy: 4.0, completeness: 4.0, fluency: 3.0, conciseness: 4, \n",
      "--\n",
      "Narrative: The model predicts that this PDF file might contain malware based on several factors. Firstly, the size of the metadata is quite large at 358.0 KB, which significantly influences the prediction. Secondly, the absence of Javascript keywords in the file also plays a role, though to a lesser extent. Lastly, the total size of the PDF, which is 63.0 KB, contributes slightly to the prediction.\n",
      "Total Score: 15.0\n",
      "accuracy: 4.0, completeness: 4.0, fluency: 3.0, conciseness: 4, \n",
      "--\n",
      "Total score: 15.0 (accuracy: 4.0, completeness: 4.0, fluency: 3.0, conciseness: 4.0)\n",
      "--\n",
      "Prompt: You are helping users understand an ML model's prediction. Given an explanation and information about the model, convert the explanation into a human-readable narrative. Be sure to explicitly mention all values from the explanation in your response.\n",
      "Narrative: The model predicts whether a PDF file contains malware. The size of the metadata in the PDF is 180.0 KB, contributing 0.16 to the prediction. The total size of the PDF is 3.0 KB, contributing 0.06 to the prediction. Additionally, the PDF contains 1 stream (sequence of binary data), contributing 0.04 to the prediction.\n",
      "Total Score: 13.0\n",
      "accuracy: 4.0, completeness: 4.0, fluency: 1.0, conciseness: 4, \n",
      "--\n",
      "Narrative: The model predicts that the PDF file contains malware. The size of the metadata in the file is 358.0 KB, which contributes 0.10 to the prediction. The number of Javascript keywords in the file is 0.0, contributing 0.07 to the prediction. Additionally, the total size of the file is 63.0 KB, contributing 0.06 to the prediction.\n",
      "Total Score: 16.0\n",
      "accuracy: 4.0, completeness: 4.0, fluency: 4.0, conciseness: 4, \n",
      "--\n",
      "Total score: 14.5 (accuracy: 4.0, completeness: 4.0, fluency: 2.5, conciseness: 4.0)\n",
      "--\n",
      "=====\n",
      "Dataset: pdf_2.json\n",
      "Prompt: You are helping users understand an ML model's prediction. Given an explanation and information about the model, convert the explanation into a human-readable narrative.\n",
      "Narrative: The model predicts that the PDF file contains malware primarily because the size of its metadata is 180.0 KB, which significantly contributes to the prediction. Additionally, the total size of the PDF is 3.0 KB, and the number of streams (sequences of binary data) is 1.0, both of which also contribute to the model's decision, though to a lesser extent.\n",
      "Total Score: 13.0\n",
      "accuracy: 4.0, completeness: 4.0, fluency: 1.0, conciseness: 4, \n",
      "--\n",
      "Narrative: The model predicts that the PDF file contains malware primarily because the size of its metadata is 358.0 KB, which significantly contributes to the prediction. Additionally, the absence of Javascript keywords and the total size of the file being 63.0 KB also play a role, though to a lesser extent.\n",
      "Total Score: 13.0\n",
      "accuracy: 4.0, completeness: 2.0, fluency: 3.0, conciseness: 4, \n",
      "--\n",
      "Total score: 13.0 (accuracy: 4.0, completeness: 3.0, fluency: 2.0, conciseness: 4.0)\n",
      "--\n",
      "Prompt: You are helping users who do not have experience working with ML understand an ML model's prediction. Given an explanation and information about the model, convert the explanation into a human-readable narrative. Make your answers sound as natural as possible.\n",
      "Narrative: The model predicts that this PDF file contains malware primarily because of three factors. First, the size of the metadata is quite large at 180.0 KB, which significantly influences the prediction. Second, the total size of the file is relatively small at 3.0 KB, which also contributes to the likelihood of it being malware. Lastly, the file contains only one stream of binary data, which adds to the suspicion.\n",
      "Total Score: 15.0\n",
      "accuracy: 4.0, completeness: 4.0, fluency: 3.0, conciseness: 4, \n",
      "--\n",
      "Narrative: The model predicts that this PDF file might contain malware based on several factors. Firstly, the size of the metadata is quite large at 358.0 KB, which significantly influences the prediction. Secondly, the absence of Javascript keywords in the file also plays a role, though to a lesser extent. Lastly, the total size of the PDF, which is 63.0 KB, contributes slightly to the prediction.\n",
      "Total Score: 15.0\n",
      "accuracy: 4.0, completeness: 4.0, fluency: 3.0, conciseness: 4, \n",
      "--\n",
      "Total score: 15.0 (accuracy: 4.0, completeness: 4.0, fluency: 3.0, conciseness: 4.0)\n",
      "--\n",
      "Prompt: You are helping users understand an ML model's prediction. Given an explanation and information about the model, convert the explanation into a human-readable narrative. Be sure to explicitly mention all values from the explanation in your response.\n",
      "Narrative: The model predicts whether a PDF file contains malware. The size of the metadata in the PDF is 180.0 KB, contributing 0.16 to the prediction. The total size of the PDF is 3.0 KB, contributing 0.06 to the prediction. Additionally, the PDF contains 1 stream (sequence of binary data), contributing 0.04 to the prediction.\n",
      "Total Score: 13.0\n",
      "accuracy: 4.0, completeness: 4.0, fluency: 1.0, conciseness: 4, \n",
      "--\n",
      "Narrative: The model predicts that the PDF file contains malware. The size of the metadata in the file is 358.0 KB, which contributes 0.10 to the prediction. The number of Javascript keywords in the file is 0.0, contributing 0.07 to the prediction. Additionally, the total size of the file is 63.0 KB, contributing 0.06 to the prediction.\n",
      "Total Score: 15.0\n",
      "accuracy: 4.0, completeness: 4.0, fluency: 3.0, conciseness: 4, \n",
      "--\n",
      "Total score: 14.0 (accuracy: 4.0, completeness: 4.0, fluency: 2.0, conciseness: 4.0)\n",
      "--\n",
      "=====\n",
      "Dataset: student_1.json\n",
      "Prompt: You are helping users understand an ML model's prediction. Given an explanation and information about the model, convert the explanation into a human-readable narrative.\n",
      "Narrative: The model predicts that the student is less likely to pass their class. The lack of family educational support significantly decreases the likelihood of passing, contributing negatively by 2.01. Not being in a romantic relationship slightly increases the chances of passing, contributing positively by 1.02. Additionally, having the student's guardian as their mother has a small negative impact, contributing -0.40 to the prediction.\n",
      "Total Score: 15.0\n",
      "accuracy: 4.0, completeness: 4.0, fluency: 3.0, conciseness: 4, \n",
      "--\n",
      "Narrative: The model predicts that the student will pass their class. The factors contributing to this prediction include the student receiving family educational support, which has a positive impact on the prediction (1.25). Additionally, the student is not in a romantic relationship, which also positively influences the prediction (1.06). However, the frequency of going out with friends, which is at the highest level (5), slightly decreases the likelihood of passing (-0.60).\n",
      "Total Score: 15.0\n",
      "accuracy: 4.0, completeness: 4.0, fluency: 3.0, conciseness: 4, \n",
      "--\n",
      "Total score: 15.0 (accuracy: 4.0, completeness: 4.0, fluency: 3.0, conciseness: 4.0)\n",
      "--\n",
      "Prompt: You are helping users who do not have experience working with ML understand an ML model's prediction. Given an explanation and information about the model, convert the explanation into a human-readable narrative. Make your answers sound as natural as possible.\n",
      "Narrative: The model predicts that the student is less likely to pass their class. This is influenced by the fact that the student does not receive family educational support, which decreases their chances significantly. Additionally, the student is not in a romantic relationship, which slightly increases their chances of passing. Lastly, having their mother as their guardian has a small negative impact on their likelihood of passing.\n",
      "Total Score: 15.0\n",
      "accuracy: 4.0, completeness: 4.0, fluency: 3.0, conciseness: 4, \n",
      "--\n",
      "Narrative: The model predicts that the student will pass their class. The factors influencing this prediction include the student receiving educational support from their family, which positively impacts the prediction. Additionally, the student is not in a romantic relationship, which also contributes positively. However, the student frequently goes out with friends, which slightly decreases the likelihood of passing.\n",
      "Total Score: 15.0\n",
      "accuracy: 4.0, completeness: 4.0, fluency: 3.0, conciseness: 4, \n",
      "--\n",
      "Total score: 15.0 (accuracy: 4.0, completeness: 4.0, fluency: 3.0, conciseness: 4.0)\n",
      "--\n",
      "Prompt: You are helping users understand an ML model's prediction. Given an explanation and information about the model, convert the explanation into a human-readable narrative. Be sure to explicitly mention all values from the explanation in your response.\n",
      "Narrative: The model predicts that the student will not pass their class. The lack of family educational support contributes negatively to the prediction with a value of -2.01. Not being in a romantic relationship has a positive contribution of 1.02. Additionally, having the student's guardian as their mother contributes negatively with a value of -0.40.\n",
      "Total Score: 14.0\n",
      "accuracy: 4.0, completeness: 4.0, fluency: 2.0, conciseness: 4, \n",
      "--\n",
      "Narrative: The model predicts that the student will pass their class. The factors influencing this prediction include the student receiving family educational support, which contributes positively with a value of 1.25. Additionally, the student is not in a romantic relationship, which also contributes positively with a value of 1.06. However, the frequency of the student going out with friends, which is at the highest level of 5, contributes negatively with a value of -0.60.\n",
      "Total Score: 15.0\n",
      "accuracy: 4.0, completeness: 4.0, fluency: 3.0, conciseness: 4, \n",
      "--\n",
      "Total score: 14.5 (accuracy: 4.0, completeness: 4.0, fluency: 2.5, conciseness: 4.0)\n",
      "--\n",
      "=====\n",
      "Dataset: student_2.json\n",
      "Prompt: You are helping users understand an ML model's prediction. Given an explanation and information about the model, convert the explanation into a human-readable narrative.\n",
      "Narrative: The model predicts that the student is less likely to pass their class. The factors contributing to this prediction include the student being in a romantic relationship, which has a significant negative impact. Additionally, the lack of family educational support and having their mother as their guardian also contribute negatively, though to a lesser extent.\n",
      "Total Score: 15.0\n",
      "accuracy: 4.0, completeness: 4.0, fluency: 3.0, conciseness: 4, \n",
      "--\n",
      "Narrative: The model predicts that the student is less likely to pass their class because they are in a romantic relationship, which has a negative impact on the prediction. However, having their father as their guardian positively influences the prediction. Additionally, the lack of family educational support also negatively affects the prediction.\n",
      "Total Score: 16.0\n",
      "accuracy: 4.0, completeness: 4.0, fluency: 4.0, conciseness: 4, \n",
      "--\n",
      "Total score: 15.5 (accuracy: 4.0, completeness: 4.0, fluency: 3.5, conciseness: 4.0)\n",
      "--\n",
      "Prompt: You are helping users who do not have experience working with ML understand an ML model's prediction. Given an explanation and information about the model, convert the explanation into a human-readable narrative. Make your answers sound as natural as possible.\n",
      "Narrative: The model predicts that the student might not pass their class. This is influenced by the fact that the student is in a romantic relationship, which has a significant negative impact on the prediction. Additionally, the lack of family educational support and having their mother as their guardian also contribute negatively, though to a lesser extent.\n",
      "Total Score: 15.0\n",
      "accuracy: 4.0, completeness: 4.0, fluency: 3.0, conciseness: 4, \n",
      "--\n",
      "Narrative: The model predicts that the student is less likely to pass their class because they are in a romantic relationship, which negatively impacts their chances. However, having their father as their guardian slightly increases their likelihood of passing. Additionally, the lack of family educational support also decreases their chances of passing.\n",
      "Total Score: 16.0\n",
      "accuracy: 4.0, completeness: 4.0, fluency: 4.0, conciseness: 4, \n",
      "--\n",
      "Total score: 15.5 (accuracy: 4.0, completeness: 4.0, fluency: 3.5, conciseness: 4.0)\n",
      "--\n",
      "Prompt: You are helping users understand an ML model's prediction. Given an explanation and information about the model, convert the explanation into a human-readable narrative. Be sure to explicitly mention all values from the explanation in your response.\n",
      "Narrative: The model predicts that the student will not pass their class. The factors contributing to this prediction include the student being in a romantic relationship, which decreases the likelihood of passing by 1.74 units. Additionally, the lack of family educational support further reduces the likelihood by 1.51 units. Lastly, having the student's guardian as their mother slightly decreases the likelihood by 0.31 units.\n",
      "Total Score: 15.0\n",
      "accuracy: 4.0, completeness: 4.0, fluency: 3.0, conciseness: 4, \n",
      "--\n",
      "Narrative: The model predicts that the student will pass their class. The fact that the student is in a romantic relationship contributes negatively to this prediction with a value of -1.86. On the other hand, having their father as their guardian contributes positively with a value of 1.12. Additionally, the lack of family educational support contributes negatively with a value of -1.02.\n",
      "Total Score: 16.0\n",
      "accuracy: 4.0, completeness: 4.0, fluency: 4.0, conciseness: 4, \n",
      "--\n",
      "Total score: 15.5 (accuracy: 4.0, completeness: 4.0, fluency: 3.5, conciseness: 4.0)\n",
      "--\n",
      "=====\n"
     ]
    }
   ],
   "execution_count": 24
  },
  {
   "cell_type": "code",
   "outputs": [
    {
     "name": "stdout",
     "output_type": "stream",
     "text": [
      "\n",
      "\n",
      "\n",
      "You are helping users understand an ML model's prediction. Given an explanation and information about the model, convert the explanation into a human-readable narrative. Be sure to explicitly mention all values from the explanation in your response.\n",
      "---\n",
      "Follow the following format\n",
      "Context: what the model predicts\n",
      "Explanation: explanation of the model's prediction\n",
      "Explanation Format: format the explanation is given in\n",
      "Narrative: human-readable narrative version of the explanation\n",
      "---\n",
      "Context: The model predicts whether a student will pass their class\n",
      "Explanation: (In a romantic relationship, yes, -1.86), (Student's guardian, father, 1.12), (Family eductional support, no, -1.02)\n",
      "Explanation Format: SHAP feature contribution in (feature_name, feature_value, contribution) format\n",
      "Please provide the output field Narrative. Do so immediately, without additional content before or after, and precisely as the format above shows.\n",
      "\n",
      "Narrative: The model predicts that the student will pass their class. The fact that the student is in a romantic relationship contributes negatively to this prediction with a value of -1.86. On the other hand, having their father as their guardian contributes positively with a value of 1.12. Additionally, the lack of family educational support contributes negatively with a value of -1.02.\n",
      "\n",
      "\n"
     ]
    },
    {
     "data": {
      "text/plain": "\"\\n\\n\\nYou are helping users understand an ML model's prediction. Given an explanation and information about the model, convert the explanation into a human-readable narrative. Be sure to explicitly mention all values from the explanation in your response.\\n---\\nFollow the following format\\nContext: what the model predicts\\nExplanation: explanation of the model's prediction\\nExplanation Format: format the explanation is given in\\nNarrative: human-readable narrative version of the explanation\\n---\\nContext: The model predicts whether a student will pass their class\\nExplanation: (In a romantic relationship, yes, -1.86), (Student's guardian, father, 1.12), (Family eductional support, no, -1.02)\\nExplanation Format: SHAP feature contribution in (feature_name, feature_value, contribution) format\\nPlease provide the output field Narrative. Do so immediately, without additional content before or after, and precisely as the format above shows.\\n\\n\\x1b[32mNarrative: The model predicts that the student will pass their class. The fact that the student is in a romantic relationship contributes negatively to this prediction with a value of -1.86. On the other hand, having their father as their guardian contributes positively with a value of 1.12. Additionally, the lack of family educational support contributes negatively with a value of -1.02.\\x1b[0m\\n\\n\\n\""
     },
     "execution_count": 25,
     "metadata": {},
     "output_type": "execute_result"
    }
   ],
   "source": [
    "llm.inspect_history(n=1)"
   ],
   "metadata": {
    "collapsed": false,
    "ExecuteTime": {
     "end_time": "2024-08-30T20:04:59.882718Z",
     "start_time": "2024-08-30T20:04:59.876770Z"
    }
   },
   "id": "adc54b2733a57b7c",
   "execution_count": 25
  },
  {
   "metadata": {},
   "cell_type": "markdown",
   "source": [
    "## Few-shot experiment\n",
    "\n",
    "Next, we repeat the experiment with the addition of N few-shot examples from the gold-standard dataset."
   ],
   "id": "89d7ba7e0085534b"
  },
  {
   "cell_type": "code",
   "source": [
    "for dataset in runners:\n",
    "    runner = runners[dataset]\n",
    "    print(f\"Dataset: {dataset}\")\n",
    "    for i in [1, 3, 5]:\n",
    "        print(f\"Few-shot n: {i}\")\n",
    "        scores = runner.run_few_shot_experiment(n_few_shot=i, prompt=prompts[0], max_iters=2)\n",
    "        update_results(\"few_shot\", dataset, scores, {\"n_few_shot\": i, \"prompt\": prompts[0]})\n",
    "        pretty_print(scores)\n",
    "        print(\"--\")\n",
    "    print(\"=====\")"
   ],
   "metadata": {
    "collapsed": false,
    "ExecuteTime": {
     "end_time": "2024-08-30T20:08:01.485466Z",
     "start_time": "2024-08-30T20:04:59.882718Z"
    }
   },
   "id": "c57212f361799ac6",
   "outputs": [
    {
     "name": "stdout",
     "output_type": "stream",
     "text": [
      "Dataset: housing_1.json\n",
      "Few-shot n: 1\n",
      "Narrative: The house's location in NoRidge increased the predicted price by about $23,000. The relatively larger above ground living space increased the price by about $20,000. The house's larger than average second floor increased the price by about $18,000. The good overall material and finish of the house (rated 8/10) increased the price by about $9,600. The house is newer than average, with a construction year of 2000, which increased the price by about $8,200.\n",
      "Total Score: 16.0\n",
      "accuracy: 4.0, completeness: 4.0, fluency: 4.0, conciseness: 4, \n",
      "--\n",
      "Narrative: The house's wood foundation reduced the predicted price by about $18,000. The house's location in Mitchel reduced the price by about $13,500. The lower-than-average material rating also reduced the house price by about $10,000. The relatively larger three season porch area increased the price by about $10,000. Having only one bedroom above ground increased the price by about $9,000.\n",
      "Total Score: 12.0\n",
      "accuracy: 0.0, completeness: 4.0, fluency: 4.0, conciseness: 4, \n",
      "--\n",
      "Total score: 14.0 (accuracy: 2.0, completeness: 4.0, fluency: 4.0, conciseness: 4.0)\n",
      "--\n",
      "Few-shot n: 3\n",
      "Narrative: The house's location in NoRidge increases its predicted price by about $23,000. The larger above ground living area increases the price by about $20,000. The larger second floor area increases the price by about $18,000. The good overall material and finish rating (8/10) increases the price by about $10,000. The relatively newer construction year of 2000 increases the price by about $8,000.\n",
      "Total Score: 16.0\n",
      "accuracy: 4.0, completeness: 4.0, fluency: 4.0, conciseness: 4, \n",
      "--\n",
      "Narrative: The house's wood foundation reduced the predicted price by about $18,000. The house's location in Mitchel reduced the price by about $13,500. The average material and finish quality (rated 5/10) reduced the price by about $10,700. The presence of a three-season porch increased the price by about $10,000. Having only one bedroom above ground increased the price by about $9,000.\n",
      "Total Score: 16.0\n",
      "accuracy: 4.0, completeness: 4.0, fluency: 4.0, conciseness: 4, \n",
      "--\n",
      "Total score: 16.0 (accuracy: 4.0, completeness: 4.0, fluency: 4.0, conciseness: 4.0)\n",
      "--\n",
      "Few-shot n: 5\n",
      "Narrative: The house's location in NoRidge increased the predicted price by about $23,000. The relatively larger above ground living space increased the price by about $20,000. The house's larger than average second floor increased the price by about $18,000. The higher-than-average material rating increased the price by about $9,500. The house is newer than average, with a construction year of 2000, which increased the price by about $8,000.\n",
      "Total Score: 16.0\n",
      "accuracy: 4.0, completeness: 4.0, fluency: 4.0, conciseness: 4, \n",
      "--\n",
      "Narrative: The house's wood foundation reduced the predicted price by about $18,500. The house's location in Mitchel reduced the price by about $13,500. The lower-than-average material rating also reduced the house price by about $10,700. The relatively larger three season porch area increased the price by about $10,000. Having one bedroom above ground increased the price by about $8,900.\n",
      "Total Score: 16.0\n",
      "accuracy: 4.0, completeness: 4.0, fluency: 4.0, conciseness: 4, \n",
      "--\n",
      "Total score: 16.0 (accuracy: 4.0, completeness: 4.0, fluency: 4.0, conciseness: 4.0)\n",
      "--\n",
      "=====\n",
      "Dataset: housing_2.json\n",
      "Few-shot n: 1\n",
      "Narrative: The SHAP value shows that the house price increases because the location is NoRidge, the above ground living area is 2198 sq ft, the second floor is 1053 sq ft, the overall material and finish of the house is rated 8, and the construction year is 2000.\n",
      "Total Score: 16.0\n",
      "accuracy: 4.0, completeness: 4.0, fluency: 4.0, conciseness: 4, \n",
      "--\n",
      "Narrative: The SHAP value indicates that the house price decreases because the foundation is made of wood, the location is Mitchel, and the material quality is rated 5. However, the price increases due to the three season porch area of 320 sq ft and having 1 bedroom above ground.\n",
      "Total Score: 16.0\n",
      "accuracy: 4.0, completeness: 4.0, fluency: 4.0, conciseness: 4, \n",
      "--\n",
      "Total score: 16.0 (accuracy: 4.0, completeness: 4.0, fluency: 4.0, conciseness: 4.0)\n",
      "--\n",
      "Few-shot n: 3\n",
      "Narrative: The SHAP value suggests that the house price increases because the location is NoRidge, the above ground living area is 2198 sq ft, the second floor is 1053 sq ft, the overall material and finish rating is 8, and the construction year is 2000.\n",
      "Total Score: 16.0\n",
      "accuracy: 4.0, completeness: 4.0, fluency: 4.0, conciseness: 4, \n",
      "--\n",
      "Narrative: The SHAP value indicates that the house price decreases because the foundation is made of wood, the location is Mitchel, and the material quality is rated 5. However, the price increases due to the three season porch area of 320 sq ft and having 1 bedroom above ground.\n",
      "Total Score: 16.0\n",
      "accuracy: 4.0, completeness: 4.0, fluency: 4.0, conciseness: 4, \n",
      "--\n",
      "Total score: 16.0 (accuracy: 4.0, completeness: 4.0, fluency: 4.0, conciseness: 4.0)\n",
      "--\n",
      "Few-shot n: 5\n",
      "Narrative: The SHAP value suggests that the house price increases because the location is NoRidge, the above ground living area is 2198 sq ft, the second floor is 1053 sq ft, the overall material and finish rating is 8, and the construction year is 2000.\n",
      "Total Score: 16.0\n",
      "accuracy: 4.0, completeness: 4.0, fluency: 4.0, conciseness: 4, \n",
      "--\n",
      "Narrative: The SHAP value indicates that the house price decreases because the foundation type is wood, the location is Mitchel, and the material quality is rated 5. However, the price increases due to the three season porch area of 320 sq ft and having 1 bedroom above ground.\n",
      "Total Score: 16.0\n",
      "accuracy: 4.0, completeness: 4.0, fluency: 4.0, conciseness: 4, \n",
      "--\n",
      "Total score: 16.0 (accuracy: 4.0, completeness: 4.0, fluency: 4.0, conciseness: 4.0)\n",
      "--\n",
      "=====\n",
      "Dataset: housing_3.json\n",
      "Few-shot n: 1\n",
      "Narrative: This house costs more because of its location in NoRidge, larger above ground space (size=2198), larger second floor (size=1053), higher quality materials and finishes (rating=8), and newer construction year (2000).\n",
      "Total Score: 14.0\n",
      "accuracy: 4.0, completeness: 2.0, fluency: 4.0, conciseness: 4, \n",
      "--\n",
      "Narrative: This house is cheaper because of its wood foundation, location in Mitchel, and average material and finish quality (rating=5). Itâ€™s more expensive due to its three season porch (size=320) and having one bedroom above ground.\n",
      "Total Score: 16.0\n",
      "accuracy: 4.0, completeness: 4.0, fluency: 4.0, conciseness: 4, \n",
      "--\n",
      "Total score: 15.0 (accuracy: 4.0, completeness: 3.0, fluency: 4.0, conciseness: 4.0)\n",
      "--\n",
      "Few-shot n: 3\n",
      "Narrative: This house is more expensive because of its location in NoRidge, larger above ground living area (size=2198), larger second floor (size=1053), high-quality materials and finishes (rating=8), and newer construction year (2000).\n",
      "Total Score: 16.0\n",
      "accuracy: 4.0, completeness: 4.0, fluency: 4.0, conciseness: 4, \n",
      "--\n",
      "Narrative: This house is cheaper because it has a wood foundation, is located in Mitchel, and has lower material quality (rating=5). However, it costs more due to its three season porch (size=320) and having one bedroom above ground.\n",
      "Total Score: 16.0\n",
      "accuracy: 4.0, completeness: 4.0, fluency: 4.0, conciseness: 4, \n",
      "--\n",
      "Total score: 16.0 (accuracy: 4.0, completeness: 4.0, fluency: 4.0, conciseness: 4.0)\n",
      "--\n",
      "Few-shot n: 5\n",
      "Narrative: This house is more expensive because of its location in NoRidge, larger above ground living space (size=2198), larger second floor (size=1053), higher material quality (rating=8), and being relatively newer (year=2000).\n",
      "Total Score: 14.0\n",
      "accuracy: 4.0, completeness: 2.0, fluency: 4.0, conciseness: 4, \n",
      "--\n",
      "Narrative: This house is cheaper because it has a wood foundation, is located in Mitchel, and has an average material and finish rating (rating=5). Itâ€™s more expensive due to its three season porch (size=320) and having one bedroom above ground.\n",
      "Total Score: 15.0\n",
      "accuracy: 4.0, completeness: 4.0, fluency: 3.0, conciseness: 4, \n",
      "--\n",
      "Total score: 14.5 (accuracy: 4.0, completeness: 3.0, fluency: 3.5, conciseness: 4.0)\n",
      "--\n",
      "=====\n",
      "Dataset: mushroom_1.json\n",
      "Few-shot n: 1\n",
      "Narrative: This mushroom is more likely to be poisonous because its foul odor, silky stalk surface, and chocolate spore print color. Be careful!\n",
      "Total Score: 14.0\n",
      "accuracy: 4.0, completeness: 2.0, fluency: 4.0, conciseness: 4, \n",
      "--\n",
      "Narrative: This mushroom is less likely to be poisonous because it has no odor. However, its crowded gill spacing and broad gill size increase the likelihood of it being poisonous. Be cautious!\n",
      "Total Score: 15.0\n",
      "accuracy: 4.0, completeness: 4.0, fluency: 3.0, conciseness: 4, \n",
      "--\n",
      "Total score: 14.5 (accuracy: 4.0, completeness: 3.0, fluency: 3.5, conciseness: 4.0)\n",
      "--\n",
      "Few-shot n: 3\n",
      "Narrative: This mushroom is more likely to be poisonous because its foul odor, silky stalk surface, and chocolate spore print color. Be careful!\n",
      "Total Score: 14.0\n",
      "accuracy: 4.0, completeness: 2.0, fluency: 4.0, conciseness: 4, \n",
      "--\n",
      "Narrative: This mushroom is less likely to be poisonous because it has no odor. However, the crowded gill spacing and broad gill size slightly increase the likelihood of it being poisonous. You should still confirm with external sources.\n",
      "Total Score: 15.0\n",
      "accuracy: 4.0, completeness: 4.0, fluency: 3.0, conciseness: 4, \n",
      "--\n",
      "Total score: 14.5 (accuracy: 4.0, completeness: 3.0, fluency: 3.5, conciseness: 4.0)\n",
      "--\n",
      "Few-shot n: 5\n",
      "Narrative: This mushroom is more likely to be poisonous because its foul odor, silky stalk surface, and chocolate spore print color. Be careful!\n",
      "Total Score: 14.0\n",
      "accuracy: 4.0, completeness: 2.0, fluency: 4.0, conciseness: 4, \n",
      "--\n",
      "Narrative: This mushroom is less likely to be poisonous because it has no odor and a broad gill size. However, the crowded gill spacing slightly increases the likelihood of it being poisonous. You should still confirm with external sources.\n",
      "Total Score: 16.0\n",
      "accuracy: 4.0, completeness: 4.0, fluency: 4.0, conciseness: 4, \n",
      "--\n",
      "Total score: 15.0 (accuracy: 4.0, completeness: 3.0, fluency: 4.0, conciseness: 4.0)\n",
      "--\n",
      "=====\n",
      "Dataset: mushroom_2.json\n",
      "Few-shot n: 1\n",
      "Narrative: The foul odor, silky stalk surface, and chocolate spore print color suggest the mushroom more likely to be poisonous.\n",
      "Total Score: 14.0\n",
      "accuracy: 4.0, completeness: 2.0, fluency: 4.0, conciseness: 4, \n",
      "--\n",
      "Narrative: The lack of odor, crowded gill spacing, and broad gill size suggest the mushroom is less likely to be poisonous.\n",
      "Total Score: 12.0\n",
      "accuracy: 0.0, completeness: 4.0, fluency: 4.0, conciseness: 4, \n",
      "--\n",
      "Total score: 13.0 (accuracy: 2.0, completeness: 3.0, fluency: 4.0, conciseness: 4.0)\n",
      "--\n",
      "Few-shot n: 3\n",
      "Narrative: The foul odor, silky stalk surface, and chocolate spore print color suggest the mushroom more likely to be poisonous.\n",
      "Total Score: 14.0\n",
      "accuracy: 4.0, completeness: 2.0, fluency: 4.0, conciseness: 4, \n",
      "--\n",
      "Narrative: The absence of odor suggests the mushroom is less likely to be poisonous, but the crowded gill spacing and broad gill size indicate a higher risk of toxicity.\n",
      "Total Score: 9.0\n",
      "accuracy: 0.0, completeness: 2.0, fluency: 3.0, conciseness: 4, \n",
      "--\n",
      "Total score: 11.5 (accuracy: 2.0, completeness: 2.0, fluency: 3.5, conciseness: 4.0)\n",
      "--\n",
      "Few-shot n: 5\n",
      "Narrative: The foul odor, silky stalk surface, and chocolate spore print color suggest the mushroom more likely to be poisonous.\n",
      "Total Score: 14.0\n",
      "accuracy: 4.0, completeness: 2.0, fluency: 4.0, conciseness: 4, \n",
      "--\n",
      "Narrative: The absence of odor suggests the mushroom is less likely to be poisonous, but the crowded gill spacing and broad gill size indicate a higher risk of toxicity.\n",
      "Total Score: 9.0\n",
      "accuracy: 0.0, completeness: 2.0, fluency: 3.0, conciseness: 4, \n",
      "--\n",
      "Total score: 11.5 (accuracy: 2.0, completeness: 2.0, fluency: 3.5, conciseness: 4.0)\n",
      "--\n",
      "=====\n",
      "Dataset: pdf_1.json\n",
      "Few-shot n: 1\n",
      "Narrative: The PDF file is more likely to contain malware because it has a larger metadata size (180 KB), a smaller total size (3 KB), and a higher number of streams (1).\n",
      "Total Score: 14.0\n",
      "accuracy: 4.0, completeness: 2.0, fluency: 4.0, conciseness: 4, \n",
      "--\n",
      "Narrative: The PDF file is more likely to contain malware because it has a larger metadata size (358 KB), no Javascript keywords, and a larger total size (63 KB).\n",
      "Total Score: 14.0\n",
      "accuracy: 4.0, completeness: 2.0, fluency: 4.0, conciseness: 4, \n",
      "--\n",
      "Total score: 14.0 (accuracy: 4.0, completeness: 2.0, fluency: 4.0, conciseness: 4.0)\n",
      "--\n",
      "Few-shot n: 3\n",
      "Narrative: The PDF file is more likely to contain malware because it has a larger metadata size (180 KB), a larger total size (3 KB), and a higher number of streams (1).\n",
      "Total Score: 14.0\n",
      "accuracy: 4.0, completeness: 2.0, fluency: 4.0, conciseness: 4, \n",
      "--\n",
      "Narrative: The PDF file is more likely to contain malware because it has a larger metadata size (358 KB), no Javascript keywords, and a larger total size (63 KB).\n",
      "Total Score: 14.0\n",
      "accuracy: 4.0, completeness: 2.0, fluency: 4.0, conciseness: 4, \n",
      "--\n",
      "Total score: 14.0 (accuracy: 4.0, completeness: 2.0, fluency: 4.0, conciseness: 4.0)\n",
      "--\n",
      "Few-shot n: 5\n",
      "Narrative: The PDF file is more likely to contain malware because it has a larger metadata size (180 KB), a larger total size (3 KB), and a higher number of streams.\n",
      "Total Score: 10.0\n",
      "accuracy: 0.0, completeness: 2.0, fluency: 4.0, conciseness: 4, \n",
      "--\n",
      "Narrative: The PDF file is more likely to contain malware because it has a larger metadata size (358 KB), no Javascript keywords, and a larger total size (63 KB).\n",
      "Total Score: 14.0\n",
      "accuracy: 4.0, completeness: 2.0, fluency: 4.0, conciseness: 4, \n",
      "--\n",
      "Total score: 12.0 (accuracy: 2.0, completeness: 2.0, fluency: 4.0, conciseness: 4.0)\n",
      "--\n",
      "=====\n",
      "Dataset: pdf_2.json\n",
      "Few-shot n: 1\n",
      "Narrative: The large metadata size (180 KB), the small total size (3 KB), and the presence of one stream suggest the PDF contains malware.\n",
      "Total Score: 10.0\n",
      "accuracy: 0.0, completeness: 2.0, fluency: 4.0, conciseness: 4, \n",
      "--\n",
      "Narrative: The large metadata size (358 KB), no Javascript keywords, and the large total size (63 KB) suggest the PDF contains malware.\n",
      "Total Score: 10.0\n",
      "accuracy: 0.0, completeness: 2.0, fluency: 4.0, conciseness: 4, \n",
      "--\n",
      "Total score: 10.0 (accuracy: 0.0, completeness: 2.0, fluency: 4.0, conciseness: 4.0)\n",
      "--\n",
      "Few-shot n: 3\n",
      "Narrative: The large metadata size (180 KB), the large total size (3 KB), and the presence of streams suggest the PDF contains malware.\n",
      "Total Score: 10.0\n",
      "accuracy: 0.0, completeness: 2.0, fluency: 4.0, conciseness: 4, \n",
      "--\n",
      "Narrative: The large metadata size (358 KB), no Javascript keywords, and the large total size (63 KB) suggest the PDF contains malware.\n",
      "Total Score: 10.0\n",
      "accuracy: 0.0, completeness: 2.0, fluency: 4.0, conciseness: 4, \n",
      "--\n",
      "Total score: 10.0 (accuracy: 0.0, completeness: 2.0, fluency: 4.0, conciseness: 4.0)\n",
      "--\n",
      "Few-shot n: 5\n",
      "Narrative: The large metadata size (180 KB), small total size (3 KB), and the presence of one stream suggest that the PDF contains malware.\n",
      "Total Score: 10.0\n",
      "accuracy: 0.0, completeness: 2.0, fluency: 4.0, conciseness: 4, \n",
      "--\n",
      "Narrative: The larger metadata size (358 KB), no Javascript keywords, and a larger total size (63 KB) suggest that the PDF contains malware.\n",
      "Total Score: 10.0\n",
      "accuracy: 0.0, completeness: 2.0, fluency: 4.0, conciseness: 4, \n",
      "--\n",
      "Total score: 10.0 (accuracy: 0.0, completeness: 2.0, fluency: 4.0, conciseness: 4.0)\n",
      "--\n",
      "=====\n",
      "Dataset: student_1.json\n",
      "Few-shot n: 1\n",
      "Narrative: The lack of family support and having their mother as a guardian are factors that decrease this student's likelihood of passing. However, not being in a romantic relationship might slightly improve their chances.\n",
      "Total Score: 16.0\n",
      "accuracy: 4.0, completeness: 4.0, fluency: 4.0, conciseness: 4, \n",
      "--\n",
      "Narrative: This student is more likely to pass because they have family support and are not in a romantic relationship, although their frequent outings with friends may slightly reduce their chances.\n",
      "Total Score: 15.0\n",
      "accuracy: 4.0, completeness: 4.0, fluency: 3.0, conciseness: 4, \n",
      "--\n",
      "Total score: 15.5 (accuracy: 4.0, completeness: 4.0, fluency: 3.5, conciseness: 4.0)\n",
      "--\n",
      "Few-shot n: 3\n",
      "Narrative: The absence of family support significantly decreases this student's likelihood of passing. Having a mother as a guardian also slightly reduces their chances. However, not being in a romantic relationship might improve their odds of passing.\n",
      "Total Score: 16.0\n",
      "accuracy: 4.0, completeness: 4.0, fluency: 4.0, conciseness: 4, \n",
      "--\n",
      "Narrative: The student is more likely to pass because they have family support and are not in a romantic relationship. However, frequently going out with friends might slightly decrease their chances.\n",
      "Total Score: 13.0\n",
      "accuracy: 4.0, completeness: 2.0, fluency: 3.0, conciseness: 4, \n",
      "--\n",
      "Total score: 14.5 (accuracy: 4.0, completeness: 3.0, fluency: 3.5, conciseness: 4.0)\n",
      "--\n",
      "Few-shot n: 5\n",
      "Narrative: The lack of family support is a significant concern, and having their mother as a guardian slightly decreases their chances. However, not being in a romantic relationship might help improve their odds of passing.\n",
      "Total Score: 16.0\n",
      "accuracy: 4.0, completeness: 4.0, fluency: 4.0, conciseness: 4, \n",
      "--\n",
      "Narrative: This student is more likely to pass because they have family support and are not in a romantic relationship, although their frequent outings with friends might slightly reduce their chances.\n",
      "Total Score: 15.0\n",
      "accuracy: 4.0, completeness: 4.0, fluency: 3.0, conciseness: 4, \n",
      "--\n",
      "Total score: 15.5 (accuracy: 4.0, completeness: 4.0, fluency: 3.5, conciseness: 4.0)\n",
      "--\n",
      "=====\n",
      "Dataset: student_2.json\n",
      "Few-shot n: 1\n",
      "Narrative: The student's involvement in a romantic relationship, lack of family support, and having their mother as their guardian suggest they are less likely to pass the class.\n",
      "Total Score: 14.0\n",
      "accuracy: 4.0, completeness: 2.0, fluency: 4.0, conciseness: 4, \n",
      "--\n",
      "Narrative: Being in a romantic relationship and the lack of family support suggest the student is less likely to pass. However, having a father as a guardian indicates a higher probability of passing.\n",
      "Total Score: 16.0\n",
      "accuracy: 4.0, completeness: 4.0, fluency: 4.0, conciseness: 4, \n",
      "--\n",
      "Total score: 15.0 (accuracy: 4.0, completeness: 3.0, fluency: 4.0, conciseness: 4.0)\n",
      "--\n",
      "Few-shot n: 3\n",
      "Narrative: Being in a romantic relationship, the lack of family support, and having a mother as a guardian suggest the student is less likely to pass the class.\n",
      "Total Score: 10.0\n",
      "accuracy: 0.0, completeness: 2.0, fluency: 4.0, conciseness: 4, \n",
      "--\n",
      "Narrative: Being in a romantic relationship and the lack of family support suggest the student is less likely to pass. However, having a father as a guardian indicates a higher probability of passing.\n",
      "Total Score: 16.0\n",
      "accuracy: 4.0, completeness: 4.0, fluency: 4.0, conciseness: 4, \n",
      "--\n",
      "Total score: 13.0 (accuracy: 2.0, completeness: 3.0, fluency: 4.0, conciseness: 4.0)\n",
      "--\n",
      "Few-shot n: 5\n",
      "Narrative: Being in a romantic relationship, the lack of family support, and having the mother as a guardian indicate a lower probability of passing.\n",
      "Total Score: 14.0\n",
      "accuracy: 4.0, completeness: 2.0, fluency: 4.0, conciseness: 4, \n",
      "--\n",
      "Narrative: Being in a romantic relationship and the lack of family support suggest the student is less likely to pass the class. However, having the father as the guardian indicates a higher probability of passing.\n",
      "Total Score: 16.0\n",
      "accuracy: 4.0, completeness: 4.0, fluency: 4.0, conciseness: 4, \n",
      "--\n",
      "Total score: 15.0 (accuracy: 4.0, completeness: 3.0, fluency: 4.0, conciseness: 4.0)\n",
      "--\n",
      "=====\n"
     ]
    }
   ],
   "execution_count": 26
  },
  {
   "metadata": {
    "ExecuteTime": {
     "end_time": "2024-08-30T20:08:01.491978Z",
     "start_time": "2024-08-30T20:08:01.485466Z"
    }
   },
   "cell_type": "code",
   "source": [
    "llm.inspect_history(n=1)"
   ],
   "id": "286d0c39728e5956",
   "outputs": [
    {
     "name": "stdout",
     "output_type": "stream",
     "text": [
      "\n",
      "\n",
      "\n",
      "You are helping users understand an ML model's prediction. Given an explanation and information about the model, convert the explanation into a human-readable narrative.\n",
      "---\n",
      "Follow the following format\n",
      "Context: what the model predicts\n",
      "Explanation: explanation of the model's prediction\n",
      "Explanation Format: format the explanation is given in\n",
      "Narrative: human-readable narrative version of the explanation\n",
      "---\n",
      "Example 1\n",
      "Context: The model predicts whether a student will pass their class\n",
      "Explanation: (Family eductional support, no, -1.37), (School, MS, -0.59)\n",
      "Explanation Format: SHAP feature contribution in (feature_name, feature_value, contribution) format\n",
      "Narrative: The lack of family support and attending the MS school indicate a lower probability of passing.\n",
      "Example 2\n",
      "Context: The model predicts whether a student will pass their class\n",
      "Explanation: (Family eductional support, no, -2.26), (In a romantic relationship, no, 1.11), (Sex, M, -0.60)\n",
      "Explanation Format: SHAP feature contribution in (feature_name, feature_value, contribution) format\n",
      "Narrative: The lack of family support, and the sex (male) suggest the student is less likely to pass the class. But, the lack of a romantic relationship indicates an higher probability of passing.\n",
      "Example 3\n",
      "Context: The model predicts whether a student will pass their class\n",
      "Explanation: (Family eductional support, yes, 1.21), (In a romantic relationship, no, 1.12), (Age, 17, -0.45)\n",
      "Explanation Format: SHAP feature contribution in (feature_name, feature_value, contribution) format\n",
      "Narrative: The lack of a romantic relationship and having family support suggest the student is more likely to pass. However, being 17 indicates a lower probability of passing.\n",
      "---\n",
      "Context: The model predicts whether a student will pass their class\n",
      "Explanation: (In a romantic relationship, yes, -1.86), (Student's guardian, father, 1.12), (Family eductional support, no, -1.02)\n",
      "Explanation Format: SHAP feature contribution in (feature_name, feature_value, contribution) format\n",
      "Please provide the output field Narrative. Do so immediately, without additional content before or after, and precisely as the format above shows.\n",
      "\n",
      "Narrative: Being in a romantic relationship and the lack of family support suggest the student is less likely to pass the class. However, having the father as the guardian indicates a higher probability of passing.\n",
      "\n",
      "\n"
     ]
    },
    {
     "data": {
      "text/plain": "\"\\n\\n\\nYou are helping users understand an ML model's prediction. Given an explanation and information about the model, convert the explanation into a human-readable narrative.\\n---\\nFollow the following format\\nContext: what the model predicts\\nExplanation: explanation of the model's prediction\\nExplanation Format: format the explanation is given in\\nNarrative: human-readable narrative version of the explanation\\n---\\nExample 1\\nContext: The model predicts whether a student will pass their class\\nExplanation: (Family eductional support, no, -1.37), (School, MS, -0.59)\\nExplanation Format: SHAP feature contribution in (feature_name, feature_value, contribution) format\\nNarrative: The lack of family support and attending the MS school indicate a lower probability of passing.\\nExample 2\\nContext: The model predicts whether a student will pass their class\\nExplanation: (Family eductional support, no, -2.26), (In a romantic relationship, no, 1.11), (Sex, M, -0.60)\\nExplanation Format: SHAP feature contribution in (feature_name, feature_value, contribution) format\\nNarrative: The lack of family support, and the sex (male) suggest the student is less likely to pass the class. But, the lack of a romantic relationship indicates an higher probability of passing.\\nExample 3\\nContext: The model predicts whether a student will pass their class\\nExplanation: (Family eductional support, yes, 1.21), (In a romantic relationship, no, 1.12), (Age, 17, -0.45)\\nExplanation Format: SHAP feature contribution in (feature_name, feature_value, contribution) format\\nNarrative: The lack of a romantic relationship and having family support suggest the student is more likely to pass. However, being 17 indicates a lower probability of passing.\\n---\\nContext: The model predicts whether a student will pass their class\\nExplanation: (In a romantic relationship, yes, -1.86), (Student's guardian, father, 1.12), (Family eductional support, no, -1.02)\\nExplanation Format: SHAP feature contribution in (feature_name, feature_value, contribution) format\\nPlease provide the output field Narrative. Do so immediately, without additional content before or after, and precisely as the format above shows.\\n\\n\\x1b[32mNarrative: Being in a romantic relationship and the lack of family support suggest the student is less likely to pass the class. However, having the father as the guardian indicates a higher probability of passing.\\x1b[0m\\n\\n\\n\""
     },
     "execution_count": 27,
     "metadata": {},
     "output_type": "execute_result"
    }
   ],
   "execution_count": 27
  },
  {
   "metadata": {},
   "cell_type": "markdown",
   "source": [
    "## Bootstrapped few-shot\n",
    "Next, we repeat the experiment with the addition of 3 examples bootstrapped by DSPy to optimize the evaluation metrics."
   ],
   "id": "6e0ff9cf578f5b7b"
  },
  {
   "cell_type": "code",
   "source": [
    "for dataset in runners:\n",
    "    runner = runners[dataset]\n",
    "    print(f\"Dataset: {dataset}\")\n",
    "    #for i, j in [[0, 1], [0, 3], [3, 3]]:\n",
    "    for i, j in [[3, 3]]:\n",
    "        print(f\"Few-shot n: {i}, Bootstrapped n: {j}\")\n",
    "        scores = runner.run_bootstrap_few_shot_experiment(n_labeled_few_shot=i, n_bootstrapped_few_shot=j, max_iters=2)\n",
    "        update_results(\"bootstrap_few_shot\", dataset, scores, {\"n_few_shot\": i, \"n_bootstrapped_few_shot\": j, \"prompt\": prompts[0]})\n",
    "        pretty_print(scores)\n",
    "        print(\"--\")\n",
    "    print(\"=====\")"
   ],
   "metadata": {
    "collapsed": false,
    "ExecuteTime": {
     "end_time": "2024-08-30T20:12:05.953477Z",
     "start_time": "2024-08-30T20:08:01.492985Z"
    }
   },
   "id": "7bb946a284aff621",
   "outputs": [
    {
     "name": "stdout",
     "output_type": "stream",
     "text": [
      "Dataset: housing_1.json\n",
      "Few-shot n: 3, Bootstrapped n: 3\n"
     ]
    },
    {
     "name": "stderr",
     "output_type": "stream",
     "text": [
      "  0%|          | 0/10 [00:00<?, ?it/s]"
     ]
    },
    {
     "name": "stdout",
     "output_type": "stream",
     "text": [
      "Narrative: The model predicts the house price based on several key features. The above ground living area, which is 1256 square feet, decreases the predicted price by $12,527.46. The overall material and finish rating of the house, which is rated as 5, reduces the price by $10,743.76. The absence of a second floor (0 square feet) further decreases the price by $10,142.29. The house's location within the Edwards neighborhood in Ames city limits lowers the price by $9,913.81. However, the presence of a wood deck area measuring 736 square feet increases the predicted price by $9,846.38.\n",
      "Total Score: 16.0\n",
      "accuracy: 4.0, completeness: 4.0, fluency: 4.0, conciseness: 4, \n",
      "--\n"
     ]
    },
    {
     "name": "stderr",
     "output_type": "stream",
     "text": [
      " 10%|█         | 1/10 [00:00<00:03,  2.77it/s]"
     ]
    },
    {
     "name": "stdout",
     "output_type": "stream",
     "text": [
      "Narrative: The presence of a second floor with 854 square feet increases the predicted house price by about $12,000. The house being relatively new, built in 2003, adds approximately $9,000 to its price. However, the total basement area of 856 square feet reduces the price by about $6,000. Similarly, the first floor area of 856 square feet decreases the price by about $5,000. Lastly, the house's location in the CollgCr neighborhood reduces the price by about $5,000.\n",
      "Total Score: 16.0\n",
      "accuracy: 4.0, completeness: 4.0, fluency: 4.0, conciseness: 4, \n",
      "--\n"
     ]
    },
    {
     "name": "stderr",
     "output_type": "stream",
     "text": [
      " 20%|██        | 2/10 [00:00<00:02,  3.22it/s]"
     ]
    },
    {
     "name": "stdout",
     "output_type": "stream",
     "text": [
      "Narrative: The presence of walkout or garden level walls increases the predicted price by about $17,000. The house's overall good condition rating also adds about $13,000 to the price. However, the relatively smaller above ground living space reduces the price by about $12,000. The absence of a second floor further reduces the price by about $10,000. Additionally, the house's proximity to certain conditions reduces the price by about $8,000.\n",
      "Total Score: 16.0\n",
      "accuracy: 4.0, completeness: 4.0, fluency: 4.0, conciseness: 4, \n",
      "--\n"
     ]
    },
    {
     "name": "stderr",
     "output_type": "stream",
     "text": [
      " 30%|███       | 3/10 [00:00<00:02,  3.20it/s]\n"
     ]
    },
    {
     "name": "stdout",
     "output_type": "stream",
     "text": [
      "Bootstrapped 3 full traces after 4 examples in round 0.\n",
      "Narrative: The house's location in the NoRidge neighborhood increases the predicted price by about $23,000. The above ground living area of 2,198 square feet adds approximately $20,000 to the price. The presence of a second floor with 1,053 square feet further increases the price by about $18,000. The overall material and finish rating of the house, which is rated as 8, adds about $9,000 to the price. Lastly, the house being relatively new, built in the year 2000, contributes an additional $8,000 to the predicted price.\n",
      "Total Score: 16.0\n",
      "accuracy: 4.0, completeness: 4.0, fluency: 4.0, conciseness: 4, \n",
      "--\n"
     ]
    },
    {
     "name": "stderr",
     "output_type": "stream",
     "text": [
      "  0%|          | 0/10 [00:00<?, ?it/s]"
     ]
    },
    {
     "name": "stdout",
     "output_type": "stream",
     "text": [
      "Narrative: The model predicts the house price based on several key features. The above ground living area, which is 1256 square feet, decreases the predicted price by $12,527.46. The overall material and finish rating of the house, which is rated as 5, reduces the price by $10,743.76. The absence of a second floor (0 square feet) further decreases the price by $10,142.29. The house's location within the Edwards neighborhood in Ames city limits lowers the price by $9,913.81. However, the presence of a wood deck area measuring 736 square feet increases the predicted price by $9,846.38.\n",
      "Total Score: 16.0\n",
      "accuracy: 4.0, completeness: 4.0, fluency: 4.0, conciseness: 4, \n",
      "--\n",
      "Narrative: The presence of a second floor with 854 square feet increases the predicted house price by about $12,000. The house being relatively new, built in 2003, adds approximately $9,000 to its price. However, the total basement area of 856 square feet reduces the price by about $6,000. Similarly, the first floor area of 856 square feet decreases the price by about $5,000. Lastly, the house's location in the CollgCr neighborhood reduces the price by about $5,000.\n",
      "Total Score: 16.0\n",
      "accuracy: 4.0, completeness: 4.0, fluency: 4.0, conciseness: 4, \n",
      "--\n",
      "Narrative: The presence of walkout or garden level walls increases the predicted price by about $17,000. The house's overall good condition rating also adds about $13,000 to the price. However, the relatively smaller above ground living space reduces the price by about $12,000. The absence of a second floor further reduces the price by about $10,000. Additionally, the house's proximity to certain conditions reduces the price by about $8,000.\n",
      "Total Score: 16.0\n",
      "accuracy: 4.0, completeness: 4.0, fluency: 4.0, conciseness: 4, \n",
      "--\n"
     ]
    },
    {
     "name": "stderr",
     "output_type": "stream",
     "text": [
      " 30%|███       | 3/10 [00:00<00:00, 112.92it/s]\n"
     ]
    },
    {
     "name": "stdout",
     "output_type": "stream",
     "text": [
      "Bootstrapped 3 full traces after 4 examples in round 0.\n",
      "Narrative: The type of foundation being wood decreases the predicted house price by about $18,000. The house's location within the Mitchel neighborhood reduces the price by about $13,000. The overall material and finish rating of the house, which is rated as 5, further decreases the price by about $10,000. However, the presence of a three-season porch area measuring 320 square feet increases the predicted price by about $10,000. Additionally, having one bedroom above ground adds about $9,000 to the price.\n",
      "Total Score: 16.0\n",
      "accuracy: 4.0, completeness: 4.0, fluency: 4.0, conciseness: 4, \n",
      "--\n",
      "Total score: 16.0 (accuracy: 4.0, completeness: 4.0, fluency: 4.0, conciseness: 4.0)\n",
      "--\n",
      "=====\n",
      "Dataset: housing_2.json\n",
      "Few-shot n: 3, Bootstrapped n: 3\n"
     ]
    },
    {
     "name": "stderr",
     "output_type": "stream",
     "text": [
      "  0%|          | 0/10 [00:00<?, ?it/s]"
     ]
    },
    {
     "name": "stdout",
     "output_type": "stream",
     "text": [
      "Narrative: The model predicts the house price based on several key features. The above ground living area, which is 1256 square feet, decreases the predicted price by $12,527.46. The overall material and finish rating of the house, which is rated as 5, reduces the price by $10,743.76. The absence of a second floor (0 square feet) further decreases the price by $10,142.29. The house's location within the Edwards neighborhood in Ames city limits lowers the price by $9,913.81. However, the presence of a wood deck area measuring 736 square feet increases the predicted price by $9,846.38.\n",
      "Total Score: 15.0\n",
      "accuracy: 4.0, completeness: 4.0, fluency: 3.0, conciseness: 4, \n",
      "--\n"
     ]
    },
    {
     "name": "stderr",
     "output_type": "stream",
     "text": [
      " 10%|█         | 1/10 [00:00<00:05,  1.56it/s]"
     ]
    },
    {
     "name": "stdout",
     "output_type": "stream",
     "text": [
      "Narrative: The SHAP value indicates that the house price increases because the second floor is 854 sq ft and the house was originally constructed in 2003. However, the price decreases due to the basement area being 856 sq ft, the first floor being 856 sq ft, and the location being CollgCr.\n",
      "Total Score: 16.0\n",
      "accuracy: 4.0, completeness: 4.0, fluency: 4.0, conciseness: 4, \n",
      "--\n"
     ]
    },
    {
     "name": "stderr",
     "output_type": "stream",
     "text": [
      " 20%|██        | 2/10 [00:04<00:18,  2.30s/it]"
     ]
    },
    {
     "name": "stdout",
     "output_type": "stream",
     "text": [
      "Narrative: The SHAP value indicates that the house price increases because it has walkout or garden level walls rated as 'Gd' and the overall condition of the house is rated 8. However, the price decreases due to the above ground living area being 1262 sq ft, the absence of a second floor, and its proximity to feeder roads.\n",
      "Total Score: 16.0\n",
      "accuracy: 4.0, completeness: 4.0, fluency: 4.0, conciseness: 4, \n",
      "--\n"
     ]
    },
    {
     "name": "stderr",
     "output_type": "stream",
     "text": [
      " 30%|███       | 3/10 [00:08<00:23,  3.33s/it]"
     ]
    },
    {
     "name": "stdout",
     "output_type": "stream",
     "text": [
      "Narrative: The SHAP value indicates that the house price increases because the second floor is 866 sq ft, the house was originally constructed in 2001, and the above ground living area is 1786 sq ft. However, the price decreases due to the location being CollgCr and the basement area being 920 sq ft.\n",
      "Total Score: 16.0\n",
      "accuracy: 4.0, completeness: 4.0, fluency: 4.0, conciseness: 4, \n",
      "--\n"
     ]
    },
    {
     "name": "stderr",
     "output_type": "stream",
     "text": [
      " 40%|████      | 4/10 [00:14<00:21,  3.59s/it]\n"
     ]
    },
    {
     "name": "stdout",
     "output_type": "stream",
     "text": [
      "Bootstrapped 3 full traces after 5 examples in round 0.\n",
      "Narrative: The SHAP value indicates that the house price increases because the location is NoRidge, the above ground living area is 2198 sq ft, the second floor is 1053 sq ft, the overall material and finish of the house is rated 8, and the house was originally constructed in 2000.\n",
      "Total Score: 16.0\n",
      "accuracy: 4.0, completeness: 4.0, fluency: 4.0, conciseness: 4, \n",
      "--\n"
     ]
    },
    {
     "name": "stderr",
     "output_type": "stream",
     "text": [
      "  0%|          | 0/10 [00:00<?, ?it/s]"
     ]
    },
    {
     "name": "stdout",
     "output_type": "stream",
     "text": [
      "Narrative: The model predicts the house price based on several key features. The above ground living area, which is 1256 square feet, decreases the predicted price by $12,527.46. The overall material and finish rating of the house, which is rated as 5, reduces the price by $10,743.76. The absence of a second floor (0 square feet) further decreases the price by $10,142.29. The house's location within the Edwards neighborhood in Ames city limits lowers the price by $9,913.81. However, the presence of a wood deck area measuring 736 square feet increases the predicted price by $9,846.38.\n",
      "Total Score: 15.0\n",
      "accuracy: 4.0, completeness: 4.0, fluency: 3.0, conciseness: 4, \n",
      "--\n",
      "Narrative: The SHAP value indicates that the house price increases because the second floor is 854 sq ft and the house was originally constructed in 2003. However, the price decreases due to the basement area being 856 sq ft, the first floor being 856 sq ft, and the location being CollgCr.\n",
      "Total Score: 16.0\n",
      "accuracy: 4.0, completeness: 4.0, fluency: 4.0, conciseness: 4, \n",
      "--\n",
      "Narrative: The SHAP value indicates that the house price increases because it has walkout or garden level walls rated as 'Gd' and the overall condition of the house is rated 8. However, the price decreases due to the above ground living area being 1262 sq ft, the absence of a second floor, and its proximity to feeder roads.\n",
      "Total Score: 16.0\n",
      "accuracy: 4.0, completeness: 4.0, fluency: 4.0, conciseness: 4, \n",
      "--\n",
      "Narrative: The SHAP value indicates that the house price increases because the second floor is 866 sq ft, the house was originally constructed in 2001, and the above ground living area is 1786 sq ft. However, the price decreases due to the location being CollgCr and the basement area being 920 sq ft.\n",
      "Total Score: 16.0\n",
      "accuracy: 4.0, completeness: 4.0, fluency: 4.0, conciseness: 4, \n",
      "--\n"
     ]
    },
    {
     "name": "stderr",
     "output_type": "stream",
     "text": [
      " 40%|████      | 4/10 [00:00<00:00, 110.90it/s]\n"
     ]
    },
    {
     "name": "stdout",
     "output_type": "stream",
     "text": [
      "Bootstrapped 3 full traces after 5 examples in round 0.\n",
      "Narrative: The SHAP value indicates that the house price decreases because the foundation is made of wood, the location is Mitchel, and the overall material and finish of the house is rated 5. However, the price increases due to having a three season porch area of 320 sq ft and having 1 bedroom above ground.\n",
      "Total Score: 16.0\n",
      "accuracy: 4.0, completeness: 4.0, fluency: 4.0, conciseness: 4, \n",
      "--\n",
      "Total score: 16.0 (accuracy: 4.0, completeness: 4.0, fluency: 4.0, conciseness: 4.0)\n",
      "--\n",
      "=====\n",
      "Dataset: housing_3.json\n",
      "Few-shot n: 3, Bootstrapped n: 3\n"
     ]
    },
    {
     "name": "stderr",
     "output_type": "stream",
     "text": [
      "  0%|          | 0/10 [00:00<?, ?it/s]"
     ]
    },
    {
     "name": "stdout",
     "output_type": "stream",
     "text": [
      "Narrative: The model predicts the house price based on several key features. The above ground living area, which is 1256 square feet, decreases the predicted price by $12,527.46. The overall material and finish rating of the house, which is rated as 5, reduces the price by $10,743.76. The absence of a second floor (0 square feet) further decreases the price by $10,142.29. The house's location within the Edwards neighborhood in Ames city limits lowers the price by $9,913.81. However, the presence of a wood deck area measuring 736 square feet increases the predicted price by $9,846.38.\n",
      "Total Score: 16.0\n",
      "accuracy: 4.0, completeness: 4.0, fluency: 4.0, conciseness: 4, \n",
      "--\n"
     ]
    },
    {
     "name": "stderr",
     "output_type": "stream",
     "text": [
      " 10%|█         | 1/10 [00:00<00:02,  3.07it/s]"
     ]
    },
    {
     "name": "stdout",
     "output_type": "stream",
     "text": [
      "Narrative: This house is more expensive because it has a second floor (size=854) and was built more recently (year=2003). However, it is cheaper due to a smaller basement (size=856), smaller first floor (size=856), and its location in CollgCr.\n",
      "Total Score: 16.0\n",
      "accuracy: 4.0, completeness: 4.0, fluency: 4.0, conciseness: 4, \n",
      "--\n"
     ]
    },
    {
     "name": "stderr",
     "output_type": "stream",
     "text": [
      " 20%|██        | 2/10 [00:04<00:18,  2.36s/it]"
     ]
    },
    {
     "name": "stdout",
     "output_type": "stream",
     "text": [
      "Narrative: This house is more expensive because it has garden level walls (type=Gd) and is in good overall condition (rating=8). However, it is cheaper due to having less above ground living space (size=1262), no second floor (size=0), and being close to feeder roads.\n",
      "Total Score: 16.0\n",
      "accuracy: 4.0, completeness: 4.0, fluency: 4.0, conciseness: 4, \n",
      "--\n"
     ]
    },
    {
     "name": "stderr",
     "output_type": "stream",
     "text": [
      " 30%|███       | 3/10 [00:09<00:22,  3.23s/it]\n"
     ]
    },
    {
     "name": "stdout",
     "output_type": "stream",
     "text": [
      "Bootstrapped 3 full traces after 4 examples in round 0.\n",
      "Narrative: This house is more expensive because it is located in the NoRidge neighborhood, has a large above ground living area (size=2198), and includes a second floor (size=1053). Additionally, the house has a high overall material and finish rating (rating=8) and was built relatively recently (year=2000).\n",
      "Total Score: 14.0\n",
      "accuracy: 4.0, completeness: 2.0, fluency: 4.0, conciseness: 4, \n",
      "--\n"
     ]
    },
    {
     "name": "stderr",
     "output_type": "stream",
     "text": [
      "  0%|          | 0/10 [00:00<?, ?it/s]"
     ]
    },
    {
     "name": "stdout",
     "output_type": "stream",
     "text": [
      "Narrative: The model predicts the house price based on several key features. The above ground living area, which is 1256 square feet, decreases the predicted price by $12,527.46. The overall material and finish rating of the house, which is rated as 5, reduces the price by $10,743.76. The absence of a second floor (0 square feet) further decreases the price by $10,142.29. The house's location within the Edwards neighborhood in Ames city limits lowers the price by $9,913.81. However, the presence of a wood deck area measuring 736 square feet increases the predicted price by $9,846.38.\n",
      "Total Score: 16.0\n",
      "accuracy: 4.0, completeness: 4.0, fluency: 4.0, conciseness: 4, \n",
      "--\n",
      "Narrative: This house is more expensive because it has a second floor (size=854) and was built more recently (year=2003). However, it is cheaper due to a smaller basement (size=856), smaller first floor (size=856), and its location in CollgCr.\n",
      "Total Score: 16.0\n",
      "accuracy: 4.0, completeness: 4.0, fluency: 4.0, conciseness: 4, \n",
      "--\n",
      "Narrative: This house is more expensive because it has garden level walls (type=Gd) and is in good overall condition (rating=8). However, it is cheaper due to having less above ground living space (size=1262), no second floor (size=0), and being close to feeder roads.\n",
      "Total Score: 16.0\n",
      "accuracy: 4.0, completeness: 4.0, fluency: 4.0, conciseness: 4, \n",
      "--\n"
     ]
    },
    {
     "name": "stderr",
     "output_type": "stream",
     "text": [
      " 30%|███       | 3/10 [00:00<00:00, 114.37it/s]\n"
     ]
    },
    {
     "name": "stdout",
     "output_type": "stream",
     "text": [
      "Bootstrapped 3 full traces after 4 examples in round 0.\n",
      "Narrative: This house is cheaper because it has a wood foundation, is located in the Mitchel neighborhood, and has an overall material and finish rating of 5. However, it is more expensive due to having a three-season porch (size=320) and one bedroom above ground.\n",
      "Total Score: 16.0\n",
      "accuracy: 4.0, completeness: 4.0, fluency: 4.0, conciseness: 4, \n",
      "--\n",
      "Total score: 15.0 (accuracy: 4.0, completeness: 3.0, fluency: 4.0, conciseness: 4.0)\n",
      "--\n",
      "=====\n",
      "Dataset: mushroom_1.json\n",
      "Few-shot n: 3, Bootstrapped n: 3\n"
     ]
    },
    {
     "name": "stderr",
     "output_type": "stream",
     "text": [
      "  0%|          | 0/10 [00:00<?, ?it/s]"
     ]
    },
    {
     "name": "stdout",
     "output_type": "stream",
     "text": [
      "Narrative: The model predicts that the mushroom is poisonous primarily because it has a foul odor, which contributes significantly to the prediction. Additionally, the silky texture of the stalk surface above the ring and the chocolate color of the spore print also play smaller roles in the model's decision.\n",
      "Total Score: 15.0\n",
      "accuracy: 4.0, completeness: 4.0, fluency: 3.0, conciseness: 4, \n",
      "--\n"
     ]
    },
    {
     "name": "stderr",
     "output_type": "stream",
     "text": [
      " 10%|█         | 1/10 [00:04<00:36,  4.01s/it]"
     ]
    },
    {
     "name": "stdout",
     "output_type": "stream",
     "text": [
      "Narrative: This mushroom is more likely to be poisonous because its foul odor, silky stalk surface, and chocolate spore print color. Be careful!\n",
      "Total Score: 16.0\n",
      "accuracy: 4.0, completeness: 4.0, fluency: 4.0, conciseness: 4, \n",
      "--\n"
     ]
    },
    {
     "name": "stderr",
     "output_type": "stream",
     "text": [
      " 20%|██        | 2/10 [00:07<00:28,  3.54s/it]"
     ]
    },
    {
     "name": "stdout",
     "output_type": "stream",
     "text": [
      "Narrative: This mushroom is less likely to be poisonous because it has no odor and broad gills, although its brown spore print color slightly increases the risk. Stay cautious!\n",
      "Total Score: 16.0\n",
      "accuracy: 4.0, completeness: 4.0, fluency: 4.0, conciseness: 4, \n",
      "--\n"
     ]
    },
    {
     "name": "stderr",
     "output_type": "stream",
     "text": [
      " 30%|███       | 3/10 [00:10<00:24,  3.54s/it]"
     ]
    },
    {
     "name": "stdout",
     "output_type": "stream",
     "text": [
      "Narrative: This mushroom is less likely to be poisonous because it has no odor, broad gills, and a black spore print color. Enjoy!\n",
      "Total Score: 9.0\n",
      "accuracy: 0.0, completeness: 2.0, fluency: 3.0, conciseness: 4, \n",
      "--\n"
     ]
    },
    {
     "name": "stderr",
     "output_type": "stream",
     "text": [
      " 40%|████      | 4/10 [00:13<00:20,  3.39s/it]"
     ]
    },
    {
     "name": "stdout",
     "output_type": "stream",
     "text": [
      "Narrative: This mushroom is less likely to be poisonous because it has no odor, broad gill size, and black spore print color. Enjoy!\n",
      "Total Score: 13.0\n",
      "accuracy: 4.0, completeness: 2.0, fluency: 3.0, conciseness: 4, \n",
      "--\n"
     ]
    },
    {
     "name": "stderr",
     "output_type": "stream",
     "text": [
      " 50%|█████     | 5/10 [00:16<00:15,  3.03s/it]"
     ]
    },
    {
     "name": "stdout",
     "output_type": "stream",
     "text": [
      "Narrative: This mushroom is more likely to be poisonous because its foul odor, silky stalk surface, and chocolate spore print color. Be careful!\n",
      "Total Score: 14.0\n",
      "accuracy: 4.0, completeness: 2.0, fluency: 4.0, conciseness: 4, \n",
      "--\n"
     ]
    },
    {
     "name": "stderr",
     "output_type": "stream",
     "text": [
      " 60%|██████    | 6/10 [00:18<00:11,  2.83s/it]"
     ]
    },
    {
     "name": "stdout",
     "output_type": "stream",
     "text": [
      "Narrative: This mushroom is more likely to be poisonous because its foul odor, buff gill color, and narrow gill size. Be careful!\n",
      "Total Score: 16.0\n",
      "accuracy: 4.0, completeness: 4.0, fluency: 4.0, conciseness: 4, \n",
      "--\n"
     ]
    },
    {
     "name": "stderr",
     "output_type": "stream",
     "text": [
      " 70%|███████   | 7/10 [00:21<00:09,  3.10s/it]\n"
     ]
    },
    {
     "name": "stdout",
     "output_type": "stream",
     "text": [
      "Bootstrapped 3 full traces after 8 examples in round 0.\n",
      "Narrative: This mushroom is more likely to be poisonous because its foul odor, silky stalk surface, and chocolate spore print color. Be careful!\n",
      "Total Score: 14.0\n",
      "accuracy: 4.0, completeness: 2.0, fluency: 4.0, conciseness: 4, \n",
      "--\n"
     ]
    },
    {
     "name": "stderr",
     "output_type": "stream",
     "text": [
      "  0%|          | 0/10 [00:00<?, ?it/s]"
     ]
    },
    {
     "name": "stdout",
     "output_type": "stream",
     "text": [
      "Narrative: The model predicts that the mushroom is poisonous primarily because it has a foul odor, which contributes significantly to the prediction. Additionally, the silky texture of the stalk surface above the ring and the chocolate color of the spore print also play smaller roles in the model's decision.\n",
      "Total Score: 15.0\n",
      "accuracy: 4.0, completeness: 4.0, fluency: 3.0, conciseness: 4, \n",
      "--\n",
      "Narrative: This mushroom is more likely to be poisonous because its foul odor, silky stalk surface, and chocolate spore print color. Be careful!\n",
      "Total Score: 16.0\n",
      "accuracy: 4.0, completeness: 4.0, fluency: 4.0, conciseness: 4, \n",
      "--\n",
      "Narrative: This mushroom is less likely to be poisonous because it has no odor and broad gills, although its brown spore print color slightly increases the risk. Stay cautious!\n",
      "Total Score: 16.0\n",
      "accuracy: 4.0, completeness: 4.0, fluency: 4.0, conciseness: 4, \n",
      "--\n",
      "Narrative: This mushroom is less likely to be poisonous because it has no odor, broad gills, and a black spore print color. Enjoy!\n",
      "Total Score: 9.0\n",
      "accuracy: 0.0, completeness: 2.0, fluency: 3.0, conciseness: 4, \n",
      "--\n",
      "Narrative: This mushroom is less likely to be poisonous because it has no odor, broad gill size, and black spore print color. Enjoy!\n",
      "Total Score: 13.0\n",
      "accuracy: 4.0, completeness: 2.0, fluency: 3.0, conciseness: 4, \n",
      "--\n",
      "Narrative: This mushroom is more likely to be poisonous because its foul odor, silky stalk surface, and chocolate spore print color. Be careful!\n",
      "Total Score: 14.0\n",
      "accuracy: 4.0, completeness: 2.0, fluency: 4.0, conciseness: 4, \n",
      "--\n",
      "Narrative: This mushroom is more likely to be poisonous because its foul odor, buff gill color, and narrow gill size. Be careful!\n",
      "Total Score: 16.0\n",
      "accuracy: 4.0, completeness: 4.0, fluency: 4.0, conciseness: 4, \n",
      "--\n"
     ]
    },
    {
     "name": "stderr",
     "output_type": "stream",
     "text": [
      " 70%|███████   | 7/10 [00:00<00:00, 109.17it/s]\n"
     ]
    },
    {
     "name": "stdout",
     "output_type": "stream",
     "text": [
      "Bootstrapped 3 full traces after 8 examples in round 0.\n",
      "Narrative: This mushroom is less likely to be poisonous because it has no odor and broad gills, although its crowded gill spacing slightly increases the risk. Stay cautious!\n",
      "Total Score: 15.0\n",
      "accuracy: 4.0, completeness: 4.0, fluency: 3.0, conciseness: 4, \n",
      "--\n",
      "Total score: 14.5 (accuracy: 4.0, completeness: 3.0, fluency: 3.5, conciseness: 4.0)\n",
      "--\n",
      "=====\n",
      "Dataset: mushroom_2.json\n",
      "Few-shot n: 3, Bootstrapped n: 3\n"
     ]
    },
    {
     "name": "stderr",
     "output_type": "stream",
     "text": [
      "  0%|          | 0/10 [00:00<?, ?it/s]"
     ]
    },
    {
     "name": "stdout",
     "output_type": "stream",
     "text": [
      "Narrative: The model predicts that the mushroom is poisonous primarily because it has a foul odor, which contributes significantly to the prediction. Additionally, the silky texture of the stalk surface above the ring and the chocolate color of the spore print also play smaller roles in the model's decision.\n",
      "Total Score: 15.0\n",
      "accuracy: 4.0, completeness: 4.0, fluency: 3.0, conciseness: 4, \n",
      "--\n"
     ]
    },
    {
     "name": "stderr",
     "output_type": "stream",
     "text": [
      " 10%|█         | 1/10 [00:00<00:02,  3.10it/s]"
     ]
    },
    {
     "name": "stdout",
     "output_type": "stream",
     "text": [
      "Narrative: The foul odor, silky stalk surface, and chocolate spore print color suggest the mushroom more likely to be poisonous.\n",
      "Total Score: 14.0\n",
      "accuracy: 4.0, completeness: 2.0, fluency: 4.0, conciseness: 4, \n",
      "--\n"
     ]
    },
    {
     "name": "stderr",
     "output_type": "stream",
     "text": [
      " 20%|██        | 2/10 [00:03<00:16,  2.04s/it]"
     ]
    },
    {
     "name": "stdout",
     "output_type": "stream",
     "text": [
      "Narrative: The lack of odor, broad gill size, and brown spore print color suggest the mushroom is less likely to be poisonous.\n",
      "Total Score: 10.0\n",
      "accuracy: 0.0, completeness: 2.0, fluency: 4.0, conciseness: 4, \n",
      "--\n"
     ]
    },
    {
     "name": "stderr",
     "output_type": "stream",
     "text": [
      " 30%|███       | 3/10 [00:07<00:21,  3.00s/it]"
     ]
    },
    {
     "name": "stdout",
     "output_type": "stream",
     "text": [
      "Narrative: The absence of odor, broad gill size, and black spore print color suggest the mushroom is less likely to be poisonous.\n",
      "Total Score: 14.0\n",
      "accuracy: 4.0, completeness: 2.0, fluency: 4.0, conciseness: 4, \n",
      "--\n"
     ]
    },
    {
     "name": "stderr",
     "output_type": "stream",
     "text": [
      " 40%|████      | 4/10 [00:11<00:19,  3.32s/it]"
     ]
    },
    {
     "name": "stdout",
     "output_type": "stream",
     "text": [
      "Narrative: The lack of odor, broad gill size, and black spore print color suggest the mushroom is less likely to be poisonous.\n",
      "Total Score: 14.0\n",
      "accuracy: 4.0, completeness: 2.0, fluency: 4.0, conciseness: 4, \n",
      "--\n"
     ]
    },
    {
     "name": "stderr",
     "output_type": "stream",
     "text": [
      " 50%|█████     | 5/10 [00:15<00:17,  3.59s/it]"
     ]
    },
    {
     "name": "stdout",
     "output_type": "stream",
     "text": [
      "Narrative: The foul odor, silky stalk surface, and chocolate spore print color suggest the mushroom more likely to be poisonous.\n",
      "Total Score: 14.0\n",
      "accuracy: 4.0, completeness: 2.0, fluency: 4.0, conciseness: 4, \n",
      "--\n"
     ]
    },
    {
     "name": "stderr",
     "output_type": "stream",
     "text": [
      " 60%|██████    | 6/10 [00:18<00:13,  3.40s/it]"
     ]
    },
    {
     "name": "stdout",
     "output_type": "stream",
     "text": [
      "Narrative: The foul odor, buff gill color, and narrow gill size suggest the mushroom more likely to be poisonous.\n",
      "Total Score: 14.0\n",
      "accuracy: 4.0, completeness: 2.0, fluency: 4.0, conciseness: 4, \n",
      "--\n"
     ]
    },
    {
     "name": "stderr",
     "output_type": "stream",
     "text": [
      " 70%|███████   | 7/10 [00:21<00:09,  3.19s/it]"
     ]
    },
    {
     "name": "stdout",
     "output_type": "stream",
     "text": [
      "Narrative: The foul odor, narrow gill size, and buff gill color suggest the mushroom more likely to be poisonous.\n",
      "Total Score: 14.0\n",
      "accuracy: 4.0, completeness: 2.0, fluency: 4.0, conciseness: 4, \n",
      "--\n"
     ]
    },
    {
     "name": "stderr",
     "output_type": "stream",
     "text": [
      " 80%|████████  | 8/10 [00:23<00:05,  2.95s/it]"
     ]
    },
    {
     "name": "stdout",
     "output_type": "stream",
     "text": [
      "Narrative: The narrow gill size, fishy odor, and buff gill color suggest the mushroom more likely to be poisonous.\n",
      "Total Score: 14.0\n",
      "accuracy: 4.0, completeness: 2.0, fluency: 4.0, conciseness: 4, \n",
      "--\n"
     ]
    },
    {
     "name": "stderr",
     "output_type": "stream",
     "text": [
      " 90%|█████████ | 9/10 [00:26<00:02,  2.83s/it]"
     ]
    },
    {
     "name": "stdout",
     "output_type": "stream",
     "text": [
      "Narrative: The lack of odor, crowded gill spacing, and broad gill size suggest the mushroom is more likely to be poisonous.\n",
      "Total Score: 11.0\n",
      "accuracy: 0.0, completeness: 4.0, fluency: 3.0, conciseness: 4, \n",
      "--\n"
     ]
    },
    {
     "name": "stderr",
     "output_type": "stream",
     "text": [
      "100%|██████████| 10/10 [00:29<00:00,  2.96s/it]\n"
     ]
    },
    {
     "name": "stdout",
     "output_type": "stream",
     "text": [
      "Bootstrapped 0 full traces after 10 examples in round 0.\n",
      "Narrative: The foul odor and silky stalk surface above the ring suggest the mushroom is more likely to be poisonous, and the chocolate spore print further increases the risk of toxicity.\n",
      "Total Score: 12.0\n",
      "accuracy: 0.0, completeness: 4.0, fluency: 4.0, conciseness: 4, \n",
      "--\n"
     ]
    },
    {
     "name": "stderr",
     "output_type": "stream",
     "text": [
      "  0%|          | 0/10 [00:00<?, ?it/s]"
     ]
    },
    {
     "name": "stdout",
     "output_type": "stream",
     "text": [
      "Narrative: The model predicts that the mushroom is poisonous primarily because it has a foul odor, which contributes significantly to the prediction. Additionally, the silky texture of the stalk surface above the ring and the chocolate color of the spore print also play smaller roles in the model's decision.\n",
      "Total Score: 15.0\n",
      "accuracy: 4.0, completeness: 4.0, fluency: 3.0, conciseness: 4, \n",
      "--\n",
      "Narrative: The foul odor, silky stalk surface, and chocolate spore print color suggest the mushroom more likely to be poisonous.\n",
      "Total Score: 14.0\n",
      "accuracy: 4.0, completeness: 2.0, fluency: 4.0, conciseness: 4, \n",
      "--\n",
      "Narrative: The lack of odor, broad gill size, and brown spore print color suggest the mushroom is less likely to be poisonous.\n",
      "Total Score: 10.0\n",
      "accuracy: 0.0, completeness: 2.0, fluency: 4.0, conciseness: 4, \n",
      "--\n",
      "Narrative: The absence of odor, broad gill size, and black spore print color suggest the mushroom is less likely to be poisonous.\n",
      "Total Score: 14.0\n",
      "accuracy: 4.0, completeness: 2.0, fluency: 4.0, conciseness: 4, \n",
      "--\n",
      "Narrative: The lack of odor, broad gill size, and black spore print color suggest the mushroom is less likely to be poisonous.\n",
      "Total Score: 14.0\n",
      "accuracy: 4.0, completeness: 2.0, fluency: 4.0, conciseness: 4, \n",
      "--\n",
      "Narrative: The foul odor, silky stalk surface, and chocolate spore print color suggest the mushroom more likely to be poisonous.\n",
      "Total Score: 14.0\n",
      "accuracy: 4.0, completeness: 2.0, fluency: 4.0, conciseness: 4, \n",
      "--\n",
      "Narrative: The foul odor, buff gill color, and narrow gill size suggest the mushroom more likely to be poisonous.\n",
      "Total Score: 14.0\n",
      "accuracy: 4.0, completeness: 2.0, fluency: 4.0, conciseness: 4, \n",
      "--\n",
      "Narrative: The foul odor, narrow gill size, and buff gill color suggest the mushroom more likely to be poisonous.\n",
      "Total Score: 14.0\n",
      "accuracy: 4.0, completeness: 2.0, fluency: 4.0, conciseness: 4, \n",
      "--\n",
      "Narrative: The narrow gill size, fishy odor, and buff gill color suggest the mushroom more likely to be poisonous.\n",
      "Total Score: 14.0\n",
      "accuracy: 4.0, completeness: 2.0, fluency: 4.0, conciseness: 4, \n",
      "--\n",
      "Narrative: The lack of odor, crowded gill spacing, and broad gill size suggest the mushroom is more likely to be poisonous.\n",
      "Total Score: 11.0\n",
      "accuracy: 0.0, completeness: 4.0, fluency: 3.0, conciseness: 4, \n",
      "--\n"
     ]
    },
    {
     "name": "stderr",
     "output_type": "stream",
     "text": [
      "100%|██████████| 10/10 [00:00<00:00, 115.95it/s]\n"
     ]
    },
    {
     "name": "stdout",
     "output_type": "stream",
     "text": [
      "Bootstrapped 0 full traces after 10 examples in round 0.\n",
      "Narrative: The absence of odor suggests the mushroom is less likely to be poisonous, but the crowded gill spacing and broad gill size indicate a higher risk of toxicity.\n",
      "Total Score: 9.0\n",
      "accuracy: 0.0, completeness: 2.0, fluency: 3.0, conciseness: 4, \n",
      "--\n",
      "Total score: 10.5 (accuracy: 0.0, completeness: 3.0, fluency: 3.5, conciseness: 4.0)\n",
      "--\n",
      "=====\n",
      "Dataset: pdf_1.json\n",
      "Few-shot n: 3, Bootstrapped n: 3\n"
     ]
    },
    {
     "name": "stderr",
     "output_type": "stream",
     "text": [
      "  0%|          | 0/10 [00:00<?, ?it/s]"
     ]
    },
    {
     "name": "stdout",
     "output_type": "stream",
     "text": [
      "Narrative: The model predicts that the PDF file contains malware based on several key factors. Firstly, the size of the metadata is 262.0 KB, which significantly contributes to the prediction. Secondly, the total size of the file is 74.0 KB, which also plays an important role. Lastly, the absence of Javascript keywords, with a count of 0.0, further supports the model's prediction.\n",
      "Total Score: 16.0\n",
      "accuracy: 4.0, completeness: 4.0, fluency: 4.0, conciseness: 4, \n",
      "--\n"
     ]
    },
    {
     "name": "stderr",
     "output_type": "stream",
     "text": [
      " 10%|█         | 1/10 [00:03<00:28,  3.21s/it]"
     ]
    },
    {
     "name": "stdout",
     "output_type": "stream",
     "text": [
      "Narrative: The PDF file is less likely to contain malware because it has fewer objects (-1), fewer keywords that denote the end of streams (-1), and fewer streams (sequences of binary data) (-1).\n",
      "Total Score: 11.0\n",
      "accuracy: 0.0, completeness: 4.0, fluency: 3.0, conciseness: 4, \n",
      "--\n"
     ]
    },
    {
     "name": "stderr",
     "output_type": "stream",
     "text": [
      " 20%|██        | 2/10 [00:07<00:32,  4.05s/it]"
     ]
    },
    {
     "name": "stdout",
     "output_type": "stream",
     "text": [
      "Narrative: The PDF file is more likely to contain malware because it has a larger metadata size (272 KB), no Javascript keywords, and a larger total size (90 KB).\n",
      "Total Score: 16.0\n",
      "accuracy: 4.0, completeness: 4.0, fluency: 4.0, conciseness: 4, \n",
      "--\n"
     ]
    },
    {
     "name": "stderr",
     "output_type": "stream",
     "text": [
      " 30%|███       | 3/10 [00:11<00:28,  4.01s/it]"
     ]
    },
    {
     "name": "stdout",
     "output_type": "stream",
     "text": [
      "Narrative: The PDF file is more likely to contain malware because it has a larger metadata size (180 KB), a larger total size (7 KB), and a negative number of objects (-1).\n",
      "Total Score: 10.0\n",
      "accuracy: 0.0, completeness: 2.0, fluency: 4.0, conciseness: 4, \n",
      "--\n"
     ]
    },
    {
     "name": "stderr",
     "output_type": "stream",
     "text": [
      " 40%|████      | 4/10 [00:15<00:23,  3.96s/it]"
     ]
    },
    {
     "name": "stdout",
     "output_type": "stream",
     "text": [
      "Narrative: The PDF file is more likely to contain malware because it has a larger metadata size (262 KB), no Javascript keywords, and a larger total size (91 KB).\n",
      "Total Score: 14.0\n",
      "accuracy: 4.0, completeness: 2.0, fluency: 4.0, conciseness: 4, \n",
      "--\n"
     ]
    },
    {
     "name": "stderr",
     "output_type": "stream",
     "text": [
      " 50%|█████     | 5/10 [00:19<00:19,  3.81s/it]"
     ]
    },
    {
     "name": "stdout",
     "output_type": "stream",
     "text": [
      "Narrative: The PDF file is more likely to contain malware because it has one Javascript keyword, a negative number of images, and one JS keyword.\n",
      "Total Score: 9.0\n",
      "accuracy: 0.0, completeness: 2.0, fluency: 3.0, conciseness: 4, \n",
      "--\n"
     ]
    },
    {
     "name": "stderr",
     "output_type": "stream",
     "text": [
      " 60%|██████    | 6/10 [00:22<00:14,  3.57s/it]"
     ]
    },
    {
     "name": "stdout",
     "output_type": "stream",
     "text": [
      "Narrative: The PDF file is more likely to contain malware because it has a larger metadata size (336 KB), a larger total size (58 KB), and a higher number of objects (121).\n",
      "Total Score: 14.0\n",
      "accuracy: 4.0, completeness: 2.0, fluency: 4.0, conciseness: 4, \n",
      "--\n"
     ]
    },
    {
     "name": "stderr",
     "output_type": "stream",
     "text": [
      " 70%|███████   | 7/10 [00:26<00:11,  3.73s/it]"
     ]
    },
    {
     "name": "stdout",
     "output_type": "stream",
     "text": [
      "Narrative: The PDF file is more likely to contain malware because it has a higher number of Javascript keywords (3), a higher number of JS keywords (2), and a higher number of keywords that denote the end of streams (2).\n",
      "Total Score: 7.0\n",
      "accuracy: 0.0, completeness: 2.0, fluency: 1.0, conciseness: 4, \n",
      "--\n"
     ]
    },
    {
     "name": "stderr",
     "output_type": "stream",
     "text": [
      " 80%|████████  | 8/10 [00:29<00:07,  3.62s/it]"
     ]
    },
    {
     "name": "stdout",
     "output_type": "stream",
     "text": [
      "Narrative: The PDF file is more likely to contain malware because it has a larger metadata size (289 KB), no Javascript keywords, and a total size of 27 KB.\n",
      "Total Score: 16.0\n",
      "accuracy: 4.0, completeness: 4.0, fluency: 4.0, conciseness: 4, \n",
      "--\n"
     ]
    },
    {
     "name": "stderr",
     "output_type": "stream",
     "text": [
      " 90%|█████████ | 9/10 [00:32<00:03,  3.65s/it]\n"
     ]
    },
    {
     "name": "stdout",
     "output_type": "stream",
     "text": [
      "Bootstrapped 3 full traces after 10 examples in round 0.\n",
      "Narrative: The PDF file is more likely to contain malware because it has a larger metadata size (180 KB), a small total size (3 KB), and contains one stream (sequence of binary data).\n",
      "Total Score: 16.0\n",
      "accuracy: 4.0, completeness: 4.0, fluency: 4.0, conciseness: 4, \n",
      "--\n"
     ]
    },
    {
     "name": "stderr",
     "output_type": "stream",
     "text": [
      "  0%|          | 0/10 [00:00<?, ?it/s]"
     ]
    },
    {
     "name": "stdout",
     "output_type": "stream",
     "text": [
      "Narrative: The model predicts that the PDF file contains malware based on several key factors. Firstly, the size of the metadata is 262.0 KB, which significantly contributes to the prediction. Secondly, the total size of the file is 74.0 KB, which also plays an important role. Lastly, the absence of Javascript keywords, with a count of 0.0, further supports the model's prediction.\n",
      "Total Score: 16.0\n",
      "accuracy: 4.0, completeness: 4.0, fluency: 4.0, conciseness: 4, \n",
      "--\n",
      "Narrative: The PDF file is less likely to contain malware because it has fewer objects (-1), fewer keywords that denote the end of streams (-1), and fewer streams (sequences of binary data) (-1).\n",
      "Total Score: 11.0\n",
      "accuracy: 0.0, completeness: 4.0, fluency: 3.0, conciseness: 4, \n",
      "--\n",
      "Narrative: The PDF file is more likely to contain malware because it has a larger metadata size (272 KB), no Javascript keywords, and a larger total size (90 KB).\n",
      "Total Score: 16.0\n",
      "accuracy: 4.0, completeness: 4.0, fluency: 4.0, conciseness: 4, \n",
      "--\n",
      "Narrative: The PDF file is more likely to contain malware because it has a larger metadata size (180 KB), a larger total size (7 KB), and a negative number of objects (-1).\n",
      "Total Score: 10.0\n",
      "accuracy: 0.0, completeness: 2.0, fluency: 4.0, conciseness: 4, \n",
      "--\n",
      "Narrative: The PDF file is more likely to contain malware because it has a larger metadata size (262 KB), no Javascript keywords, and a larger total size (91 KB).\n",
      "Total Score: 14.0\n",
      "accuracy: 4.0, completeness: 2.0, fluency: 4.0, conciseness: 4, \n",
      "--\n",
      "Narrative: The PDF file is more likely to contain malware because it has one Javascript keyword, a negative number of images, and one JS keyword.\n",
      "Total Score: 9.0\n",
      "accuracy: 0.0, completeness: 2.0, fluency: 3.0, conciseness: 4, \n",
      "--\n",
      "Narrative: The PDF file is more likely to contain malware because it has a larger metadata size (336 KB), a larger total size (58 KB), and a higher number of objects (121).\n",
      "Total Score: 14.0\n",
      "accuracy: 4.0, completeness: 2.0, fluency: 4.0, conciseness: 4, \n",
      "--\n",
      "Narrative: The PDF file is more likely to contain malware because it has a higher number of Javascript keywords (3), a higher number of JS keywords (2), and a higher number of keywords that denote the end of streams (2).\n",
      "Total Score: 7.0\n",
      "accuracy: 0.0, completeness: 2.0, fluency: 1.0, conciseness: 4, \n",
      "--\n",
      "Narrative: The PDF file is more likely to contain malware because it has a larger metadata size (289 KB), no Javascript keywords, and a total size of 27 KB.\n",
      "Total Score: 16.0\n",
      "accuracy: 4.0, completeness: 4.0, fluency: 4.0, conciseness: 4, \n",
      "--\n"
     ]
    },
    {
     "name": "stderr",
     "output_type": "stream",
     "text": [
      " 90%|█████████ | 9/10 [00:00<00:00, 116.55it/s]\n"
     ]
    },
    {
     "name": "stdout",
     "output_type": "stream",
     "text": [
      "Bootstrapped 3 full traces after 10 examples in round 0.\n",
      "Narrative: The PDF file is more likely to contain malware because it has a larger metadata size (358 KB), no Javascript keywords, and a total size of 63 KB.\n",
      "Total Score: 14.0\n",
      "accuracy: 4.0, completeness: 2.0, fluency: 4.0, conciseness: 4, \n",
      "--\n",
      "Total score: 15.0 (accuracy: 4.0, completeness: 3.0, fluency: 4.0, conciseness: 4.0)\n",
      "--\n",
      "=====\n",
      "Dataset: pdf_2.json\n",
      "Few-shot n: 3, Bootstrapped n: 3\n"
     ]
    },
    {
     "name": "stderr",
     "output_type": "stream",
     "text": [
      "  0%|          | 0/10 [00:00<?, ?it/s]"
     ]
    },
    {
     "name": "stdout",
     "output_type": "stream",
     "text": [
      "Narrative: The model predicts that the PDF file contains malware based on several key factors. Firstly, the size of the metadata is 262.0 KB, which significantly contributes to the prediction. Secondly, the total size of the file is 74.0 KB, which also plays an important role. Lastly, the absence of Javascript keywords, with a count of 0.0, further supports the model's prediction.\n",
      "Total Score: 15.0\n",
      "accuracy: 4.0, completeness: 4.0, fluency: 3.0, conciseness: 4, \n",
      "--\n"
     ]
    },
    {
     "name": "stderr",
     "output_type": "stream",
     "text": [
      " 10%|█         | 1/10 [00:00<00:02,  3.22it/s]"
     ]
    },
    {
     "name": "stdout",
     "output_type": "stream",
     "text": [
      "Narrative: A lower number of objects (-1), fewer keywords that denote the end of streams (-1), and fewer streams (-1) suggest that the PDF contains malware.\n",
      "Total Score: 12.0\n",
      "accuracy: 0.0, completeness: 4.0, fluency: 4.0, conciseness: 4, \n",
      "--\n"
     ]
    },
    {
     "name": "stderr",
     "output_type": "stream",
     "text": [
      " 20%|██        | 2/10 [00:04<00:20,  2.59s/it]"
     ]
    },
    {
     "name": "stdout",
     "output_type": "stream",
     "text": [
      "Narrative: The larger metadata size (272 KB), no Javascript keywords, and a larger total size (90 KB) suggest that the PDF contains malware.\n",
      "Total Score: 10.0\n",
      "accuracy: 0.0, completeness: 2.0, fluency: 4.0, conciseness: 4, \n",
      "--\n"
     ]
    },
    {
     "name": "stderr",
     "output_type": "stream",
     "text": [
      " 30%|███       | 3/10 [00:10<00:28,  4.06s/it]"
     ]
    },
    {
     "name": "stdout",
     "output_type": "stream",
     "text": [
      "Narrative: The larger metadata size (180 KB), a smaller total size (7 KB), and a negative number of objects (-1) suggest that the PDF contains malware.\n",
      "Total Score: 10.0\n",
      "accuracy: 0.0, completeness: 2.0, fluency: 4.0, conciseness: 4, \n",
      "--\n"
     ]
    },
    {
     "name": "stderr",
     "output_type": "stream",
     "text": [
      " 40%|████      | 4/10 [00:14<00:25,  4.30s/it]"
     ]
    },
    {
     "name": "stdout",
     "output_type": "stream",
     "text": [
      "Narrative: The larger metadata size (262 KB), no Javascript keywords, and a larger total size (91 KB) suggest that the PDF contains malware.\n",
      "Total Score: 10.0\n",
      "accuracy: 0.0, completeness: 2.0, fluency: 4.0, conciseness: 4, \n",
      "--\n"
     ]
    },
    {
     "name": "stderr",
     "output_type": "stream",
     "text": [
      " 50%|█████     | 5/10 [00:18<00:19,  3.86s/it]"
     ]
    },
    {
     "name": "stdout",
     "output_type": "stream",
     "text": [
      "Narrative: The presence of Javascript keywords (1.0) and the absence of images (-1.0) suggest that the PDF contains malware.\n",
      "Total Score: 7.0\n",
      "accuracy: 0.0, completeness: 0.0, fluency: 3.0, conciseness: 4, \n",
      "--\n"
     ]
    },
    {
     "name": "stderr",
     "output_type": "stream",
     "text": [
      " 60%|██████    | 6/10 [00:21<00:15,  3.78s/it]"
     ]
    },
    {
     "name": "stdout",
     "output_type": "stream",
     "text": [
      "Narrative: The larger metadata size (336 KB), a moderate total size (58 KB), and a higher number of objects (121) suggest that the PDF contains malware.\n",
      "Total Score: 10.0\n",
      "accuracy: 0.0, completeness: 2.0, fluency: 4.0, conciseness: 4, \n",
      "--\n"
     ]
    },
    {
     "name": "stderr",
     "output_type": "stream",
     "text": [
      " 70%|███████   | 7/10 [00:24<00:10,  3.40s/it]"
     ]
    },
    {
     "name": "stdout",
     "output_type": "stream",
     "text": [
      "Narrative: The presence of 3 Javascript keywords, 2 JS keywords, and 2 keywords that denote the end of streams suggests that the PDF contains malware.\n",
      "Total Score: 9.0\n",
      "accuracy: 0.0, completeness: 2.0, fluency: 3.0, conciseness: 4, \n",
      "--\n"
     ]
    },
    {
     "name": "stderr",
     "output_type": "stream",
     "text": [
      " 80%|████████  | 8/10 [00:27<00:06,  3.18s/it]"
     ]
    },
    {
     "name": "stdout",
     "output_type": "stream",
     "text": [
      "Narrative: The larger metadata size (289 KB), no Javascript keywords, and a smaller total size (27 KB) suggest that the PDF contains malware.\n",
      "Total Score: 10.0\n",
      "accuracy: 0.0, completeness: 2.0, fluency: 4.0, conciseness: 4, \n",
      "--\n"
     ]
    },
    {
     "name": "stderr",
     "output_type": "stream",
     "text": [
      " 90%|█████████ | 9/10 [00:30<00:03,  3.16s/it]"
     ]
    },
    {
     "name": "stdout",
     "output_type": "stream",
     "text": [
      "Narrative: The presence of 2 Javascript keywords, a smaller total size (4 KB), and 10 entries in Xref tables suggest that the PDF contains malware.\n",
      "Total Score: 11.0\n",
      "accuracy: 0.0, completeness: 4.0, fluency: 3.0, conciseness: 4, \n",
      "--\n"
     ]
    },
    {
     "name": "stderr",
     "output_type": "stream",
     "text": [
      "100%|██████████| 10/10 [00:33<00:00,  3.34s/it]\n"
     ]
    },
    {
     "name": "stdout",
     "output_type": "stream",
     "text": [
      "Bootstrapped 0 full traces after 10 examples in round 0.\n",
      "Narrative: A moderate metadata size (180 KB), a small total size (3 KB), and a single stream of binary data suggest that the PDF contains malware.\n",
      "Total Score: 9.0\n",
      "accuracy: 0.0, completeness: 2.0, fluency: 3.0, conciseness: 4, \n",
      "--\n"
     ]
    },
    {
     "name": "stderr",
     "output_type": "stream",
     "text": [
      "  0%|          | 0/10 [00:00<?, ?it/s]"
     ]
    },
    {
     "name": "stdout",
     "output_type": "stream",
     "text": [
      "Narrative: The model predicts that the PDF file contains malware based on several key factors. Firstly, the size of the metadata is 262.0 KB, which significantly contributes to the prediction. Secondly, the total size of the file is 74.0 KB, which also plays an important role. Lastly, the absence of Javascript keywords, with a count of 0.0, further supports the model's prediction.\n",
      "Total Score: 15.0\n",
      "accuracy: 4.0, completeness: 4.0, fluency: 3.0, conciseness: 4, \n",
      "--\n",
      "Narrative: A lower number of objects (-1), fewer keywords that denote the end of streams (-1), and fewer streams (-1) suggest that the PDF contains malware.\n",
      "Total Score: 12.0\n",
      "accuracy: 0.0, completeness: 4.0, fluency: 4.0, conciseness: 4, \n",
      "--\n",
      "Narrative: The larger metadata size (272 KB), no Javascript keywords, and a larger total size (90 KB) suggest that the PDF contains malware.\n",
      "Total Score: 10.0\n",
      "accuracy: 0.0, completeness: 2.0, fluency: 4.0, conciseness: 4, \n",
      "--\n",
      "Narrative: The larger metadata size (180 KB), a smaller total size (7 KB), and a negative number of objects (-1) suggest that the PDF contains malware.\n",
      "Total Score: 10.0\n",
      "accuracy: 0.0, completeness: 2.0, fluency: 4.0, conciseness: 4, \n",
      "--\n",
      "Narrative: The larger metadata size (262 KB), no Javascript keywords, and a larger total size (91 KB) suggest that the PDF contains malware.\n",
      "Total Score: 10.0\n",
      "accuracy: 0.0, completeness: 2.0, fluency: 4.0, conciseness: 4, \n",
      "--\n",
      "Narrative: The presence of Javascript keywords (1.0) and the absence of images (-1.0) suggest that the PDF contains malware.\n",
      "Total Score: 7.0\n",
      "accuracy: 0.0, completeness: 0.0, fluency: 3.0, conciseness: 4, \n",
      "--\n",
      "Narrative: The larger metadata size (336 KB), a moderate total size (58 KB), and a higher number of objects (121) suggest that the PDF contains malware.\n",
      "Total Score: 10.0\n",
      "accuracy: 0.0, completeness: 2.0, fluency: 4.0, conciseness: 4, \n",
      "--\n",
      "Narrative: The presence of 3 Javascript keywords, 2 JS keywords, and 2 keywords that denote the end of streams suggests that the PDF contains malware.\n",
      "Total Score: 9.0\n",
      "accuracy: 0.0, completeness: 2.0, fluency: 3.0, conciseness: 4, \n",
      "--\n",
      "Narrative: The larger metadata size (289 KB), no Javascript keywords, and a smaller total size (27 KB) suggest that the PDF contains malware.\n",
      "Total Score: 10.0\n",
      "accuracy: 0.0, completeness: 2.0, fluency: 4.0, conciseness: 4, \n",
      "--\n",
      "Narrative: The presence of 2 Javascript keywords, a smaller total size (4 KB), and 10 entries in Xref tables suggest that the PDF contains malware.\n",
      "Total Score: 11.0\n",
      "accuracy: 0.0, completeness: 4.0, fluency: 3.0, conciseness: 4, \n",
      "--\n"
     ]
    },
    {
     "name": "stderr",
     "output_type": "stream",
     "text": [
      "100%|██████████| 10/10 [00:00<00:00, 115.15it/s]\n"
     ]
    },
    {
     "name": "stdout",
     "output_type": "stream",
     "text": [
      "Bootstrapped 0 full traces after 10 examples in round 0.\n",
      "Narrative: A larger metadata size (358 KB), no Javascript keywords, and a larger total size (63 KB) suggest that the PDF contains malware.\n",
      "Total Score: 10.0\n",
      "accuracy: 0.0, completeness: 2.0, fluency: 4.0, conciseness: 4, \n",
      "--\n",
      "Total score: 9.5 (accuracy: 0.0, completeness: 2.0, fluency: 3.5, conciseness: 4.0)\n",
      "--\n",
      "=====\n",
      "Dataset: student_1.json\n",
      "Few-shot n: 3, Bootstrapped n: 3\n"
     ]
    },
    {
     "name": "stderr",
     "output_type": "stream",
     "text": [
      "  0%|          | 0/10 [00:00<?, ?it/s]"
     ]
    },
    {
     "name": "stdout",
     "output_type": "stream",
     "text": [
      "Narrative: The lack of family support significantly reduces this student's chances of passing. While not being in a romantic relationship provides some positive impact, being male also slightly decreases the likelihood of passing.\n",
      "Total Score: 16.0\n",
      "accuracy: 4.0, completeness: 4.0, fluency: 4.0, conciseness: 4, \n",
      "--\n"
     ]
    },
    {
     "name": "stderr",
     "output_type": "stream",
     "text": [
      " 10%|█         | 1/10 [00:03<00:28,  3.18s/it]"
     ]
    },
    {
     "name": "stdout",
     "output_type": "stream",
     "text": [
      "Narrative: The presence of family support and not being in a romantic relationship are positive factors that increase this student's likelihood of passing. However, being 17 years old slightly decreases their chances.\n",
      "Total Score: 16.0\n",
      "accuracy: 4.0, completeness: 4.0, fluency: 4.0, conciseness: 4, \n",
      "--\n"
     ]
    },
    {
     "name": "stderr",
     "output_type": "stream",
     "text": [
      " 20%|██        | 2/10 [00:06<00:27,  3.41s/it]"
     ]
    },
    {
     "name": "stdout",
     "output_type": "stream",
     "text": [
      "Narrative: The student's chances of passing are negatively impacted by being in a romantic relationship, the lack of family educational support, and being male.\n",
      "Total Score: 13.0\n",
      "accuracy: 4.0, completeness: 2.0, fluency: 3.0, conciseness: 4, \n",
      "--\n"
     ]
    },
    {
     "name": "stderr",
     "output_type": "stream",
     "text": [
      " 30%|███       | 3/10 [00:10<00:25,  3.61s/it]"
     ]
    },
    {
     "name": "stdout",
     "output_type": "stream",
     "text": [
      "Narrative: The student's likelihood of passing is reduced due to the absence of family support and attending the MS school.\n",
      "Total Score: 16.0\n",
      "accuracy: 4.0, completeness: 4.0, fluency: 4.0, conciseness: 4, \n",
      "--\n"
     ]
    },
    {
     "name": "stderr",
     "output_type": "stream",
     "text": [
      " 40%|████      | 4/10 [00:13<00:20,  3.43s/it]\n"
     ]
    },
    {
     "name": "stdout",
     "output_type": "stream",
     "text": [
      "Bootstrapped 3 full traces after 5 examples in round 0.\n",
      "Narrative: The lack of family support significantly reduces this student's chances of passing. While not being in a romantic relationship provides some positive impact, having their mother as their guardian slightly decreases the likelihood of passing.\n",
      "Total Score: 16.0\n",
      "accuracy: 4.0, completeness: 4.0, fluency: 4.0, conciseness: 4, \n",
      "--\n"
     ]
    },
    {
     "name": "stderr",
     "output_type": "stream",
     "text": [
      "  0%|          | 0/10 [00:00<?, ?it/s]"
     ]
    },
    {
     "name": "stdout",
     "output_type": "stream",
     "text": [
      "Narrative: The lack of family support significantly reduces this student's chances of passing. While not being in a romantic relationship provides some positive impact, being male also slightly decreases the likelihood of passing.\n",
      "Total Score: 16.0\n",
      "accuracy: 4.0, completeness: 4.0, fluency: 4.0, conciseness: 4, \n",
      "--\n",
      "Narrative: The presence of family support and not being in a romantic relationship are positive factors that increase this student's likelihood of passing. However, being 17 years old slightly decreases their chances.\n",
      "Total Score: 16.0\n",
      "accuracy: 4.0, completeness: 4.0, fluency: 4.0, conciseness: 4, \n",
      "--\n",
      "Narrative: The student's chances of passing are negatively impacted by being in a romantic relationship, the lack of family educational support, and being male.\n",
      "Total Score: 13.0\n",
      "accuracy: 4.0, completeness: 2.0, fluency: 3.0, conciseness: 4, \n",
      "--\n",
      "Narrative: The student's likelihood of passing is reduced due to the absence of family support and attending the MS school.\n",
      "Total Score: 16.0\n",
      "accuracy: 4.0, completeness: 4.0, fluency: 4.0, conciseness: 4, \n",
      "--\n"
     ]
    },
    {
     "name": "stderr",
     "output_type": "stream",
     "text": [
      " 40%|████      | 4/10 [00:00<00:00, 118.33it/s]\n"
     ]
    },
    {
     "name": "stdout",
     "output_type": "stream",
     "text": [
      "Bootstrapped 3 full traces after 5 examples in round 0.\n",
      "Narrative: The presence of family support and not being in a romantic relationship are positive factors that increase this student's likelihood of passing. However, frequently going out with friends slightly decreases their chances.\n",
      "Total Score: 16.0\n",
      "accuracy: 4.0, completeness: 4.0, fluency: 4.0, conciseness: 4, \n",
      "--\n",
      "Total score: 16.0 (accuracy: 4.0, completeness: 4.0, fluency: 4.0, conciseness: 4.0)\n",
      "--\n",
      "=====\n",
      "Dataset: student_2.json\n",
      "Few-shot n: 3, Bootstrapped n: 3\n"
     ]
    },
    {
     "name": "stderr",
     "output_type": "stream",
     "text": [
      "  0%|          | 0/10 [00:00<?, ?it/s]"
     ]
    },
    {
     "name": "stdout",
     "output_type": "stream",
     "text": [
      "Narrative: The model predicts that the student is less likely to pass their class because they do not have family educational support, which negatively impacts the prediction by 2.26 units. Additionally, the fact that the student is not in a romantic relationship positively influences the prediction by 1.11 units. Lastly, the student's gender being male slightly decreases the likelihood of passing by 0.60 units.\n",
      "Total Score: 16.0\n",
      "accuracy: 4.0, completeness: 4.0, fluency: 4.0, conciseness: 4, \n",
      "--\n"
     ]
    },
    {
     "name": "stderr",
     "output_type": "stream",
     "text": [
      " 10%|█         | 1/10 [00:06<00:59,  6.64s/it]"
     ]
    },
    {
     "name": "stdout",
     "output_type": "stream",
     "text": [
      "Narrative: The presence of family educational support and the lack of a romantic relationship suggest the student is more likely to pass the class. However, being 17 years old slightly decreases the probability of passing.\n",
      "Total Score: 16.0\n",
      "accuracy: 4.0, completeness: 4.0, fluency: 4.0, conciseness: 4, \n",
      "--\n"
     ]
    },
    {
     "name": "stderr",
     "output_type": "stream",
     "text": [
      " 20%|██        | 2/10 [00:10<00:39,  4.91s/it]"
     ]
    },
    {
     "name": "stdout",
     "output_type": "stream",
     "text": [
      "Narrative: Being in a romantic relationship, the lack of family support, and the sex (male) suggest the student is less likely to pass the class.\n",
      "Total Score: 14.0\n",
      "accuracy: 4.0, completeness: 2.0, fluency: 4.0, conciseness: 4, \n",
      "--\n"
     ]
    },
    {
     "name": "stderr",
     "output_type": "stream",
     "text": [
      " 30%|███       | 3/10 [00:12<00:26,  3.77s/it]"
     ]
    },
    {
     "name": "stdout",
     "output_type": "stream",
     "text": [
      "Narrative: The lack of family support and attending the school MS suggest the student is less likely to pass the class.\n",
      "Total Score: 14.0\n",
      "accuracy: 4.0, completeness: 2.0, fluency: 4.0, conciseness: 4, \n",
      "--\n"
     ]
    },
    {
     "name": "stderr",
     "output_type": "stream",
     "text": [
      " 40%|████      | 4/10 [00:16<00:22,  3.72s/it]"
     ]
    },
    {
     "name": "stdout",
     "output_type": "stream",
     "text": [
      "Narrative: Having the father as the student's guardian, not being in a romantic relationship, and receiving family educational support all suggest a higher likelihood of the student passing the class.\n",
      "Total Score: 14.0\n",
      "accuracy: 4.0, completeness: 2.0, fluency: 4.0, conciseness: 4, \n",
      "--\n"
     ]
    },
    {
     "name": "stderr",
     "output_type": "stream",
     "text": [
      " 50%|█████     | 5/10 [00:19<00:17,  3.46s/it]"
     ]
    },
    {
     "name": "stdout",
     "output_type": "stream",
     "text": [
      "Narrative: The lack of a romantic relationship and the presence of family educational support suggest the student is more likely to pass the class. However, the lower quality of family relationships indicates a lower probability of passing.\n",
      "Total Score: 14.0\n",
      "accuracy: 4.0, completeness: 2.0, fluency: 4.0, conciseness: 4, \n",
      "--\n"
     ]
    },
    {
     "name": "stderr",
     "output_type": "stream",
     "text": [
      " 60%|██████    | 6/10 [00:22<00:13,  3.35s/it]"
     ]
    },
    {
     "name": "stdout",
     "output_type": "stream",
     "text": [
      "Narrative: The lack of a romantic relationship, the presence of family educational support, and a high quality of family relationships suggest the student is more likely to pass the class.\n",
      "Total Score: 16.0\n",
      "accuracy: 4.0, completeness: 4.0, fluency: 4.0, conciseness: 4, \n",
      "--\n"
     ]
    },
    {
     "name": "stderr",
     "output_type": "stream",
     "text": [
      " 70%|███████   | 7/10 [00:26<00:11,  3.75s/it]\n"
     ]
    },
    {
     "name": "stdout",
     "output_type": "stream",
     "text": [
      "Bootstrapped 3 full traces after 8 examples in round 0.\n",
      "Narrative: The fact that the student is in a romantic relationship and does not have family educational support suggests they are less likely to pass the class. Additionally, having their mother as their guardian slightly decreases the likelihood of passing.\n",
      "Total Score: 16.0\n",
      "accuracy: 4.0, completeness: 4.0, fluency: 4.0, conciseness: 4, \n",
      "--\n"
     ]
    },
    {
     "name": "stderr",
     "output_type": "stream",
     "text": [
      "  0%|          | 0/10 [00:00<?, ?it/s]"
     ]
    },
    {
     "name": "stdout",
     "output_type": "stream",
     "text": [
      "Narrative: The model predicts that the student is less likely to pass their class because they do not have family educational support, which negatively impacts the prediction by 2.26 units. Additionally, the fact that the student is not in a romantic relationship positively influences the prediction by 1.11 units. Lastly, the student's gender being male slightly decreases the likelihood of passing by 0.60 units.\n",
      "Total Score: 16.0\n",
      "accuracy: 4.0, completeness: 4.0, fluency: 4.0, conciseness: 4, \n",
      "--\n",
      "Narrative: The presence of family educational support and the lack of a romantic relationship suggest the student is more likely to pass the class. However, being 17 years old slightly decreases the probability of passing.\n",
      "Total Score: 16.0\n",
      "accuracy: 4.0, completeness: 4.0, fluency: 4.0, conciseness: 4, \n",
      "--\n",
      "Narrative: Being in a romantic relationship, the lack of family support, and the sex (male) suggest the student is less likely to pass the class.\n",
      "Total Score: 14.0\n",
      "accuracy: 4.0, completeness: 2.0, fluency: 4.0, conciseness: 4, \n",
      "--\n",
      "Narrative: The lack of family support and attending the school MS suggest the student is less likely to pass the class.\n",
      "Total Score: 14.0\n",
      "accuracy: 4.0, completeness: 2.0, fluency: 4.0, conciseness: 4, \n",
      "--\n",
      "Narrative: Having the father as the student's guardian, not being in a romantic relationship, and receiving family educational support all suggest a higher likelihood of the student passing the class.\n",
      "Total Score: 14.0\n",
      "accuracy: 4.0, completeness: 2.0, fluency: 4.0, conciseness: 4, \n",
      "--\n",
      "Narrative: The lack of a romantic relationship and the presence of family educational support suggest the student is more likely to pass the class. However, the lower quality of family relationships indicates a lower probability of passing.\n",
      "Total Score: 14.0\n",
      "accuracy: 4.0, completeness: 2.0, fluency: 4.0, conciseness: 4, \n",
      "--\n",
      "Narrative: The lack of a romantic relationship, the presence of family educational support, and a high quality of family relationships suggest the student is more likely to pass the class.\n",
      "Total Score: 16.0\n",
      "accuracy: 4.0, completeness: 4.0, fluency: 4.0, conciseness: 4, \n",
      "--\n"
     ]
    },
    {
     "name": "stderr",
     "output_type": "stream",
     "text": [
      " 70%|███████   | 7/10 [00:00<00:00, 114.25it/s]\n"
     ]
    },
    {
     "name": "stdout",
     "output_type": "stream",
     "text": [
      "Bootstrapped 3 full traces after 8 examples in round 0.\n",
      "Narrative: Being in a romantic relationship and lacking family educational support suggest the student is less likely to pass the class. However, having their father as their guardian positively influences the prediction.\n",
      "Total Score: 16.0\n",
      "accuracy: 4.0, completeness: 4.0, fluency: 4.0, conciseness: 4, \n",
      "--\n",
      "Total score: 16.0 (accuracy: 4.0, completeness: 4.0, fluency: 4.0, conciseness: 4.0)\n",
      "--\n",
      "=====\n"
     ]
    }
   ],
   "execution_count": 28
  },
  {
   "cell_type": "code",
   "outputs": [
    {
     "name": "stdout",
     "output_type": "stream",
     "text": [
      "\n",
      "\n",
      "\n",
      "You are helping users understand an ML model's prediction. Given an explanation and information about the model,\n",
      "convert the explanation into a human-readable narrative.\n",
      "\n",
      "---\n",
      "\n",
      "Follow the following format.\n",
      "\n",
      "Context: what the ML model predicts\n",
      "\n",
      "Explanation: explanation of an ML model's prediction\n",
      "\n",
      "Explanation Format: format the explanation is given in\n",
      "\n",
      "Narrative: human-readable narrative version of the explanation\n",
      "\n",
      "---\n",
      "\n",
      "Context: The model predicts whether a student will pass their class\n",
      "\n",
      "Explanation: (Family eductional support, no, -2.26), (In a romantic relationship, no, 1.11), (Sex, M, -0.60)\n",
      "\n",
      "Explanation Format: SHAP feature contribution in (feature_name, feature_value, contribution) format\n",
      "\n",
      "Narrative: The model predicts that the student is less likely to pass their class because they do not have family educational support, which negatively impacts the prediction by 2.26 units. Additionally, the fact that the student is not in a romantic relationship positively influences the prediction by 1.11 units. Lastly, the student's gender being male slightly decreases the likelihood of passing by 0.60 units.\n",
      "\n",
      "---\n",
      "\n",
      "Context: The model predicts whether a student will pass their class\n",
      "\n",
      "Explanation: (Family eductional support, yes, 1.21), (In a romantic relationship, no, 1.12), (Age, 17, -0.45)\n",
      "\n",
      "Explanation Format: SHAP feature contribution in (feature_name, feature_value, contribution) format\n",
      "\n",
      "Narrative: The presence of family educational support and the lack of a romantic relationship suggest the student is more likely to pass the class. However, being 17 years old slightly decreases the probability of passing.\n",
      "\n",
      "---\n",
      "\n",
      "Context: The model predicts whether a student will pass their class\n",
      "\n",
      "Explanation: (In a romantic relationship, no, 1.24), (Family eductional support, yes, 1.12), (Quality of family relationships (1-5), 4, 0.44)\n",
      "\n",
      "Explanation Format: SHAP feature contribution in (feature_name, feature_value, contribution) format\n",
      "\n",
      "Narrative: The lack of a romantic relationship, the presence of family educational support, and a high quality of family relationships suggest the student is more likely to pass the class.\n",
      "\n",
      "---\n",
      "\n",
      "Context: The model predicts whether a student will pass their class\n",
      "\n",
      "Explanation: (In a romantic relationship, yes, -1.86), (Student's guardian, father, 1.12), (Family eductional support, no, -1.02)\n",
      "\n",
      "Explanation Format: SHAP feature contribution in (feature_name, feature_value, contribution) format\n",
      "\n",
      "Please provide the output field Narrative. Do so immediately, without additional content before or after, and precisely as the format above shows. Begin with only the field Narrative.\n",
      "\n",
      "Narrative: Being in a romantic relationship and lacking family educational support suggest the student is less likely to pass the class. However, having their father as their guardian positively influences the prediction.\n",
      "\n",
      "\n"
     ]
    },
    {
     "data": {
      "text/plain": "\"\\n\\n\\nYou are helping users understand an ML model's prediction. Given an explanation and information about the model,\\nconvert the explanation into a human-readable narrative.\\n\\n---\\n\\nFollow the following format.\\n\\nContext: what the ML model predicts\\n\\nExplanation: explanation of an ML model's prediction\\n\\nExplanation Format: format the explanation is given in\\n\\nNarrative: human-readable narrative version of the explanation\\n\\n---\\n\\nContext: The model predicts whether a student will pass their class\\n\\nExplanation: (Family eductional support, no, -2.26), (In a romantic relationship, no, 1.11), (Sex, M, -0.60)\\n\\nExplanation Format: SHAP feature contribution in (feature_name, feature_value, contribution) format\\n\\nNarrative: The model predicts that the student is less likely to pass their class because they do not have family educational support, which negatively impacts the prediction by 2.26 units. Additionally, the fact that the student is not in a romantic relationship positively influences the prediction by 1.11 units. Lastly, the student's gender being male slightly decreases the likelihood of passing by 0.60 units.\\n\\n---\\n\\nContext: The model predicts whether a student will pass their class\\n\\nExplanation: (Family eductional support, yes, 1.21), (In a romantic relationship, no, 1.12), (Age, 17, -0.45)\\n\\nExplanation Format: SHAP feature contribution in (feature_name, feature_value, contribution) format\\n\\nNarrative: The presence of family educational support and the lack of a romantic relationship suggest the student is more likely to pass the class. However, being 17 years old slightly decreases the probability of passing.\\n\\n---\\n\\nContext: The model predicts whether a student will pass their class\\n\\nExplanation: (In a romantic relationship, no, 1.24), (Family eductional support, yes, 1.12), (Quality of family relationships (1-5), 4, 0.44)\\n\\nExplanation Format: SHAP feature contribution in (feature_name, feature_value, contribution) format\\n\\nNarrative: The lack of a romantic relationship, the presence of family educational support, and a high quality of family relationships suggest the student is more likely to pass the class.\\n\\n---\\n\\nContext: The model predicts whether a student will pass their class\\n\\nExplanation: (In a romantic relationship, yes, -1.86), (Student's guardian, father, 1.12), (Family eductional support, no, -1.02)\\n\\nExplanation Format: SHAP feature contribution in (feature_name, feature_value, contribution) format\\n\\nPlease provide the output field Narrative. Do so immediately, without additional content before or after, and precisely as the format above shows. Begin with only the field Narrative.\\n\\n\\x1b[32mNarrative: Being in a romantic relationship and lacking family educational support suggest the student is less likely to pass the class. However, having their father as their guardian positively influences the prediction.\\x1b[0m\\n\\n\\n\""
     },
     "execution_count": 29,
     "metadata": {},
     "output_type": "execute_result"
    }
   ],
   "source": [
    "llm.inspect_history(n=1)"
   ],
   "metadata": {
    "collapsed": false,
    "ExecuteTime": {
     "end_time": "2024-08-30T20:12:05.959497Z",
     "start_time": "2024-08-30T20:12:05.953477Z"
    }
   },
   "id": "ae010b96d4fb871",
   "execution_count": 29
  },
  {
   "metadata": {
    "ExecuteTime": {
     "end_time": "2024-08-30T20:12:05.976844Z",
     "start_time": "2024-08-30T20:12:05.960504Z"
    }
   },
   "cell_type": "code",
   "source": [
    "result_df = pd.DataFrame(results)\n",
    "result_df.to_csv(\"results.csv\")\n",
    "result_df"
   ],
   "id": "8c9376972f39a1bf",
   "outputs": [
    {
     "data": {
      "text/plain": "            dataset                                             prompt  \\\n0    housing_1.json  You are helping users understand an ML model's...   \n1    housing_1.json  You are helping users who do not have experien...   \n2    housing_1.json  You are helping users understand an ML model's...   \n3    housing_2.json  You are helping users understand an ML model's...   \n4    housing_2.json  You are helping users who do not have experien...   \n..              ...                                                ...   \n58  mushroom_2.json  You are helping users understand an ML model's...   \n59       pdf_1.json  You are helping users understand an ML model's...   \n60       pdf_2.json  You are helping users understand an ML model's...   \n61   student_1.json  You are helping users understand an ML model's...   \n62   student_2.json  You are helping users understand an ML model's...   \n\n    total score  accuracy  completeness  fluency  conciseness  n_few_shot  \\\n0          15.5       4.0           4.0      3.5          4.0         NaN   \n1          14.5       4.0           4.0      2.5          4.0         NaN   \n2          15.5       4.0           4.0      3.5          4.0         NaN   \n3          14.5       4.0           4.0      2.5          4.0         NaN   \n4          14.0       4.0           4.0      2.0          4.0         NaN   \n..          ...       ...           ...      ...          ...         ...   \n58         10.5       0.0           3.0      3.5          4.0         3.0   \n59         15.0       4.0           3.0      4.0          4.0         3.0   \n60          9.5       0.0           2.0      3.5          4.0         3.0   \n61         16.0       4.0           4.0      4.0          4.0         3.0   \n62         16.0       4.0           4.0      4.0          4.0         3.0   \n\n    n_bootstrapped_few_shot  \n0                       NaN  \n1                       NaN  \n2                       NaN  \n3                       NaN  \n4                       NaN  \n..                      ...  \n58                      3.0  \n59                      3.0  \n60                      3.0  \n61                      3.0  \n62                      3.0  \n\n[63 rows x 9 columns]",
      "text/html": "<div>\n<style scoped>\n    .dataframe tbody tr th:only-of-type {\n        vertical-align: middle;\n    }\n\n    .dataframe tbody tr th {\n        vertical-align: top;\n    }\n\n    .dataframe thead th {\n        text-align: right;\n    }\n</style>\n<table border=\"1\" class=\"dataframe\">\n  <thead>\n    <tr style=\"text-align: right;\">\n      <th></th>\n      <th>dataset</th>\n      <th>prompt</th>\n      <th>total score</th>\n      <th>accuracy</th>\n      <th>completeness</th>\n      <th>fluency</th>\n      <th>conciseness</th>\n      <th>n_few_shot</th>\n      <th>n_bootstrapped_few_shot</th>\n    </tr>\n  </thead>\n  <tbody>\n    <tr>\n      <th>0</th>\n      <td>housing_1.json</td>\n      <td>You are helping users understand an ML model's...</td>\n      <td>15.5</td>\n      <td>4.0</td>\n      <td>4.0</td>\n      <td>3.5</td>\n      <td>4.0</td>\n      <td>NaN</td>\n      <td>NaN</td>\n    </tr>\n    <tr>\n      <th>1</th>\n      <td>housing_1.json</td>\n      <td>You are helping users who do not have experien...</td>\n      <td>14.5</td>\n      <td>4.0</td>\n      <td>4.0</td>\n      <td>2.5</td>\n      <td>4.0</td>\n      <td>NaN</td>\n      <td>NaN</td>\n    </tr>\n    <tr>\n      <th>2</th>\n      <td>housing_1.json</td>\n      <td>You are helping users understand an ML model's...</td>\n      <td>15.5</td>\n      <td>4.0</td>\n      <td>4.0</td>\n      <td>3.5</td>\n      <td>4.0</td>\n      <td>NaN</td>\n      <td>NaN</td>\n    </tr>\n    <tr>\n      <th>3</th>\n      <td>housing_2.json</td>\n      <td>You are helping users understand an ML model's...</td>\n      <td>14.5</td>\n      <td>4.0</td>\n      <td>4.0</td>\n      <td>2.5</td>\n      <td>4.0</td>\n      <td>NaN</td>\n      <td>NaN</td>\n    </tr>\n    <tr>\n      <th>4</th>\n      <td>housing_2.json</td>\n      <td>You are helping users who do not have experien...</td>\n      <td>14.0</td>\n      <td>4.0</td>\n      <td>4.0</td>\n      <td>2.0</td>\n      <td>4.0</td>\n      <td>NaN</td>\n      <td>NaN</td>\n    </tr>\n    <tr>\n      <th>...</th>\n      <td>...</td>\n      <td>...</td>\n      <td>...</td>\n      <td>...</td>\n      <td>...</td>\n      <td>...</td>\n      <td>...</td>\n      <td>...</td>\n      <td>...</td>\n    </tr>\n    <tr>\n      <th>58</th>\n      <td>mushroom_2.json</td>\n      <td>You are helping users understand an ML model's...</td>\n      <td>10.5</td>\n      <td>0.0</td>\n      <td>3.0</td>\n      <td>3.5</td>\n      <td>4.0</td>\n      <td>3.0</td>\n      <td>3.0</td>\n    </tr>\n    <tr>\n      <th>59</th>\n      <td>pdf_1.json</td>\n      <td>You are helping users understand an ML model's...</td>\n      <td>15.0</td>\n      <td>4.0</td>\n      <td>3.0</td>\n      <td>4.0</td>\n      <td>4.0</td>\n      <td>3.0</td>\n      <td>3.0</td>\n    </tr>\n    <tr>\n      <th>60</th>\n      <td>pdf_2.json</td>\n      <td>You are helping users understand an ML model's...</td>\n      <td>9.5</td>\n      <td>0.0</td>\n      <td>2.0</td>\n      <td>3.5</td>\n      <td>4.0</td>\n      <td>3.0</td>\n      <td>3.0</td>\n    </tr>\n    <tr>\n      <th>61</th>\n      <td>student_1.json</td>\n      <td>You are helping users understand an ML model's...</td>\n      <td>16.0</td>\n      <td>4.0</td>\n      <td>4.0</td>\n      <td>4.0</td>\n      <td>4.0</td>\n      <td>3.0</td>\n      <td>3.0</td>\n    </tr>\n    <tr>\n      <th>62</th>\n      <td>student_2.json</td>\n      <td>You are helping users understand an ML model's...</td>\n      <td>16.0</td>\n      <td>4.0</td>\n      <td>4.0</td>\n      <td>4.0</td>\n      <td>4.0</td>\n      <td>3.0</td>\n      <td>3.0</td>\n    </tr>\n  </tbody>\n</table>\n<p>63 rows × 9 columns</p>\n</div>"
     },
     "execution_count": 30,
     "metadata": {},
     "output_type": "execute_result"
    }
   ],
   "execution_count": 30
  },
  {
   "metadata": {
    "ExecuteTime": {
     "end_time": "2024-08-30T20:12:05.979134Z",
     "start_time": "2024-08-30T20:12:05.976844Z"
    }
   },
   "cell_type": "code",
   "outputs": [],
   "execution_count": 30,
   "source": [],
   "id": "b3ed31a97e1a6e19"
  }
 ],
 "metadata": {
  "kernelspec": {
   "display_name": "Python 3",
   "language": "python",
   "name": "python3"
  },
  "language_info": {
   "codemirror_mode": {
    "name": "ipython",
    "version": 2
   },
   "file_extension": ".py",
   "mimetype": "text/x-python",
   "name": "python",
   "nbconvert_exporter": "python",
   "pygments_lexer": "ipython2",
   "version": "2.7.6"
  }
 },
 "nbformat": 4,
 "nbformat_minor": 5
}
