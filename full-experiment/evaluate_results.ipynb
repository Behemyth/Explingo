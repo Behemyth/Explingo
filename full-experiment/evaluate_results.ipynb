{
 "cells": [
  {
   "cell_type": "code",
   "id": "initial_id",
   "metadata": {
    "collapsed": true,
    "ExecuteTime": {
     "end_time": "2024-08-30T19:26:27.651543Z",
     "start_time": "2024-08-30T19:26:27.646711Z"
    }
   },
   "source": [
    "import pandas as pd\n",
    "import os\n",
    "\n",
    "df = pd.read_csv(os.path.join(\"results\", 'results.csv'), index_col=0)\n",
    "df.shape"
   ],
   "outputs": [
    {
     "data": {
      "text/plain": "(81, 9)"
     },
     "execution_count": 65,
     "metadata": {},
     "output_type": "execute_result"
    }
   ],
   "execution_count": 65
  },
  {
   "cell_type": "code",
   "outputs": [
    {
     "data": {
      "text/plain": "          dataset                                             prompt  \\\n0  housing_1.json  You are helping users understand an ML model's...   \n1  housing_1.json  You are helping users understand an ML model's...   \n0  housing_1.json  You are helping users understand an ML model's...   \n1  housing_2.json  You are helping users understand an ML model's...   \n2  housing_2.json  You are helping users understand an ML model's...   \n\n   total score  accuracy  completeness  fluency  conciseness  n_few_shot  \\\n0        15.24      3.52          3.92     3.80          4.0         1.0   \n1        14.96      3.20          3.92     3.84          4.0         3.0   \n0        15.24      3.52          4.00     3.72          4.0         5.0   \n1        16.00      4.00          4.00     4.00          4.0         1.0   \n2        16.00      4.00          4.00     4.00          4.0         3.0   \n\n   n_bootstrapped_few_shot  \n0                      NaN  \n1                      NaN  \n0                      NaN  \n1                      NaN  \n2                      NaN  ",
      "text/html": "<div>\n<style scoped>\n    .dataframe tbody tr th:only-of-type {\n        vertical-align: middle;\n    }\n\n    .dataframe tbody tr th {\n        vertical-align: top;\n    }\n\n    .dataframe thead th {\n        text-align: right;\n    }\n</style>\n<table border=\"1\" class=\"dataframe\">\n  <thead>\n    <tr style=\"text-align: right;\">\n      <th></th>\n      <th>dataset</th>\n      <th>prompt</th>\n      <th>total score</th>\n      <th>accuracy</th>\n      <th>completeness</th>\n      <th>fluency</th>\n      <th>conciseness</th>\n      <th>n_few_shot</th>\n      <th>n_bootstrapped_few_shot</th>\n    </tr>\n  </thead>\n  <tbody>\n    <tr>\n      <th>0</th>\n      <td>housing_1.json</td>\n      <td>You are helping users understand an ML model's...</td>\n      <td>15.24</td>\n      <td>3.52</td>\n      <td>3.92</td>\n      <td>3.80</td>\n      <td>4.0</td>\n      <td>1.0</td>\n      <td>NaN</td>\n    </tr>\n    <tr>\n      <th>1</th>\n      <td>housing_1.json</td>\n      <td>You are helping users understand an ML model's...</td>\n      <td>14.96</td>\n      <td>3.20</td>\n      <td>3.92</td>\n      <td>3.84</td>\n      <td>4.0</td>\n      <td>3.0</td>\n      <td>NaN</td>\n    </tr>\n    <tr>\n      <th>0</th>\n      <td>housing_1.json</td>\n      <td>You are helping users understand an ML model's...</td>\n      <td>15.24</td>\n      <td>3.52</td>\n      <td>4.00</td>\n      <td>3.72</td>\n      <td>4.0</td>\n      <td>5.0</td>\n      <td>NaN</td>\n    </tr>\n    <tr>\n      <th>1</th>\n      <td>housing_2.json</td>\n      <td>You are helping users understand an ML model's...</td>\n      <td>16.00</td>\n      <td>4.00</td>\n      <td>4.00</td>\n      <td>4.00</td>\n      <td>4.0</td>\n      <td>1.0</td>\n      <td>NaN</td>\n    </tr>\n    <tr>\n      <th>2</th>\n      <td>housing_2.json</td>\n      <td>You are helping users understand an ML model's...</td>\n      <td>16.00</td>\n      <td>4.00</td>\n      <td>4.00</td>\n      <td>4.00</td>\n      <td>4.0</td>\n      <td>3.0</td>\n      <td>NaN</td>\n    </tr>\n  </tbody>\n</table>\n</div>"
     },
     "execution_count": 66,
     "metadata": {},
     "output_type": "execute_result"
    }
   ],
   "source": [
    "df.head()"
   ],
   "metadata": {
    "collapsed": false,
    "ExecuteTime": {
     "end_time": "2024-08-30T19:26:27.661184Z",
     "start_time": "2024-08-30T19:26:27.651543Z"
    }
   },
   "id": "16bc62e64c45953b",
   "execution_count": 66
  },
  {
   "metadata": {
    "ExecuteTime": {
     "end_time": "2024-08-30T19:26:27.666645Z",
     "start_time": "2024-08-30T19:26:27.661184Z"
    }
   },
   "cell_type": "code",
   "source": [
    "dataset_names = {\"housing_1.json\": \"House 1\",\n",
    "                 \"housing_2.json\": \"House 2\",\n",
    "                 \"housing_3.json\": \"House 3\",\n",
    "                 \"mushroom_1.json\": \"Mush 1\",\n",
    "                 \"mushroom_2.json\": \"Mush 2\",\n",
    "                 \"student_1.json\": \"Student 1\",\n",
    "                 \"student_2.json\": \"Student 2\",\n",
    "                 \"pdf_1.json\": \"PDF 1\",\n",
    "                 \"pdf_2.json\": \"PDF 2\"}\n",
    "\n",
    "df['dataset'] = df['dataset'].map(dataset_names)"
   ],
   "id": "d41ebcdef9172472",
   "outputs": [],
   "execution_count": 67
  },
  {
   "metadata": {
    "ExecuteTime": {
     "end_time": "2024-08-30T19:26:27.672685Z",
     "start_time": "2024-08-30T19:26:27.667651Z"
    }
   },
   "cell_type": "code",
   "source": [
    "prompts_to_ids = {df['prompt'].unique()[0]: \"Prompt 1\", \n",
    "                  df['prompt'].unique()[1]: \"Prompt 2\",\n",
    "                  df['prompt'].unique()[2]: \"Prompt 3\"}\n",
    "\n",
    "df['prompt'] = df['prompt'].map(prompts_to_ids)"
   ],
   "id": "264341c60a357e14",
   "outputs": [],
   "execution_count": 68
  },
  {
   "metadata": {
    "ExecuteTime": {
     "end_time": "2024-08-30T19:26:27.681675Z",
     "start_time": "2024-08-30T19:26:27.673198Z"
    }
   },
   "cell_type": "code",
   "source": [
    "df[\"n_few_shot\"].fillna(0, inplace=True)\n",
    "df[\"n_bootstrapped_few_shot\"].fillna(0, inplace=True)\n",
    "\n",
    "df[\"n_few_shot\"] = df[\"n_few_shot\"].astype(int)\n",
    "df[\"n_bootstrapped_few_shot\"] = df[\"n_bootstrapped_few_shot\"].astype(int)\n",
    "\n",
    "df[\"n_few_shot\"].fillna(0, inplace=True)\n",
    "df[\"n_bootstrapped_few_shot\"].fillna(0, inplace=True)\n",
    "df.head()"
   ],
   "id": "718b2af9d228322e",
   "outputs": [
    {
     "data": {
      "text/plain": "   dataset    prompt  total score  accuracy  completeness  fluency  \\\n0  House 1  Prompt 1        15.24      3.52          3.92     3.80   \n1  House 1  Prompt 1        14.96      3.20          3.92     3.84   \n0  House 1  Prompt 1        15.24      3.52          4.00     3.72   \n1  House 2  Prompt 1        16.00      4.00          4.00     4.00   \n2  House 2  Prompt 1        16.00      4.00          4.00     4.00   \n\n   conciseness  n_few_shot  n_bootstrapped_few_shot  \n0          4.0           1                        0  \n1          4.0           3                        0  \n0          4.0           5                        0  \n1          4.0           1                        0  \n2          4.0           3                        0  ",
      "text/html": "<div>\n<style scoped>\n    .dataframe tbody tr th:only-of-type {\n        vertical-align: middle;\n    }\n\n    .dataframe tbody tr th {\n        vertical-align: top;\n    }\n\n    .dataframe thead th {\n        text-align: right;\n    }\n</style>\n<table border=\"1\" class=\"dataframe\">\n  <thead>\n    <tr style=\"text-align: right;\">\n      <th></th>\n      <th>dataset</th>\n      <th>prompt</th>\n      <th>total score</th>\n      <th>accuracy</th>\n      <th>completeness</th>\n      <th>fluency</th>\n      <th>conciseness</th>\n      <th>n_few_shot</th>\n      <th>n_bootstrapped_few_shot</th>\n    </tr>\n  </thead>\n  <tbody>\n    <tr>\n      <th>0</th>\n      <td>House 1</td>\n      <td>Prompt 1</td>\n      <td>15.24</td>\n      <td>3.52</td>\n      <td>3.92</td>\n      <td>3.80</td>\n      <td>4.0</td>\n      <td>1</td>\n      <td>0</td>\n    </tr>\n    <tr>\n      <th>1</th>\n      <td>House 1</td>\n      <td>Prompt 1</td>\n      <td>14.96</td>\n      <td>3.20</td>\n      <td>3.92</td>\n      <td>3.84</td>\n      <td>4.0</td>\n      <td>3</td>\n      <td>0</td>\n    </tr>\n    <tr>\n      <th>0</th>\n      <td>House 1</td>\n      <td>Prompt 1</td>\n      <td>15.24</td>\n      <td>3.52</td>\n      <td>4.00</td>\n      <td>3.72</td>\n      <td>4.0</td>\n      <td>5</td>\n      <td>0</td>\n    </tr>\n    <tr>\n      <th>1</th>\n      <td>House 2</td>\n      <td>Prompt 1</td>\n      <td>16.00</td>\n      <td>4.00</td>\n      <td>4.00</td>\n      <td>4.00</td>\n      <td>4.0</td>\n      <td>1</td>\n      <td>0</td>\n    </tr>\n    <tr>\n      <th>2</th>\n      <td>House 2</td>\n      <td>Prompt 1</td>\n      <td>16.00</td>\n      <td>4.00</td>\n      <td>4.00</td>\n      <td>4.00</td>\n      <td>4.0</td>\n      <td>3</td>\n      <td>0</td>\n    </tr>\n  </tbody>\n</table>\n</div>"
     },
     "execution_count": 69,
     "metadata": {},
     "output_type": "execute_result"
    }
   ],
   "execution_count": 69
  },
  {
   "metadata": {
    "ExecuteTime": {
     "end_time": "2024-08-30T19:26:27.693203Z",
     "start_time": "2024-08-30T19:26:27.681675Z"
    }
   },
   "cell_type": "code",
   "source": [
    "column_names = {\"dataset\": \"Dataset\",\n",
    "                \"prompt\": \"Prompt\",\n",
    "                \"n_few_shot\": \"$L$\",\n",
    "                \"n_bootstrapped_few_shot\": \"$B$\",\n",
    "                \"accuracy\": \"Accuracy\",\n",
    "                \"completeness\": \"Completeness\",\n",
    "                \"fluency\": \"Fluency\",\n",
    "                \"conciseness\": \"Conciseness\",\n",
    "                \"total score\": \"Total score\"}\n",
    "\n",
    "df = df.rename(columns=column_names)\n",
    "df = df[[\"Dataset\", \"Prompt\", \"$L$\", \"$B$\", \"Accuracy\", \"Completeness\", \"Fluency\", \"Conciseness\", \"Total score\"]]\n",
    "\n",
    "# round all scores to 3 decimal places\n",
    "df = df.round(3)\n",
    "\n",
    "df.to_csv(os.path.join(\"results\", \"cleaned_results.csv\"))\n",
    "\n",
    "df.head()"
   ],
   "id": "c1ed7a196f58cff6",
   "outputs": [
    {
     "data": {
      "text/plain": "   Dataset    Prompt  $L$  $B$  Accuracy  Completeness  Fluency  Conciseness  \\\n0  House 1  Prompt 1    1    0      3.52          3.92     3.80          4.0   \n1  House 1  Prompt 1    3    0      3.20          3.92     3.84          4.0   \n0  House 1  Prompt 1    5    0      3.52          4.00     3.72          4.0   \n1  House 2  Prompt 1    1    0      4.00          4.00     4.00          4.0   \n2  House 2  Prompt 1    3    0      4.00          4.00     4.00          4.0   \n\n   Total score  \n0        15.24  \n1        14.96  \n0        15.24  \n1        16.00  \n2        16.00  ",
      "text/html": "<div>\n<style scoped>\n    .dataframe tbody tr th:only-of-type {\n        vertical-align: middle;\n    }\n\n    .dataframe tbody tr th {\n        vertical-align: top;\n    }\n\n    .dataframe thead th {\n        text-align: right;\n    }\n</style>\n<table border=\"1\" class=\"dataframe\">\n  <thead>\n    <tr style=\"text-align: right;\">\n      <th></th>\n      <th>Dataset</th>\n      <th>Prompt</th>\n      <th>$L$</th>\n      <th>$B$</th>\n      <th>Accuracy</th>\n      <th>Completeness</th>\n      <th>Fluency</th>\n      <th>Conciseness</th>\n      <th>Total score</th>\n    </tr>\n  </thead>\n  <tbody>\n    <tr>\n      <th>0</th>\n      <td>House 1</td>\n      <td>Prompt 1</td>\n      <td>1</td>\n      <td>0</td>\n      <td>3.52</td>\n      <td>3.92</td>\n      <td>3.80</td>\n      <td>4.0</td>\n      <td>15.24</td>\n    </tr>\n    <tr>\n      <th>1</th>\n      <td>House 1</td>\n      <td>Prompt 1</td>\n      <td>3</td>\n      <td>0</td>\n      <td>3.20</td>\n      <td>3.92</td>\n      <td>3.84</td>\n      <td>4.0</td>\n      <td>14.96</td>\n    </tr>\n    <tr>\n      <th>0</th>\n      <td>House 1</td>\n      <td>Prompt 1</td>\n      <td>5</td>\n      <td>0</td>\n      <td>3.52</td>\n      <td>4.00</td>\n      <td>3.72</td>\n      <td>4.0</td>\n      <td>15.24</td>\n    </tr>\n    <tr>\n      <th>1</th>\n      <td>House 2</td>\n      <td>Prompt 1</td>\n      <td>1</td>\n      <td>0</td>\n      <td>4.00</td>\n      <td>4.00</td>\n      <td>4.00</td>\n      <td>4.0</td>\n      <td>16.00</td>\n    </tr>\n    <tr>\n      <th>2</th>\n      <td>House 2</td>\n      <td>Prompt 1</td>\n      <td>3</td>\n      <td>0</td>\n      <td>4.00</td>\n      <td>4.00</td>\n      <td>4.00</td>\n      <td>4.0</td>\n      <td>16.00</td>\n    </tr>\n  </tbody>\n</table>\n</div>"
     },
     "execution_count": 70,
     "metadata": {},
     "output_type": "execute_result"
    }
   ],
   "execution_count": 70
  },
  {
   "metadata": {
    "ExecuteTime": {
     "end_time": "2024-08-30T19:26:27.707460Z",
     "start_time": "2024-08-30T19:26:27.693203Z"
    }
   },
   "cell_type": "code",
   "source": [
    "df_by_technique = df.groupby([\"Prompt\", \"$L$\", \"$B$\"]).agg({\"Accuracy\": \"mean\", \"Completeness\": \"mean\", \"Fluency\": \"mean\", \"Conciseness\": \"mean\", \"Total score\": \"mean\"}).reset_index()\n",
    "\n",
    "df_by_technique = df_by_technique.round(3)\n",
    "\n",
    "df_by_technique.to_csv(os.path.join(\"results\", \"results_by_technique.csv\"))\n",
    "df_by_technique.to_latex(buf=os.path.join(\"results\", \"results_by_technique.tex\"), index=False, float_format=\"%.3f\", caption=\"Overall results for each prompt and few-shot setting.\")\n",
    "\n",
    "df_by_technique.head()"
   ],
   "id": "c66b5dcdc683e963",
   "outputs": [
    {
     "data": {
      "text/plain": "     Prompt  $L$  $B$  Accuracy  Completeness  Fluency  Conciseness  \\\n0  Prompt 1    0    0     3.911         4.000    2.266          4.0   \n1  Prompt 1    0    1     3.782         3.944    2.450          4.0   \n2  Prompt 1    0    3     3.800         3.936    2.477          4.0   \n3  Prompt 1    1    0     3.169         3.384    3.796          4.0   \n4  Prompt 1    3    0     3.156         3.428    3.751          4.0   \n\n   Total score  \n0       14.177  \n1       14.177  \n2       14.212  \n3       14.349  \n4       14.334  ",
      "text/html": "<div>\n<style scoped>\n    .dataframe tbody tr th:only-of-type {\n        vertical-align: middle;\n    }\n\n    .dataframe tbody tr th {\n        vertical-align: top;\n    }\n\n    .dataframe thead th {\n        text-align: right;\n    }\n</style>\n<table border=\"1\" class=\"dataframe\">\n  <thead>\n    <tr style=\"text-align: right;\">\n      <th></th>\n      <th>Prompt</th>\n      <th>$L$</th>\n      <th>$B$</th>\n      <th>Accuracy</th>\n      <th>Completeness</th>\n      <th>Fluency</th>\n      <th>Conciseness</th>\n      <th>Total score</th>\n    </tr>\n  </thead>\n  <tbody>\n    <tr>\n      <th>0</th>\n      <td>Prompt 1</td>\n      <td>0</td>\n      <td>0</td>\n      <td>3.911</td>\n      <td>4.000</td>\n      <td>2.266</td>\n      <td>4.0</td>\n      <td>14.177</td>\n    </tr>\n    <tr>\n      <th>1</th>\n      <td>Prompt 1</td>\n      <td>0</td>\n      <td>1</td>\n      <td>3.782</td>\n      <td>3.944</td>\n      <td>2.450</td>\n      <td>4.0</td>\n      <td>14.177</td>\n    </tr>\n    <tr>\n      <th>2</th>\n      <td>Prompt 1</td>\n      <td>0</td>\n      <td>3</td>\n      <td>3.800</td>\n      <td>3.936</td>\n      <td>2.477</td>\n      <td>4.0</td>\n      <td>14.212</td>\n    </tr>\n    <tr>\n      <th>3</th>\n      <td>Prompt 1</td>\n      <td>1</td>\n      <td>0</td>\n      <td>3.169</td>\n      <td>3.384</td>\n      <td>3.796</td>\n      <td>4.0</td>\n      <td>14.349</td>\n    </tr>\n    <tr>\n      <th>4</th>\n      <td>Prompt 1</td>\n      <td>3</td>\n      <td>0</td>\n      <td>3.156</td>\n      <td>3.428</td>\n      <td>3.751</td>\n      <td>4.0</td>\n      <td>14.334</td>\n    </tr>\n  </tbody>\n</table>\n</div>"
     },
     "execution_count": 71,
     "metadata": {},
     "output_type": "execute_result"
    }
   ],
   "execution_count": 71
  },
  {
   "metadata": {
    "ExecuteTime": {
     "end_time": "2024-08-30T19:34:09.706060Z",
     "start_time": "2024-08-30T19:34:09.692527Z"
    }
   },
   "cell_type": "code",
   "source": [
    "# BY TECHNIQUE WITH STD DEV\n",
    "\n",
    "# Group by the specified columns and calculate both mean and standard deviation\n",
    "df_by_technique_mean = df.groupby([\"Prompt\", \"$L$\", \"$B$\"]).agg({\n",
    "    \"Accuracy\": \"mean\", \n",
    "    \"Completeness\": \"mean\", \n",
    "    \"Fluency\": \"mean\", \n",
    "    \"Conciseness\": \"mean\", \n",
    "    \"Total score\": \"mean\"\n",
    "}).reset_index()\n",
    "\n",
    "df_by_technique_std = df.groupby([\"Prompt\", \"$L$\", \"$B$\"]).agg({\n",
    "    \"Accuracy\": \"std\", \n",
    "    \"Completeness\": \"std\", \n",
    "    \"Fluency\": \"std\", \n",
    "    \"Conciseness\": \"std\", \n",
    "    \"Total score\": \"std\"\n",
    "}).reset_index()\n",
    "\n",
    "# Combine mean and standard deviation into the desired format: mean (std)\n",
    "for column in [\"Accuracy\", \"Completeness\", \"Fluency\", \"Conciseness\", \"Total score\"]:\n",
    "    df_by_technique_mean[column] = df_by_technique_mean[column].apply(lambda x: f\"{x:.3f}\") + \" (\" + df_by_technique_std[column].apply(lambda x: f\"{x:.2f}\") + \")\"\n",
    "\n",
    "# Save to CSV and LaTeX\n",
    "df_by_technique_mean.to_csv(os.path.join(\"results\", \"results_by_technique.csv\"), index=False)\n",
    "df_by_technique_mean.to_latex(\n",
    "    buf=os.path.join(\"results\", \"results_by_technique.tex\"), \n",
    "    index=False, \n",
    "    escape=False,  # escape=False allows LaTeX formatting (like parentheses) to be preserved\n",
    "    caption=\"Overall results for each prompt and few-shot setting.\"\n",
    ")"
   ],
   "id": "fb837c0bab1872e7",
   "outputs": [],
   "execution_count": 79
  },
  {
   "cell_type": "code",
   "outputs": [],
   "source": [
    "df_by_technique_mean.head()\n",
    "df_by_dataset = df.groupby([\"Dataset\"]).agg({\"Accuracy\": \"mean\", \"Completeness\": \"mean\", \"Fluency\": \"mean\", \"Conciseness\": \"mean\", \"Total score\": \"mean\"}).reset_index()\n",
    "\n",
    "df_by_dataset = df_by_dataset.round(3)\n",
    "\n",
    "df_by_dataset.to_csv(os.path.join(\"results\", \"results_by_dataset.csv\"))\n",
    "df_by_dataset.to_latex(buf=os.path.join(\"results\", \"results_by_dataset.tex\"), index=False, float_format=\"%.3f\", caption=\"Overall results for each prompt and few-shot setting.\")\n",
    "\n",
    "df_by_dataset.head()"
   ],
   "metadata": {
    "collapsed": false,
    "ExecuteTime": {
     "end_time": "2024-08-30T19:26:27.724192Z",
     "start_time": "2024-08-30T19:26:27.722105Z"
    }
   },
   "id": "a1ca0319cf7bc372",
   "execution_count": 72
  },
  {
   "cell_type": "code",
   "outputs": [],
   "source": [
    "# BY DATASET WITH STD DEV\n",
    "\n",
    "# Group by the specified columns and calculate both mean and standard deviation\n",
    "df_by_dataset_mean = df.groupby([\"Dataset\"]).agg({\n",
    "    \"Accuracy\": \"mean\", \n",
    "    \"Completeness\": \"mean\", \n",
    "    \"Fluency\": \"mean\", \n",
    "    \"Conciseness\": \"mean\", \n",
    "    \"Total score\": \"mean\"\n",
    "}).reset_index()\n",
    "\n",
    "df_by_dataset_std = df.groupby([\"Dataset\"]).agg({\n",
    "    \"Accuracy\": \"std\", \n",
    "    \"Completeness\": \"std\", \n",
    "    \"Fluency\": \"std\", \n",
    "    \"Conciseness\": \"std\", \n",
    "    \"Total score\": \"std\"\n",
    "}).reset_index()\n",
    "\n",
    "# Combine mean and standard deviation into the desired format: mean (std)\n",
    "for column in [\"Accuracy\", \"Completeness\", \"Fluency\", \"Conciseness\", \"Total score\"]:\n",
    "    df_by_dataset_mean[column] = df_by_dataset_mean[column].apply(lambda x: f\"{x:.3f}\") + \" (\" + df_by_dataset_mean[column].apply(lambda x: f\"{x:.2f}\") + \")\"\n",
    "\n",
    "# Save to CSV and LaTeX\n",
    "df_by_dataset_mean.to_csv(os.path.join(\"results\", \"results_by_dataset.csv\"), index=False)\n",
    "df_by_dataset_mean.to_latex(\n",
    "    buf=os.path.join(\"results\", \"results_by_dataset.tex\"), \n",
    "    index=False, \n",
    "    escape=False,  # escape=False allows LaTeX formatting (like parentheses) to be preserved\n",
    "    caption=\"Overall results for each prompt and few-shot setting.\"\n",
    ")"
   ],
   "metadata": {
    "collapsed": false,
    "ExecuteTime": {
     "end_time": "2024-08-30T19:36:42.587420Z",
     "start_time": "2024-08-30T19:36:42.575674Z"
    }
   },
   "id": "77e6e1098594f04c",
   "execution_count": 80
  },
  {
   "cell_type": "code",
   "outputs": [],
   "source": [],
   "metadata": {
    "collapsed": false
   },
   "id": "f4d2574d648213bb"
  }
 ],
 "metadata": {
  "kernelspec": {
   "display_name": "Python 3",
   "language": "python",
   "name": "python3"
  },
  "language_info": {
   "codemirror_mode": {
    "name": "ipython",
    "version": 2
   },
   "file_extension": ".py",
   "mimetype": "text/x-python",
   "name": "python",
   "nbconvert_exporter": "python",
   "pygments_lexer": "ipython2",
   "version": "2.7.6"
  }
 },
 "nbformat": 4,
 "nbformat_minor": 5
}
