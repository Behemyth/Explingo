{
  "nbformat": 4,
  "nbformat_minor": 0,
  "metadata": {
    "colab": {
      "private_outputs": true,
      "provenance": [],
      "authorship_tag": "ABX9TyOmS50S3e5zx+hXUrS8Vfv+",
      "include_colab_link": true
    },
    "kernelspec": {
      "name": "python3",
      "display_name": "Python 3"
    },
    "language_info": {
      "name": "python"
    }
  },
  "cells": [
    {
      "cell_type": "markdown",
      "metadata": {
        "id": "view-in-github",
        "colab_type": "text"
      },
      "source": [
        "<a href=\"https://colab.research.google.com/github/sibyl-dev/Explingo/blob/main/basic_llm_setup.ipynb\" target=\"_parent\"><img src=\"https://colab.research.google.com/assets/colab-badge.svg\" alt=\"Open In Colab\"/></a>"
      ]
    },
    {
      "cell_type": "code",
      "execution_count": null,
      "metadata": {
        "id": "1WeeBFF_T9Tk"
      },
      "outputs": [],
      "source": [
        "!pip install openai"
      ]
    },
    {
      "cell_type": "code",
      "source": [
        "import openai\n",
        "from google.colab import userdata"
      ],
      "metadata": {
        "id": "8h1O2H2RUQG0"
      },
      "execution_count": null,
      "outputs": []
    },
    {
      "cell_type": "code",
      "source": [
        "# Perform tasks using OpenAI API\n",
        "client = openai.OpenAI(\n",
        "  api_key=userdata.get('openai'),\n",
        ")"
      ],
      "metadata": {
        "id": "9i9uWKm-UViz"
      },
      "execution_count": null,
      "outputs": []
    },
    {
      "cell_type": "code",
      "source": [
        "from openai import OpenAI\n",
        "\n",
        "prompt =  (\"You are a helpful assistant. \"\n",
        "           \"You are talking to a user who is not familiar with ML or data science. \"\n",
        "           \"You are helping them understand their ML model's predictions.\")\n",
        "question =  (\"Convert this feature contibution explanation, generated using SHAP, into a simple narrative. \"\n",
        "             \"The explanation is presented in (feature, feature_value, contribution) format: \")\n",
        "explanation = (\"\")\n",
        "\n",
        "response = client.chat.completions.create(\n",
        "  model=\"gpt-3.5-turbo-0125\",\n",
        "  messages=[\n",
        "    {\"role\": \"system\", \"content\": prompt},\n",
        "    {\"role\": \"user\", \"content\": question + explanation}\n",
        "  ],\n",
        "  max_tokens=32\n",
        ")"
      ],
      "metadata": {
        "id": "sLcpjA49UV5l"
      },
      "execution_count": null,
      "outputs": []
    },
    {
      "cell_type": "code",
      "source": [
        "for choice in response.choices:\n",
        "  print(choice.message.content)"
      ],
      "metadata": {
        "id": "UPMzN2lHU-1S"
      },
      "execution_count": null,
      "outputs": []
    },
    {
      "cell_type": "code",
      "source": [],
      "metadata": {
        "id": "CY9LSqHbVQau"
      },
      "execution_count": null,
      "outputs": []
    }
  ]
}